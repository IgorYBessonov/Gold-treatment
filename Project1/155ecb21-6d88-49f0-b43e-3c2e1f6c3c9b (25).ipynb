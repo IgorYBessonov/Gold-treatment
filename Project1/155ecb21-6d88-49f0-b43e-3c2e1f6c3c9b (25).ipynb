{
 "cells": [
  {
   "cell_type": "markdown",
   "metadata": {},
   "source": [
    "<font color='blue' size=5><b>Комментарий ревьюера</b></font>\n",
    "\n",
    "<font color='blue'>Привет, Игорь! Меня зовут Павел Григорьев, и я буду проверять этот проект.<br>Моя основная цель - не указать на совершённые тобой ошибки, а поделиться своим опытом и помочь тебе совершенствоваться как профессионалу.<br>Спасибо за проделанную работу! Предлагаю общаться на «ты».</font>\n",
    "<details>\n",
    "\t<summary><u>Инструкция по организационным мометнам (кликабельно)</u></summary>\n",
    "<font color='blue'>Я буду использовать различные цвета, чтобы было удобнее воспринимать мои комментарии:</font>\n",
    "\n",
    "\n",
    "---\n",
    "\n",
    "\n",
    "<font color='blue'>синий текст - просто текст комментария</font>\n",
    "\n",
    "<font color='green'>✔️ и зеленый текст - все отлично</font>\n",
    "\n",
    "<font color='orange'>⚠️ и оранжевый текст - сделано все правильно, однако есть рекомендации, на что стоит обратить внимание</font>\n",
    "\n",
    "<font color='red'>❌ и красный текст - есть недочеты</font>\n",
    "\n",
    "\n",
    "</details>    \n",
    "    </br>\n",
    "<font color='blue'>Пожалуйста, не удаляй мои комментарии в случае возврата работы, так будет проще разобраться, какие были недочеты, а также сразу увидеть исправленное. </font>\n",
    "\n",
    "Ответы на мои комментарии лучше тоже помечать.\n",
    "Например: <font color='purple'><b>Комментарий студента</b></font>\n",
    "\n",
    "<font color='blue'><b>Давай смотреть, что получилось!</b></font>"
   ]
  },
  {
   "cell_type": "markdown",
   "metadata": {},
   "source": [
    "<font color='blue' size=3><b>Комментарий ревьюера 2</b></font>\n",
    "\n",
    "<font color='blue'>Привет еще раз. Спасибо, за исправления. Оформление комментариев по работе сохраняется. Только обозначим, что это вторая итерация.</font>"
   ]
  },
  {
   "cell_type": "markdown",
   "metadata": {
    "toc": true
   },
   "source": [
    "<h1>Содержание<span class=\"tocSkip\"></span></h1>\n",
    "<div class=\"toc\"><ul class=\"toc-item\"><li><span><a href=\"#Подготовка-данных\" data-toc-modified-id=\"Подготовка-данных-1\"><span class=\"toc-item-num\">1&nbsp;&nbsp;</span>Подготовка данных</a></span></li><li><span><a href=\"#Анализ-данных\" data-toc-modified-id=\"Анализ-данных-2\"><span class=\"toc-item-num\">2&nbsp;&nbsp;</span>Анализ данных</a></span></li><li><span><a href=\"#Модель\" data-toc-modified-id=\"Модель-3\"><span class=\"toc-item-num\">3&nbsp;&nbsp;</span>Модель</a></span></li><li><span><a href=\"#Чек-лист-готовности-проекта\" data-toc-modified-id=\"Чек-лист-готовности-проекта-4\"><span class=\"toc-item-num\">4&nbsp;&nbsp;</span>Чек-лист готовности проекта</a></span></li></ul></div>"
   ]
  },
  {
   "cell_type": "markdown",
   "metadata": {},
   "source": [
    "# Восстановление золота из руды"
   ]
  },
  {
   "cell_type": "markdown",
   "metadata": {},
   "source": [
    "Подготовьте прототип модели машинного обучения для «Цифры». Компания разрабатывает решения для эффективной работы промышленных предприятий.\n",
    "\n",
    "Модель должна предсказать коэффициент восстановления золота из золотосодержащей руды. Используйте данные с параметрами добычи и очистки. \n",
    "\n",
    "Модель поможет оптимизировать производство, чтобы не запускать предприятие с убыточными характеристиками.\n",
    "\n",
    "Содержание:\n",
    "\n",
    "1.\tПодготовка данных\\\n",
    "\n",
    "   1.1.\tЗагрузка данных\n",
    "   \n",
    "   1.2.\tПроверка корректности расчёта эффективности обогащения на обучающей выборке для признака rougher.output.recovery. Определение MAE между расчётами и значением признака.\n",
    "   \n",
    "   1.3.\t Анализ признаков, недоступных в тестовой выборке.\n",
    "   \n",
    "   1.4.\tПроверка качества данных. Проверить и обработать пропуски\n",
    "   \n",
    "2.\tАнализ данных\n",
    "\n",
    "   2.1.\tКак меняется концентрация металлов (Au, Ag, Pb) на различных этапах очистки.\n",
    "   \n",
    "   2.2.\tСравнение распределения размеров гранул сырья на обучающей и тестовой выборках.\n",
    "   \n",
    "   2.3.\tИследование суммарной концентрации всех веществ на разных стадиях: в сырье, в черновом и финальном концентратах.\n",
    "   \n",
    "3.\tМодель\\\n",
    "   3.1. Выбор модели\\\n",
    "   3.2. Моделирование выбранной моделью\\\n",
    "   3.3. Сравнение с константной моделью DummyRegressor.\n"
   ]
  },
  {
   "cell_type": "code",
   "execution_count": 1,
   "metadata": {},
   "outputs": [],
   "source": [
    "#import libraries\n",
    "import pandas as pd\n",
    "import seaborn as sns\n",
    "import matplotlib.pyplot as plt\n",
    "import numpy as np\n",
    "\n",
    "from IPython.display import display, HTML #to display all rows and columns\n",
    "pd.set_option('display.max_columns', None)\n",
    "pd.set_option('display.max_rows', None) \n",
    "\n",
    "from sklearn.metrics import mean_absolute_error #for MAE\n",
    "from sklearn.metrics import make_scorer\n",
    "\n",
    "from sklearn.model_selection import cross_val_score\n",
    "from sklearn.model_selection import train_test_split\n",
    "from sklearn.linear_model import LinearRegression\n",
    "from sklearn.tree import DecisionTreeRegressor\n",
    "from sklearn.ensemble import RandomForestRegressor\n",
    "from sklearn.dummy import DummyRegressor\n",
    "from sklearn.model_selection import GridSearchCV\n"
   ]
  },
  {
   "cell_type": "markdown",
   "metadata": {},
   "source": [
    "<font color='blue'><b>Комментарий ревьюера: </b></font> ✔️\\\n",
    "<font color='green'> Хорошее оформление импортов! \\\n",
    "Импорты собраны в одной ячейке, разделены на функциональные группы пустой строкой.</font>"
   ]
  },
  {
   "cell_type": "markdown",
   "metadata": {},
   "source": [
    "## Подготовка данных"
   ]
  },
  {
   "cell_type": "markdown",
   "metadata": {},
   "source": [
    "**1.1. Download data**"
   ]
  },
  {
   "cell_type": "code",
   "execution_count": 2,
   "metadata": {},
   "outputs": [],
   "source": [
    "df_train_raw = pd.read_csv('/datasets/gold_recovery_train_new.csv') \n",
    "df_test_raw = pd.read_csv('/datasets/gold_recovery_test_new.csv') \n",
    "df_full_raw = pd.read_csv('/datasets/gold_recovery_full_new.csv') "
   ]
  },
  {
   "cell_type": "markdown",
   "metadata": {},
   "source": [
    "<font color='blue'><b>Комментарий ревьюера: </b></font> ✔️\\\n",
    "<font color='green'>Данные загружены корректно.</font>"
   ]
  },
  {
   "cell_type": "markdown",
   "metadata": {},
   "source": [
    "**1.2. Проверка корректности расчёта эффективности обогащения на обучающей выборке для признака rougher.output.recovery. Определение MAE между расчётами и значением признака.**"
   ]
  },
  {
   "cell_type": "code",
   "execution_count": 3,
   "metadata": {},
   "outputs": [],
   "source": [
    "# 1. calculate recovery\n",
    "# 2. compare with df_train_raw['rougher.output.recovery'] by MAE\n",
    "\n",
    "# 1. recovery\n",
    "c_au = df_train_raw['rougher.output.concentrate_au']  #доля золота в концентрате после флотации/очистки;\n",
    "f_au = df_train_raw['rougher.input.feed_au'] #доля золота в сырье/концентрате до флотации/очистки;\n",
    "t_au = df_train_raw['rougher.output.tail_au']  #доля золота в отвальных хвостах после флотации/очистки.\n",
    "\n",
    "df_train_raw['recovery_au'] = (c_au * (f_au - t_au)) / (f_au * (c_au - t_au)) * 100"
   ]
  },
  {
   "cell_type": "markdown",
   "metadata": {},
   "source": [
    "<font color='blue'><b>Комментарий ревьюера: </b></font> ✔️\\\n",
    "<font color='green'>Расчёт верный!</font>"
   ]
  },
  {
   "cell_type": "code",
   "execution_count": 4,
   "metadata": {
    "scrolled": false
   },
   "outputs": [
    {
     "data": {
      "text/plain": [
       "9.73512347450521e-15"
      ]
     },
     "execution_count": 4,
     "metadata": {},
     "output_type": "execute_result"
    }
   ],
   "source": [
    "# 2. compare with df_train_raw['rougher.output.recovery'] with MAE\n",
    "mean_absolute_error(df_train_raw['rougher.output.recovery'] , df_train_raw['recovery_au'])"
   ]
  },
  {
   "cell_type": "code",
   "execution_count": 5,
   "metadata": {},
   "outputs": [],
   "source": [
    "#df_train_raw.drop('recovery_au', axis=1)"
   ]
  },
  {
   "cell_type": "markdown",
   "metadata": {},
   "source": [
    "**Вывод**\n",
    "\n",
    "Среднее абсолютно отклонение MAE практически равно нулю. Следовательно, данные подходят для дальнейшего анализа"
   ]
  },
  {
   "cell_type": "markdown",
   "metadata": {},
   "source": [
    "<font color='blue'><b>Комментарий ревьюера: </b></font> ✔️\\\n",
    "<font color='green'>👍</font>"
   ]
  },
  {
   "cell_type": "markdown",
   "metadata": {},
   "source": [
    "**1.3. Анализ признаков, недоступных в тестовой выборке.** "
   ]
  },
  {
   "cell_type": "code",
   "execution_count": 6,
   "metadata": {},
   "outputs": [],
   "source": [
    "#df_train_raw.info()  \n",
    "#df_train_raw.shape"
   ]
  },
  {
   "cell_type": "code",
   "execution_count": 7,
   "metadata": {},
   "outputs": [],
   "source": [
    "#df_test_raw.info()  \n",
    "#df_test_raw.shape"
   ]
  },
  {
   "cell_type": "code",
   "execution_count": 8,
   "metadata": {
    "scrolled": true
   },
   "outputs": [],
   "source": [
    "#df_full_raw.info()  \n",
    "#df_full_raw.shape"
   ]
  },
  {
   "cell_type": "markdown",
   "metadata": {},
   "source": [
    "**Вывод**\n",
    "\n",
    "Исследование, недоступных в тестовой выборке данных проведено в Экселе.\n",
    "\n",
    "В тестовой выборке отсутствуют данные:\n",
    "1. параметры продукта и хвостов (rougher.output. ...), а также эффективности обогащения после флотации  - целевой признак\n",
    "2. расчётные характеристики после флотации (rougher.output.concentrate_..)\n",
    "3. параметры продукта и хвостов после первичной очистки (primary_cleaner.output. ...) \n",
    "4. параметры хвостов после вторичной очистки (secondary_cleaner.output.tail_..)\n",
    "5. параметры финального продукта концентрата (final.output.concentrate_..)  и хвостов (final.output.tail_..)\n",
    "6. эффективность обогащения финального продукта (final.output.recovery)  - целевой признак\n",
    "\n",
    "В выборке Train представленны только входные данные и отсутвуют итоговые и расчётные данные, которые появляются в результате завершения каждого этапа.\n",
    "\n",
    "Dataset df_full_raw хранит все данные из выборок train и test"
   ]
  },
  {
   "cell_type": "markdown",
   "metadata": {},
   "source": [
    "<font color='blue'><b>Комментарий ревьюера: </b></font> ✔️\\\n",
    "<font color='green'> Верно!</font>"
   ]
  },
  {
   "cell_type": "markdown",
   "metadata": {},
   "source": [
    "**1.4.\tПроверка качества данных. Проверить и обработать пропуски**"
   ]
  },
  {
   "cell_type": "code",
   "execution_count": 9,
   "metadata": {},
   "outputs": [],
   "source": [
    "#df_train_raw.info()  \n",
    "#df_train_raw.head(5)"
   ]
  },
  {
   "cell_type": "code",
   "execution_count": 10,
   "metadata": {},
   "outputs": [],
   "source": [
    "#df_train_raw.info()  \n",
    "#df_test_raw.head(5)"
   ]
  },
  {
   "cell_type": "markdown",
   "metadata": {},
   "source": [
    "**Вывод**\n",
    "\n",
    "1. необходимо исправить формат Date на DateTime\n",
    "\n",
    "2. в названиях колонок есть символ '.' . На выходе столбцы должны быть расписаны через точку, так как это нужно инженерам. Оставим как есть."
   ]
  },
  {
   "cell_type": "code",
   "execution_count": 11,
   "metadata": {},
   "outputs": [
    {
     "data": {
      "text/plain": [
       "0    2016-01-15 00:00:00\n",
       "Name: date, dtype: object"
      ]
     },
     "metadata": {},
     "output_type": "display_data"
    },
    {
     "data": {
      "text/plain": [
       "0   2016-01-15 00:00:00\n",
       "1   2016-01-15 01:00:00\n",
       "Name: date, dtype: datetime64[ns]"
      ]
     },
     "metadata": {},
     "output_type": "display_data"
    },
    {
     "data": {
      "text/plain": [
       "0   2016-09-01 00:59:59\n",
       "1   2016-09-01 01:59:59\n",
       "Name: date, dtype: datetime64[ns]"
      ]
     },
     "metadata": {},
     "output_type": "display_data"
    },
    {
     "data": {
      "text/plain": [
       "0   2016-01-15 00:00:00\n",
       "1   2016-01-15 01:00:00\n",
       "Name: date, dtype: datetime64[ns]"
      ]
     },
     "metadata": {},
     "output_type": "display_data"
    }
   ],
   "source": [
    "#create copy of datasets\n",
    "\n",
    "df_train = df_train_raw\n",
    "df_test = df_test_raw\n",
    "df_full = df_full_raw\n",
    "\n",
    "#change data format\n",
    "display(df_train['date'].head(1))\n",
    "\n",
    "df_train['date'] = pd.to_datetime(df_train['date'], format='%Y-%m-%d %H:%M:%S')\n",
    "df_test['date'] = pd.to_datetime(df_test['date'], format='%Y-%m-%d %H:%M:%S')\n",
    "df_full['date'] = pd.to_datetime(df_full['date'], format='%Y-%m-%d %H:%M:%S')\n",
    "\n",
    "display(df_train['date'].head(2))\n",
    "display(df_test['date'].head(2))\n",
    "display(df_full['date'].head(2))"
   ]
  },
  {
   "cell_type": "markdown",
   "metadata": {},
   "source": [
    "Проверить и обработать пропуски"
   ]
  },
  {
   "cell_type": "code",
   "execution_count": 12,
   "metadata": {
    "scrolled": false
   },
   "outputs": [
    {
     "name": "stdout",
     "output_type": "stream",
     "text": [
      "4100\n",
      "90\n"
     ]
    }
   ],
   "source": [
    "print(df_train_raw.isna().sum().sum())\n",
    "print(df_test_raw.isna().sum().sum())\n",
    "#display(df_train_raw.loc[df_train_raw['rougher.input.feed_pb'].isna()].head(10))\n"
   ]
  },
  {
   "cell_type": "markdown",
   "metadata": {},
   "source": [
    "**Вывод**\n",
    "\n",
    "общее количество пропусков 4100 шт, что составляет 28,9% от выборки train. Достаточно большое количество. Взаимосвязей в пропусках данных не выявлено, скорее всего технические причины.\n",
    "\n",
    "Обработка: количество пропусков слишком большое для удаления. В описании проекта указано, что соседние по времени параметры часто похожи. Это даёт основание заменить пропуски предыдущим по времени значением."
   ]
  },
  {
   "cell_type": "code",
   "execution_count": 13,
   "metadata": {
    "scrolled": false
   },
   "outputs": [
    {
     "name": "stderr",
     "output_type": "stream",
     "text": [
      "/tmp/ipykernel_48/1442816144.py:8: SettingWithCopyWarning: \n",
      "A value is trying to be set on a copy of a slice from a DataFrame\n",
      "\n",
      "See the caveats in the documentation: https://pandas.pydata.org/pandas-docs/stable/user_guide/indexing.html#returning-a-view-versus-a-copy\n",
      "  df_train[columns][i] = df_train[columns][i-1]\n"
     ]
    },
    {
     "name": "stdout",
     "output_type": "stream",
     "text": [
      "0\n"
     ]
    },
    {
     "name": "stderr",
     "output_type": "stream",
     "text": [
      "/tmp/ipykernel_48/1442816144.py:21: SettingWithCopyWarning: \n",
      "A value is trying to be set on a copy of a slice from a DataFrame\n",
      "\n",
      "See the caveats in the documentation: https://pandas.pydata.org/pandas-docs/stable/user_guide/indexing.html#returning-a-view-versus-a-copy\n",
      "  df_test[columns][i] = df_test[columns][i-1]\n"
     ]
    },
    {
     "name": "stdout",
     "output_type": "stream",
     "text": [
      "0\n"
     ]
    }
   ],
   "source": [
    "#process the gaps\n",
    "\n",
    "#1. create function for substitution of NaN with previous value in df_train\n",
    "\n",
    "def gaps_train(columns):\n",
    "    for i in range(len(df_train[columns])):\n",
    "        if df_train[columns][i] != df_train[columns][i]:\n",
    "            df_train[columns][i] = df_train[columns][i-1]\n",
    "\n",
    "\n",
    "#2. transmit array with columns to function\n",
    "for column in df_train.columns:\n",
    "    gaps_train(column)\n",
    "\n",
    "print(df_train_raw.isna().sum().sum())\n",
    "\n",
    "#3. the same actions for df_test\n",
    "def gaps_test(columns):\n",
    "    for i in range(len(df_test[columns])):\n",
    "        if df_test[columns][i] != df_test[columns][i]:\n",
    "            df_test[columns][i] = df_test[columns][i-1]\n",
    "\n",
    "\n",
    "for column in df_test.columns:\n",
    "    gaps_test(column)\n",
    "\n",
    "print(df_test_raw.isna().sum().sum())"
   ]
  },
  {
   "cell_type": "markdown",
   "metadata": {},
   "source": [
    "<font color='blue'><b>Комментарий ревьюера: </b></font> ⚠️\\\n",
    "<font color='darkorange'> В Pandas есть метод  `ffill`, он заролняет пропусу=ки предыдущим значением в колонке.</font>"
   ]
  },
  {
   "cell_type": "markdown",
   "metadata": {},
   "source": [
    "<font color='purple'><b>Комментарий студента:</b></font>\\\n",
    "<font color='purple'><b>Так и знал, что должен быть такой метод :) Не смог нагуглить :(</b></font>"
   ]
  },
  {
   "cell_type": "markdown",
   "metadata": {},
   "source": [
    "<font color='blue'><b>Комментарий ревьюера 2: </b></font> ✔️\\\n",
    "<font color='green'>👍</font>"
   ]
  },
  {
   "cell_type": "markdown",
   "metadata": {},
   "source": [
    "## Анализ данных"
   ]
  },
  {
   "cell_type": "markdown",
   "metadata": {},
   "source": [
    "**2.1. Как меняется концентрация металлов (Au, Ag, Pb) на различных этапах очистки.**"
   ]
  },
  {
   "cell_type": "markdown",
   "metadata": {},
   "source": [
    "Результаты этапов:\n",
    "1. Флотация вход:  rougher.input.feed_..\n",
    "2. Черновой концентрат: rougher.output.concentrate_..\n",
    "3. Первичная очистка: primary_cleaner.output.concentrate_..\n",
    "3. Финанльный концентрат: final.output.concentrate_..\n",
    "\n",
    "Отобразить на графиках по каждому металлу концентрацию на каждом этапе. \n",
    "\n",
    "Тип графика - гистограмма\n",
    "\n",
    "Необходимые данные:\n",
    "1. среднее значение по этапам для каждого металла. \n",
    "   - проверить значения методом describe для выявления аномалий\n",
    "2. создать DataFrame со значениями для каждого металла\n",
    "3. вывести графики\n",
    "4. описать: как меняется концентрация каждого металла "
   ]
  },
  {
   "cell_type": "code",
   "execution_count": 14,
   "metadata": {
    "scrolled": false
   },
   "outputs": [],
   "source": [
    "#print(df_train['rougher.input.feed_au'].describe())\n",
    "#print()\n",
    "#print(df_train['rougher.input.feed_ag'].describe())\n",
    "#print()\n",
    "#print(df_train['rougher.input.feed_pb'].describe())\n",
    "\n",
    "#т.к. разброс значений достаточно большой, возмём медиану\n",
    "\n",
    "#функция для медиан по каждому металлу c графиками\n",
    "\n",
    "def medians(material):\n",
    "    stage_1 = df_train['rougher.input.feed_' + material].median()\n",
    "    stage_2 = df_train['rougher.output.concentrate_' + material].median()\n",
    "    stage_3 = df_train['primary_cleaner.output.concentrate_' + material].median()\n",
    "    stage_4 = df_train['final.output.concentrate_' + material].median()\n",
    "    \n",
    "    df_concentrate = pd.DataFrame(\n",
    "        {\n",
    "            'Stage_name': [\n",
    "                'rougher_input_'+ material,\n",
    "                'rough concentrate_'+ material,\n",
    "                'primary_cleaner_'+ material,\n",
    "                'final_concentrate_'+ material,      \n",
    "            ],\n",
    "            'Concentrate_'+ material: [\n",
    "                stage_1,\n",
    "                stage_2,\n",
    "                stage_3,\n",
    "                stage_4,\n",
    "            ],\n",
    "        }\n",
    "    )\n",
    "    \n",
    "    \n",
    "    df_concentrate.plot(\n",
    "        kind='bar',\n",
    "        x='Stage_name',\n",
    "        label='Изменение концентрации металла ' + material,\n",
    "        grid=True,\n",
    "        figsize=(10, 5)\n",
    "    );\n",
    "    plt.title('Изменение концентрации металла ' + material)\n",
    "    plt.xlabel('Stage name')\n",
    "    plt.ylabel('Concentrate, %')\n",
    "    plt.show()\n",
    "\n",
    "    display(df_concentrate)\n",
    "    return"
   ]
  },
  {
   "cell_type": "code",
   "execution_count": 15,
   "metadata": {},
   "outputs": [
    {
     "data": {
      "image/png": "[encoded data removed]",
      "text/plain": [
       "<Figure size 720x360 with 1 Axes>"
      ]
     },
     "metadata": {
      "needs_background": "light"
     },
     "output_type": "display_data"
    },
    {
     "data": {
      "text/html": [
       "<div>\n",
       "<style scoped>\n",
       "    .dataframe tbody tr th:only-of-type {\n",
       "        vertical-align: middle;\n",
       "    }\n",
       "\n",
       "    .dataframe tbody tr th {\n",
       "        vertical-align: top;\n",
       "    }\n",
       "\n",
       "    .dataframe thead th {\n",
       "        text-align: right;\n",
       "    }\n",
       "</style>\n",
       "<table border=\"1\" class=\"dataframe\">\n",
       "  <thead>\n",
       "    <tr style=\"text-align: right;\">\n",
       "      <th></th>\n",
       "      <th>Stage_name</th>\n",
       "      <th>Concentrate_au</th>\n",
       "    </tr>\n",
       "  </thead>\n",
       "  <tbody>\n",
       "    <tr>\n",
       "      <th>0</th>\n",
       "      <td>rougher_input_au</td>\n",
       "      <td>7.649138</td>\n",
       "    </tr>\n",
       "    <tr>\n",
       "      <th>1</th>\n",
       "      <td>rough concentrate_au</td>\n",
       "      <td>19.947312</td>\n",
       "    </tr>\n",
       "    <tr>\n",
       "      <th>2</th>\n",
       "      <td>primary_cleaner_au</td>\n",
       "      <td>33.225835</td>\n",
       "    </tr>\n",
       "    <tr>\n",
       "      <th>3</th>\n",
       "      <td>final_concentrate_au</td>\n",
       "      <td>44.872436</td>\n",
       "    </tr>\n",
       "  </tbody>\n",
       "</table>\n",
       "</div>"
      ],
      "text/plain": [
       "             Stage_name  Concentrate_au\n",
       "0      rougher_input_au        7.649138\n",
       "1  rough concentrate_au       19.947312\n",
       "2    primary_cleaner_au       33.225835\n",
       "3  final_concentrate_au       44.872436"
      ]
     },
     "metadata": {},
     "output_type": "display_data"
    }
   ],
   "source": [
    "medians('au')"
   ]
  },
  {
   "cell_type": "code",
   "execution_count": 16,
   "metadata": {
    "scrolled": true
   },
   "outputs": [
    {
     "data": {
      "image/png": "[encoded data removed]",
      "text/plain": [
       "<Figure size 720x360 with 1 Axes>"
      ]
     },
     "metadata": {
      "needs_background": "light"
     },
     "output_type": "display_data"
    },
    {
     "data": {
      "text/html": [
       "<div>\n",
       "<style scoped>\n",
       "    .dataframe tbody tr th:only-of-type {\n",
       "        vertical-align: middle;\n",
       "    }\n",
       "\n",
       "    .dataframe tbody tr th {\n",
       "        vertical-align: top;\n",
       "    }\n",
       "\n",
       "    .dataframe thead th {\n",
       "        text-align: right;\n",
       "    }\n",
       "</style>\n",
       "<table border=\"1\" class=\"dataframe\">\n",
       "  <thead>\n",
       "    <tr style=\"text-align: right;\">\n",
       "      <th></th>\n",
       "      <th>Stage_name</th>\n",
       "      <th>Concentrate_ag</th>\n",
       "    </tr>\n",
       "  </thead>\n",
       "  <tbody>\n",
       "    <tr>\n",
       "      <th>0</th>\n",
       "      <td>rougher_input_ag</td>\n",
       "      <td>8.156092</td>\n",
       "    </tr>\n",
       "    <tr>\n",
       "      <th>1</th>\n",
       "      <td>rough concentrate_ag</td>\n",
       "      <td>11.747362</td>\n",
       "    </tr>\n",
       "    <tr>\n",
       "      <th>2</th>\n",
       "      <td>primary_cleaner_ag</td>\n",
       "      <td>8.226247</td>\n",
       "    </tr>\n",
       "    <tr>\n",
       "      <th>3</th>\n",
       "      <td>final_concentrate_ag</td>\n",
       "      <td>4.994607</td>\n",
       "    </tr>\n",
       "  </tbody>\n",
       "</table>\n",
       "</div>"
      ],
      "text/plain": [
       "             Stage_name  Concentrate_ag\n",
       "0      rougher_input_ag        8.156092\n",
       "1  rough concentrate_ag       11.747362\n",
       "2    primary_cleaner_ag        8.226247\n",
       "3  final_concentrate_ag        4.994607"
      ]
     },
     "metadata": {},
     "output_type": "display_data"
    }
   ],
   "source": [
    "medians('ag')"
   ]
  },
  {
   "cell_type": "code",
   "execution_count": 17,
   "metadata": {
    "scrolled": true
   },
   "outputs": [
    {
     "data": {
      "image/png": "[encoded data removed]",
      "text/plain": [
       "<Figure size 720x360 with 1 Axes>"
      ]
     },
     "metadata": {
      "needs_background": "light"
     },
     "output_type": "display_data"
    },
    {
     "data": {
      "text/html": [
       "<div>\n",
       "<style scoped>\n",
       "    .dataframe tbody tr th:only-of-type {\n",
       "        vertical-align: middle;\n",
       "    }\n",
       "\n",
       "    .dataframe tbody tr th {\n",
       "        vertical-align: top;\n",
       "    }\n",
       "\n",
       "    .dataframe thead th {\n",
       "        text-align: right;\n",
       "    }\n",
       "</style>\n",
       "<table border=\"1\" class=\"dataframe\">\n",
       "  <thead>\n",
       "    <tr style=\"text-align: right;\">\n",
       "      <th></th>\n",
       "      <th>Stage_name</th>\n",
       "      <th>Concentrate_pb</th>\n",
       "    </tr>\n",
       "  </thead>\n",
       "  <tbody>\n",
       "    <tr>\n",
       "      <th>0</th>\n",
       "      <td>rougher_input_pb</td>\n",
       "      <td>3.414267</td>\n",
       "    </tr>\n",
       "    <tr>\n",
       "      <th>1</th>\n",
       "      <td>rough concentrate_pb</td>\n",
       "      <td>7.760435</td>\n",
       "    </tr>\n",
       "    <tr>\n",
       "      <th>2</th>\n",
       "      <td>primary_cleaner_pb</td>\n",
       "      <td>9.920598</td>\n",
       "    </tr>\n",
       "    <tr>\n",
       "      <th>3</th>\n",
       "      <td>final_concentrate_pb</td>\n",
       "      <td>10.297013</td>\n",
       "    </tr>\n",
       "  </tbody>\n",
       "</table>\n",
       "</div>"
      ],
      "text/plain": [
       "             Stage_name  Concentrate_pb\n",
       "0      rougher_input_pb        3.414267\n",
       "1  rough concentrate_pb        7.760435\n",
       "2    primary_cleaner_pb        9.920598\n",
       "3  final_concentrate_pb       10.297013"
      ]
     },
     "metadata": {},
     "output_type": "display_data"
    }
   ],
   "source": [
    "medians('pb')"
   ]
  },
  {
   "cell_type": "markdown",
   "metadata": {},
   "source": [
    "**Вывод**\n",
    "\n",
    "Изменение концентрации металла Au : на каждом последующем этапе очистки концентрация металла равномерно увеличивается\n",
    "\n",
    "Изменение концентрации металла Ag : в черновом концентрате максимальное значение металла. Затем, на каждом последующем этапе очистки концентрация металла равномерно уменьшается.\n",
    "\n",
    "Изменение концентрации металла Pb : на первых двух этапах очистки концентрация металла равномерно увеличивается. Вторичная очистка практически не влияет на концентрацию, лишь незначительно её увеличивая.\n"
   ]
  },
  {
   "cell_type": "markdown",
   "metadata": {},
   "source": [
    "<font color='blue'><b>Комментарий ревьюера: </b></font> ✔️\\\n",
    "<font color='green'> Всё верно!</font>"
   ]
  },
  {
   "cell_type": "markdown",
   "metadata": {},
   "source": [
    " **2.2. Сравнение распределения размеров гранул сырья на обучающей и тестовой выборках.**\n",
    " \n",
    "Сравнение можно определить, проанализировав форму графиков распределений."
   ]
  },
  {
   "cell_type": "code",
   "execution_count": 18,
   "metadata": {
    "scrolled": true
   },
   "outputs": [
    {
     "data": {
      "image/png": "[encoded data removed]",
      "text/plain": [
       "<Figure size 432x288 with 1 Axes>"
      ]
     },
     "metadata": {
      "needs_background": "light"
     },
     "output_type": "display_data"
    }
   ],
   "source": [
    "df_train['rougher.input.feed_size'].hist(bins=100, range=(0, 150), density=True);\n",
    "df_test['rougher.input.feed_size'].hist(bins=100, range=(0, 150), density=True);"
   ]
  },
  {
   "cell_type": "markdown",
   "metadata": {},
   "source": [
    "**Вывод**\n",
    "\n",
    "Распределение у обоих выборок сильно не отличаются друг от друга по форме. Расперделения имеют разную высоту, т.к. в выборках разное количество объектов."
   ]
  },
  {
   "cell_type": "markdown",
   "metadata": {},
   "source": [
    "<font color='blue'><b>Комментарий ревьюера: </b></font> ✔️\\\n",
    "<font color='green'> Вывод верный!</font> \\\n",
    "<font color='darkorange'> В данном случае нужно использовать параметр \"density=True\" в методе \".hist()\". Так бы нам удалось перейти от количества к доле.</font>"
   ]
  },
  {
   "cell_type": "markdown",
   "metadata": {},
   "source": [
    "<font color='purple'><b>Комментарий студента:</b></font>\\\n",
    "<font color='purple'><b>Принял, добавил</b></font>"
   ]
  },
  {
   "cell_type": "markdown",
   "metadata": {},
   "source": [
    "<font color='blue'><b>Комментарий ревьюера 2: </b></font> ✔️\\\n",
    "<font color='green'>👍</font>"
   ]
  },
  {
   "cell_type": "markdown",
   "metadata": {},
   "source": [
    "**2.3. Иследование суммарной концентрации всех веществ на разных стадиях: в сырье, в черновом и финальном концентратах.**\n",
    "\n",
    "1. Рассматриваем 4 стадии: 'rougher.input.feed_', 'rougher.output.concentrate_', 'primary_cleaner.output.concentrate_', 'final.output.concentrate_'\n",
    "2. Складываем концентрации на каждом этапе\n",
    "3. Строим график динамики от этапа к этапу\n",
    "4. Строим график расперделения суммарной концентрации на каждом этапе"
   ]
  },
  {
   "cell_type": "code",
   "execution_count": 19,
   "metadata": {},
   "outputs": [],
   "source": [
    "#Складываем концентрации на каждом этапе\n",
    "#Строим график динамики от этапа к этапу\n",
    "\n",
    "df_train['df_sum_rouger_input'] = (df_train['rougher.input.feed_au'] \n",
    "                             + df_train['rougher.input.feed_ag'] \n",
    "                             + df_train['rougher.input.feed_pb'] \n",
    "                             + df_train['rougher.input.feed_sol'])\n",
    "\n",
    "df_train['df_sum_rouger_output'] = (df_train['rougher.output.concentrate_au'] \n",
    "                             + df_train['rougher.output.concentrate_ag'] \n",
    "                             + df_train['rougher.output.concentrate_pb'] \n",
    "                             + df_train['rougher.output.concentrate_sol'])\n",
    "\n",
    "df_train['df_sum_primary'] = (df_train['primary_cleaner.output.concentrate_au'] \n",
    "                             + df_train['primary_cleaner.output.concentrate_ag'] \n",
    "                             + df_train['primary_cleaner.output.concentrate_pb'] \n",
    "                             + df_train['primary_cleaner.output.concentrate_sol'])\n",
    "\n",
    "df_train['df_sum_final'] = (df_train['final.output.concentrate_au'] \n",
    "                             + df_train['final.output.concentrate_ag'] \n",
    "                             + df_train['final.output.concentrate_pb'] \n",
    "                             + df_train['final.output.concentrate_sol'])"
   ]
  },
  {
   "cell_type": "code",
   "execution_count": 20,
   "metadata": {},
   "outputs": [],
   "source": [
    "#функция для медиан по всем металлам c графиками\n",
    "\n",
    "def medians_sum():\n",
    "    stage_1 = df_train['df_sum_rouger_input'].median()\n",
    "    stage_2 = df_train['df_sum_rouger_output'].median()\n",
    "    stage_3 = df_train['df_sum_primary'].median()\n",
    "    stage_4 = df_train['df_sum_final'].median()\n",
    "    \n",
    "    df_concentrate = pd.DataFrame(\n",
    "        {\n",
    "            'Stage_name': [\n",
    "                'rougher_input',\n",
    "                'rough concentrate',\n",
    "                'primary_cleaner_concentrate',\n",
    "                'final_concentrate',      \n",
    "            ],\n",
    "            'Concentrate': [\n",
    "                stage_1,\n",
    "                stage_2,\n",
    "                stage_3,\n",
    "                stage_4,\n",
    "            ],\n",
    "        }\n",
    "    )\n",
    "    \n",
    "    \n",
    "    df_concentrate.plot(\n",
    "        kind='bar',\n",
    "        x='Stage_name',\n",
    "        label='Изменение концентрации суммы металлов',\n",
    "        grid=True,\n",
    "        figsize=(10, 5)\n",
    "    );\n",
    "    plt.title('Изменение концентрации суммы металлов')\n",
    "    plt.xlabel('Stage name')\n",
    "    plt.ylabel('Concentrate, %')\n",
    "    plt.show()\n",
    "\n",
    "    display(df_concentrate)\n",
    "    return"
   ]
  },
  {
   "cell_type": "code",
   "execution_count": 21,
   "metadata": {
    "scrolled": true
   },
   "outputs": [
    {
     "data": {
      "image/png": "[encoded data removed]",
      "text/plain": [
       "<Figure size 720x360 with 1 Axes>"
      ]
     },
     "metadata": {
      "needs_background": "light"
     },
     "output_type": "display_data"
    },
    {
     "data": {
      "text/html": [
       "<div>\n",
       "<style scoped>\n",
       "    .dataframe tbody tr th:only-of-type {\n",
       "        vertical-align: middle;\n",
       "    }\n",
       "\n",
       "    .dataframe tbody tr th {\n",
       "        vertical-align: top;\n",
       "    }\n",
       "\n",
       "    .dataframe thead th {\n",
       "        text-align: right;\n",
       "    }\n",
       "</style>\n",
       "<table border=\"1\" class=\"dataframe\">\n",
       "  <thead>\n",
       "    <tr style=\"text-align: right;\">\n",
       "      <th></th>\n",
       "      <th>Stage_name</th>\n",
       "      <th>Concentrate</th>\n",
       "    </tr>\n",
       "  </thead>\n",
       "  <tbody>\n",
       "    <tr>\n",
       "      <th>0</th>\n",
       "      <td>rougher_input</td>\n",
       "      <td>56.627635</td>\n",
       "    </tr>\n",
       "    <tr>\n",
       "      <th>1</th>\n",
       "      <td>rough concentrate</td>\n",
       "      <td>69.175663</td>\n",
       "    </tr>\n",
       "    <tr>\n",
       "      <th>2</th>\n",
       "      <td>primary_cleaner_concentrate</td>\n",
       "      <td>61.786946</td>\n",
       "    </tr>\n",
       "    <tr>\n",
       "      <th>3</th>\n",
       "      <td>final_concentrate</td>\n",
       "      <td>69.141502</td>\n",
       "    </tr>\n",
       "  </tbody>\n",
       "</table>\n",
       "</div>"
      ],
      "text/plain": [
       "                    Stage_name  Concentrate\n",
       "0                rougher_input    56.627635\n",
       "1            rough concentrate    69.175663\n",
       "2  primary_cleaner_concentrate    61.786946\n",
       "3            final_concentrate    69.141502"
      ]
     },
     "metadata": {},
     "output_type": "display_data"
    }
   ],
   "source": [
    "medians_sum()"
   ]
  },
  {
   "cell_type": "code",
   "execution_count": 22,
   "metadata": {
    "scrolled": true
   },
   "outputs": [
    {
     "data": {
      "image/png": "[encoded data removed]",
      "text/plain": [
       "<Figure size 1440x720 with 1 Axes>"
      ]
     },
     "metadata": {
      "needs_background": "light"
     },
     "output_type": "display_data"
    }
   ],
   "source": [
    "#Строим график расперделения суммарной концентрации на каждом этапе\n",
    "df_train['df_sum_rouger_input'].hist(bins=100, range=(0, 100), figsize=(20, 10), legend=True);\n",
    "df_train['df_sum_rouger_output'].hist(bins=100, range=(0, 100), legend=True);\n",
    "df_train['df_sum_primary'].hist(bins=100, range=(0, 100), legend=True);\n",
    "df_train['df_sum_final'].hist(bins=100, range=(0, 100), legend=True);"
   ]
  },
  {
   "cell_type": "code",
   "execution_count": 23,
   "metadata": {
    "scrolled": false
   },
   "outputs": [
    {
     "name": "stdout",
     "output_type": "stream",
     "text": [
      "Количество строк до удаления:  (14149, 92)\n",
      "\n",
      "Количество строк после удаления:  (13600, 92)\n"
     ]
    }
   ],
   "source": [
    "#удаление нулевых значений\n",
    "\n",
    "print('Количество строк до удаления: ', df_train.shape)\n",
    "print()\n",
    "\n",
    "df_train = df_train.query('df_sum_rouger_input > 0.5')\n",
    "df_train = df_train.query('df_sum_rouger_output > 0.5')\n",
    "df_train = df_train.query('df_sum_primary > 0.5')\n",
    "df_train = df_train.query('df_sum_final > 0.5')\n",
    "\n",
    "print('Количество строк после удаления: ', df_train.shape)"
   ]
  },
  {
   "cell_type": "markdown",
   "metadata": {},
   "source": [
    "<font color='blue'><b>Комментарий ревьюера: </b></font> ✔️\\\n",
    "<font color='green'> Выбросы удалены.</font>"
   ]
  },
  {
   "cell_type": "markdown",
   "metadata": {},
   "source": [
    "**Вывод**\n",
    "\n",
    "1. Изменение концентрации суммы металлов от этапа к этапу: в среднем, концентрация металлов находится на уровне 65% на каждом этапе. При этом наименбшая концентрация металлов содержится во входящем сырье.\n",
    "2. Распередения сумм на каждом этапе: все распределения походи на нормальные. Присутствуют аномальные выборсы около нуля для всех стадий. Ноль может обозначать отсутствие элемента, что не очень правдоподобно. Околонулевые больше похоже на правду и их можно оставить."
   ]
  },
  {
   "cell_type": "markdown",
   "metadata": {},
   "source": [
    "## Модель"
   ]
  },
  {
   "cell_type": "markdown",
   "metadata": {},
   "source": [
    "1. Написать функцию для расчёта sMAPE и финального sMAPE\n",
    "2. Выделить целевые признаки и признаки\n",
    "3. Выбрать лучшую модель по final_sMAPE\n",
    "4. Проверить лучшую модель на тестовой выборке\n",
    "5. Описать выводы"
   ]
  },
  {
   "cell_type": "code",
   "execution_count": 24,
   "metadata": {},
   "outputs": [],
   "source": [
    "#sMAPE функция\n",
    "\n",
    "#функция для sMAPE\n",
    "def smape(target_true, target_predictions):\n",
    "    numerator = np.abs(target_true - target_predictions)\n",
    "    denominator = (np.abs(target_true) + np.abs(target_predictions)) / 2 \n",
    "    \n",
    "    return 1 / len(target_true) * np.sum(numerator / denominator) * 100 \n",
    " \n",
    "#функция для итогового sMAPE\n",
    "def final_smape(smape_rough, smape_final):\n",
    "     return 0.25 * smape_rough + 0.75 * smape_final\n",
    "    \n",
    "#scorer. Дальше этот scorer используется в метриках качества кросс-валидации.\n",
    "scorer = make_scorer(smape, greater_is_better=False)"
   ]
  },
  {
   "cell_type": "markdown",
   "metadata": {},
   "source": [
    "<font color='blue'><b>Комментарий ревьюера: </b></font> ✔️\\\n",
    "<font color='green'> `smape` и `final_smape` расчитаны верно.</font>"
   ]
  },
  {
   "cell_type": "code",
   "execution_count": 25,
   "metadata": {},
   "outputs": [],
   "source": [
    "#выделяем фичи и таргеты\n",
    "# 1. фичи для rough и final должны соответсвовать тестовой выборке - создать датасет для train rough и для train final\n",
    "# 2. фичи в тренировочной выборке должны быть такими же как и в тестовой выборке, \n",
    "#т.к. в релаьности будет набор данных как в тестовой\n",
    "# 3. в тестовую выборку нужно добавить трагеты и недостающие признаки\n",
    "\n",
    "#dataset train rough\n",
    "df_train_rough = df_train [['date', \n",
    "                               'rougher.input.feed_ag',\n",
    "                               'rougher.input.feed_pb',\n",
    "                               'rougher.input.feed_rate',\n",
    "                               'rougher.input.feed_size',\n",
    "                               'rougher.input.feed_sol',\n",
    "                               'rougher.input.feed_au', \n",
    "                               'rougher.input.floatbank10_sulfate',\n",
    "                               'rougher.input.floatbank10_xanthate',\n",
    "                               'rougher.input.floatbank11_sulfate',\n",
    "                               'rougher.input.floatbank11_xanthate',\n",
    "                               'rougher.state.floatbank10_a_air',\n",
    "                               'rougher.state.floatbank10_a_level',\n",
    "                               'rougher.state.floatbank10_b_air',\n",
    "                               'rougher.state.floatbank10_b_level',\n",
    "                               'rougher.state.floatbank10_c_air',\n",
    "                               'rougher.state.floatbank10_c_level',\n",
    "                               'rougher.state.floatbank10_d_air',\n",
    "                               'rougher.state.floatbank10_d_level',\n",
    "                               'rougher.state.floatbank10_e_air',\n",
    "                               'rougher.state.floatbank10_e_level',\n",
    "                               'rougher.state.floatbank10_f_air',\n",
    "                               'rougher.state.floatbank10_f_level']]"
   ]
  },
  {
   "cell_type": "code",
   "execution_count": 26,
   "metadata": {},
   "outputs": [],
   "source": [
    "#dataset train final\n",
    "\n",
    "#columns_from_test = df_test.columns #взял список названий колонок из теста\n",
    "#print(columns_from_test)\n",
    "\n",
    "df_train_final = df_train[['date', 'primary_cleaner.input.sulfate',\n",
    "       'primary_cleaner.input.depressant', 'primary_cleaner.input.feed_size',\n",
    "       'primary_cleaner.input.xanthate',\n",
    "       'primary_cleaner.state.floatbank8_a_air',\n",
    "       'primary_cleaner.state.floatbank8_a_level',\n",
    "       'primary_cleaner.state.floatbank8_b_air',\n",
    "       'primary_cleaner.state.floatbank8_b_level',\n",
    "       'primary_cleaner.state.floatbank8_c_air',\n",
    "       'primary_cleaner.state.floatbank8_c_level',\n",
    "       'primary_cleaner.state.floatbank8_d_air',\n",
    "       'primary_cleaner.state.floatbank8_d_level', 'rougher.input.feed_ag',\n",
    "       'rougher.input.feed_pb', 'rougher.input.feed_rate',\n",
    "       'rougher.input.feed_size', 'rougher.input.feed_sol',\n",
    "       'rougher.input.feed_au', 'rougher.input.floatbank10_sulfate',\n",
    "       'rougher.input.floatbank10_xanthate',\n",
    "       'rougher.input.floatbank11_sulfate',\n",
    "       'rougher.input.floatbank11_xanthate', 'rougher.state.floatbank10_a_air',\n",
    "       'rougher.state.floatbank10_a_level', 'rougher.state.floatbank10_b_air',\n",
    "       'rougher.state.floatbank10_b_level', 'rougher.state.floatbank10_c_air',\n",
    "       'rougher.state.floatbank10_c_level', 'rougher.state.floatbank10_d_air',\n",
    "       'rougher.state.floatbank10_d_level', 'rougher.state.floatbank10_e_air',\n",
    "       'rougher.state.floatbank10_e_level', 'rougher.state.floatbank10_f_air',\n",
    "       'rougher.state.floatbank10_f_level',\n",
    "       'secondary_cleaner.state.floatbank2_a_air',\n",
    "       'secondary_cleaner.state.floatbank2_a_level',\n",
    "       'secondary_cleaner.state.floatbank2_b_air',\n",
    "       'secondary_cleaner.state.floatbank2_b_level',\n",
    "       'secondary_cleaner.state.floatbank3_a_air',\n",
    "       'secondary_cleaner.state.floatbank3_a_level',\n",
    "       'secondary_cleaner.state.floatbank3_b_air',\n",
    "       'secondary_cleaner.state.floatbank3_b_level',\n",
    "       'secondary_cleaner.state.floatbank4_a_air',\n",
    "       'secondary_cleaner.state.floatbank4_a_level',\n",
    "       'secondary_cleaner.state.floatbank4_b_air',\n",
    "       'secondary_cleaner.state.floatbank4_b_level',\n",
    "       'secondary_cleaner.state.floatbank5_a_air',\n",
    "       'secondary_cleaner.state.floatbank5_a_level',\n",
    "       'secondary_cleaner.state.floatbank5_b_air',\n",
    "       'secondary_cleaner.state.floatbank5_b_level',\n",
    "       'secondary_cleaner.state.floatbank6_a_air',\n",
    "       'secondary_cleaner.state.floatbank6_a_level',\n",
    "                 ]]\n",
    "#df_train_final.info()"
   ]
  },
  {
   "cell_type": "code",
   "execution_count": 27,
   "metadata": {},
   "outputs": [],
   "source": [
    "features_train_rough = df_train_rough.drop(['date'], axis=1)\n",
    "features_train_final = df_train_final.drop(['date'], axis=1)\n",
    "#features_train_final = df_train_final.drop(['date','final.output.recovery','rougher.output.recovery', \n",
    "#                                      'df_sum_final', \n",
    "#                                      'recovery_au', 'df_sum_rouger_input', \n",
    "#                                      'df_sum_rouger_output', 'df_sum_primary'], axis=1)\n",
    "            \n",
    "target_train_rough = df_train['rougher.output.recovery'].loc[features_train_rough.index]\n",
    "target_train_final = df_train['final.output.recovery'].loc[features_train_final.index]"
   ]
  },
  {
   "cell_type": "markdown",
   "metadata": {},
   "source": [
    "<font color='blue'><b>Комментарий ревьюера: </b></font> ❌\\\n",
    "<font color='red'> В момент предполгаемого применения модели в продакте, доступны только признаки собранные в тестовом датасете. Нужно построить модель работающую только с этими признаками.  </font>"
   ]
  },
  {
   "cell_type": "markdown",
   "metadata": {},
   "source": [
    "<font color='purple'><b>Комментарий студента:</b></font>\\\n",
    "<font color='purple'><b>Да, верно, такая и была логика.\\\n",
    "    для стадии флотации (rough) фичи и таргетб по-моему, определены верно.\\\n",
    "    Вопрос остаётся с final. После флотации, к фичам для rough должны прибавиться фичи rougher.output.concentrate_ и rougher.output.tail_.\n",
    "    Таким образом, фичи для final должны быть те, что содержаться в тестовой выборке + rougher.output.. Логика верна?</b></font>"
   ]
  },
  {
   "cell_type": "markdown",
   "metadata": {},
   "source": [
    "<font color='blue'><b>Комментарий ревьюера 2: </b></font> \\\n",
    "<font color='blue'>Процесс, похоже, непрерывный и оценить надо до начала процесса, сразу восстановление в обоих этапах, поэтому тестовая выборка предоставлена с этим набором признаков.\\\n",
    "'rougher.output.recovery' и 'final.output.recovery' коррелируют между собойи зная один уже можно судить о другом.\\\n",
    "Для  обоих этапов нужны только признаки из тестового датасета.</font>"
   ]
  },
  {
   "cell_type": "markdown",
   "metadata": {},
   "source": [
    "<font color='purple'><b>Комментарий студента 2:</b></font>\\\n",
    "<font color='purple'><b>Принял, убрал rougher.output..</b></font>"
   ]
  },
  {
   "cell_type": "code",
   "execution_count": 28,
   "metadata": {},
   "outputs": [],
   "source": [
    "#test\n",
    "#создаём датасеты для тестовой выборки из full для rough и final\n",
    "\n",
    "df_test_full = df_test.drop(df_test.columns[1:], axis=1).merge(df_full, on='date', how='left')\n",
    "\n",
    "df_test_full = df_test_full.dropna()\n",
    "\n",
    "df_test_rough = df_test_full [['rougher.output.recovery', \n",
    "                               'rougher.input.feed_ag',\n",
    "                               'rougher.input.feed_pb',\n",
    "                               'rougher.input.feed_rate',\n",
    "                               'rougher.input.feed_size',\n",
    "                               'rougher.input.feed_sol',\n",
    "                               'rougher.input.feed_au', \n",
    "                               'rougher.input.floatbank10_sulfate',\n",
    "                               'rougher.input.floatbank10_xanthate',\n",
    "                               'rougher.input.floatbank11_sulfate',\n",
    "                               'rougher.input.floatbank11_xanthate',\n",
    "                               'rougher.state.floatbank10_a_air',\n",
    "                               'rougher.state.floatbank10_a_level',\n",
    "                               'rougher.state.floatbank10_b_air',\n",
    "                               'rougher.state.floatbank10_b_level',\n",
    "                               'rougher.state.floatbank10_c_air',\n",
    "                               'rougher.state.floatbank10_c_level',\n",
    "                               'rougher.state.floatbank10_d_air',\n",
    "                               'rougher.state.floatbank10_d_level',\n",
    "                               'rougher.state.floatbank10_e_air',\n",
    "                               'rougher.state.floatbank10_e_level',\n",
    "                               'rougher.state.floatbank10_f_air',\n",
    "                               'rougher.state.floatbank10_f_level']]\n",
    "\n",
    "df_test_final = df_test_full[['primary_cleaner.input.sulfate',\n",
    "       'primary_cleaner.input.depressant', 'primary_cleaner.input.feed_size',\n",
    "       'primary_cleaner.input.xanthate',\n",
    "       'primary_cleaner.state.floatbank8_a_air',\n",
    "       'primary_cleaner.state.floatbank8_a_level',\n",
    "       'primary_cleaner.state.floatbank8_b_air',\n",
    "       'primary_cleaner.state.floatbank8_b_level',\n",
    "       'primary_cleaner.state.floatbank8_c_air',\n",
    "       'primary_cleaner.state.floatbank8_c_level',\n",
    "       'primary_cleaner.state.floatbank8_d_air',\n",
    "       'primary_cleaner.state.floatbank8_d_level', 'rougher.input.feed_ag',\n",
    "       'rougher.input.feed_pb', 'rougher.input.feed_rate',\n",
    "       'rougher.input.feed_size', 'rougher.input.feed_sol',\n",
    "       'rougher.input.feed_au', 'rougher.input.floatbank10_sulfate',\n",
    "       'rougher.input.floatbank10_xanthate',\n",
    "       'rougher.input.floatbank11_sulfate',\n",
    "       'rougher.input.floatbank11_xanthate', 'rougher.state.floatbank10_a_air',\n",
    "       'rougher.state.floatbank10_a_level', 'rougher.state.floatbank10_b_air',\n",
    "       'rougher.state.floatbank10_b_level', 'rougher.state.floatbank10_c_air',\n",
    "       'rougher.state.floatbank10_c_level', 'rougher.state.floatbank10_d_air',\n",
    "       'rougher.state.floatbank10_d_level', 'rougher.state.floatbank10_e_air',\n",
    "       'rougher.state.floatbank10_e_level', 'rougher.state.floatbank10_f_air',\n",
    "       'rougher.state.floatbank10_f_level',\n",
    "       'secondary_cleaner.state.floatbank2_a_air',\n",
    "       'secondary_cleaner.state.floatbank2_a_level',\n",
    "       'secondary_cleaner.state.floatbank2_b_air',\n",
    "       'secondary_cleaner.state.floatbank2_b_level',\n",
    "       'secondary_cleaner.state.floatbank3_a_air',\n",
    "       'secondary_cleaner.state.floatbank3_a_level',\n",
    "       'secondary_cleaner.state.floatbank3_b_air',\n",
    "       'secondary_cleaner.state.floatbank3_b_level',\n",
    "       'secondary_cleaner.state.floatbank4_a_air',\n",
    "       'secondary_cleaner.state.floatbank4_a_level',\n",
    "       'secondary_cleaner.state.floatbank4_b_air',\n",
    "       'secondary_cleaner.state.floatbank4_b_level',\n",
    "       'secondary_cleaner.state.floatbank5_a_air',\n",
    "       'secondary_cleaner.state.floatbank5_a_level',\n",
    "       'secondary_cleaner.state.floatbank5_b_air',\n",
    "       'secondary_cleaner.state.floatbank5_b_level',\n",
    "       'secondary_cleaner.state.floatbank6_a_air',\n",
    "       'secondary_cleaner.state.floatbank6_a_level',\n",
    "                 ]]\n",
    "\n",
    "features_test_rough = df_test_rough.drop(['rougher.output.recovery'], axis=1)\n",
    "features_test_final = df_test_final\n",
    "target_test_rough = df_test_rough['rougher.output.recovery'].loc[features_test_rough.index]\n",
    "target_test_final = df_test_full['final.output.recovery'].loc[features_test_final.index]"
   ]
  },
  {
   "cell_type": "markdown",
   "metadata": {},
   "source": [
    "<font color='blue'><b>Комментарий ревьюера: </b></font> ✔️\\\n",
    "<font color='green'> Верно, при пересечении таблиц лучше привязаться ко времени.</font>"
   ]
  },
  {
   "cell_type": "markdown",
   "metadata": {},
   "source": [
    "Комментарий для моего пользования:\n",
    "на примерах Линейной регрессии с CV и Леса с GSCV.\n",
    "У моменту кросс-валидации должна быть готова функция метрики sMAPE как scorer:\n",
    "scorer = make_scorer(smape, greater_is_better=False)\n",
    "Дальше этот scorer используется в метриках качества кросс-валидации.\n",
    "Что нужно сделать, что получить метрику качества для LinearRegression\n",
    "Создать модель LinearRegression\n",
    "В функцию cross_val_score указать в качестве модели модель LR, добавить признаки и таргеты, и в качестве скоринга наш scorer : scoring=scorer\n",
    "Ты получаешь массив отрицательных значений sMAPE. Отрицательными они стали за счет параметра greater_is_better=False . Это исправлять не нужно, тут все ок\n",
    "Получить среднее значение по массиву из кросс-валидации и умножить на -1 , чтобы получить метрику на CV\n",
    "\n",
    "Для остальных моделей с GridSearchCV:\n",
    "Создать модель и таблицу параметров\n",
    "Задать таблицу поиска GridSearchCV с моделью и параметрами выше и в качестве скоринга установить наш наш scorer : scoring=scorer\n",
    "Ты получаешь лучшую модель с параметрами и лучшую метрику со знаком -.\n",
    "С помощью .best_params_ из таблицы поиска получаешь параметры, с помощью .best_score_ * -1 - получаешь метрику sMAPE\n",
    "\n",
    "Для кросс-валидации механика проверки метрики - \"больше-лучше\" по умолчанию. При использовании greater_is_better=False  к метрике добавляется минус, означая что самая большая метрика будет ближе к 0, а убирая знак минус это становится самой меньшим значением, что нам и нужно по логике \"меньше-лучше\"."
   ]
  },
  {
   "cell_type": "code",
   "execution_count": 29,
   "metadata": {},
   "outputs": [
    {
     "name": "stdout",
     "output_type": "stream",
     "text": [
      "Лучшее итоговое sMAPE для модели Линейная Регрессия: 9.94\n"
     ]
    }
   ],
   "source": [
    "#model LinearRegression\n",
    "model = LinearRegression()\n",
    "scores_LR_rough = cross_val_score(model, features_train_rough, target_train_rough, cv=5, scoring=scorer).mean() * -1\n",
    "scores_LR_final = cross_val_score(model, features_train_final, target_train_final, cv=5, scoring=scorer).mean() * -1\n",
    "print('Лучшее итоговое sMAPE для модели Линейная Регрессия: {:.2f}'.format(final_smape(scores_LR_rough, scores_LR_final)))\n"
   ]
  },
  {
   "cell_type": "markdown",
   "metadata": {},
   "source": [
    "<font color='blue'><b>Комментарий ревьюера: </b></font> ✔️\\\n",
    "<font color='green'> Отлично, что оценка по целевой метрике!</font>"
   ]
  },
  {
   "cell_type": "code",
   "execution_count": 30,
   "metadata": {},
   "outputs": [
    {
     "name": "stdout",
     "output_type": "stream",
     "text": [
      "Лучшее значение sMAPE rough для дерева решений: 6.94 при значениях гиперпараметров: {'max_depth': 5}\n",
      "Лучшее значение sMAPE final для дерева решений: 9.24 при значениях гиперпараметров: {'max_depth': 3}\n",
      "Лучшее итоговое sMAPE для модели дерева решений: 8.66\n"
     ]
    }
   ],
   "source": [
    "#DecisionTreeRegressor\n",
    "model = DecisionTreeRegressor(random_state=123456)\n",
    "param_grid = {'max_depth': range(2, 11)}\n",
    "scores_DTR_rough = GridSearchCV(model, param_grid, cv=5, scoring=scorer)\n",
    "scores_DTR_rough.fit(features_train_rough, target_train_rough)\n",
    "\n",
    "\n",
    "print('Лучшее значение sMAPE rough для дерева решений: {:.2f} при значениях гиперпараметров: {}'.\n",
    "      format(-scores_DTR_rough.best_score_, scores_DTR_rough.best_params_))\n",
    "\n",
    "scores_DTR_final = GridSearchCV(model, param_grid, cv=5, scoring=scorer)\n",
    "scores_DTR_final.fit(features_train_final, target_train_final)\n",
    "\n",
    "print('Лучшее значение sMAPE final для дерева решений: {:.2f} при значениях гиперпараметров: {}'.\n",
    "      format(-scores_DTR_final.best_score_, scores_DTR_final.best_params_))\n",
    "\n",
    "\n",
    "print('Лучшее итоговое sMAPE для модели дерева решений: {:.2f}'.format(final_smape(-scores_DTR_rough.best_score_, \n",
    "                                                                                   -scores_DTR_final.best_score_)))"
   ]
  },
  {
   "cell_type": "markdown",
   "metadata": {},
   "source": [
    "<font color='blue'><b>Комментарий ревьюера : </b></font> ✔️\\\n",
    "<font color='green'>Подбор гиперпараметров проведён верно. Использована целевая метрика, направление отбора верное ).</font>"
   ]
  },
  {
   "cell_type": "markdown",
   "metadata": {},
   "source": [
    "**Вывод**\n",
    "Итоговое значение sMAPE выше для модели Дерево решений меньше (лучше), чем для модели Линейной регрессии. Выбираем модель Дерево решений с параметрами max_depth 5 и 3 для rough и final соответсвенно  для тестирования на тестовой выборке"
   ]
  },
  {
   "cell_type": "markdown",
   "metadata": {},
   "source": [
    "**3.2. Моделирование выбранной моделью.**"
   ]
  },
  {
   "cell_type": "code",
   "execution_count": 36,
   "metadata": {},
   "outputs": [
    {
     "name": "stdout",
     "output_type": "stream",
     "text": [
      "Итоговое sMAPE для модели Дерево решений на тестовой выборке: 8.60\n"
     ]
    }
   ],
   "source": [
    "#тестирование на test \n",
    "\n",
    "#rough\n",
    "model = DecisionTreeRegressor(random_state=123456, max_depth=5)\n",
    "model.fit(features_train_rough, target_train_rough)\n",
    "predictions = model.predict(features_test_rough)\n",
    "smape_rough = smape(predictions, target_test_rough)\n",
    "\n",
    "#final\n",
    "model = DecisionTreeRegressor(random_state=123456, max_depth=3)\n",
    "model.fit(features_train_final, target_train_final)\n",
    "predictions = model.predict(features_test_final)\n",
    "smape_final = smape(predictions, target_test_final)\n",
    "\n",
    "print('Итоговое sMAPE для модели Дерево решений на тестовой выборке: {:.2f}'.\n",
    "      format(final_smape(smape_rough, smape_final)))"
   ]
  },
  {
   "cell_type": "markdown",
   "metadata": {},
   "source": [
    "<font color='blue'><b>Комментарий ревьюера: </b></font> ✔️\\\n",
    "<font color='green'>Тестирование проведено верно.</font>"
   ]
  },
  {
   "cell_type": "markdown",
   "metadata": {},
   "source": [
    "**3.3. Сравнение с константной моделью DummyRegressor.**"
   ]
  },
  {
   "cell_type": "code",
   "execution_count": 34,
   "metadata": {},
   "outputs": [
    {
     "name": "stdout",
     "output_type": "stream",
     "text": [
      "Итоговое sMAPE для модели DummyRegressor на тестововй выборке: 8.78\n"
     ]
    }
   ],
   "source": [
    "#сравнение с константной моделью DummyRegressor\n",
    "\n",
    "#rough\n",
    "dummy_regr = DummyRegressor(strategy=\"mean\")\n",
    "dummy_regr.fit(features_train_rough, target_train_rough)\n",
    "predictions = dummy_regr.predict(features_test_rough)\n",
    "smape_rough = smape(predictions, target_test_rough)\n",
    "\n",
    "#final\n",
    "dummy_regr = DummyRegressor(strategy=\"mean\")\n",
    "dummy_regr.fit(features_train_final, target_train_final)\n",
    "predictions = dummy_regr.predict(features_test_final)\n",
    "smape_final = smape(predictions, target_test_final)\n",
    "\n",
    "print('Итоговое sMAPE для модели DummyRegressor на тестововй выборке: {:.2f}'.\n",
    "      format(final_smape(smape_rough, smape_final)))"
   ]
  },
  {
   "cell_type": "markdown",
   "metadata": {},
   "source": [
    "<font color='blue'><b>Комментарий ревьюера: </b></font> ❌\\\n",
    "<font color='red'><s> Нужно сравнить с константной моделью, например с `DummyRegressor`, из одного значения метрики не ясно насколько адекватно предсказание моделей. )</s></font>"
   ]
  },
  {
   "cell_type": "markdown",
   "metadata": {},
   "source": [
    "<font color='purple'><b>Комментарий студента:</b></font>\\\n",
    "<font color='purple'><b>Принял, согласен, добавил. Результат получился хуже (sMAPE выше), чем на выбранной модели. </b></font>"
   ]
  },
  {
   "cell_type": "markdown",
   "metadata": {},
   "source": [
    "<font color='blue'><b>Комментарий ревьюера: </b></font> ❌\\\n",
    "<font color='red'><s> Очень не хватает общего вывода. В выводах можно приводить полученные ранее значения. Также можно расписать все, что было сделано в ходе проведения работы.</s></font>"
   ]
  },
  {
   "cell_type": "markdown",
   "metadata": {},
   "source": [
    "***ОБЩИЙ ВЫВОД***\n",
    "\n",
    "в ходе проекта были обработаны и приведены в рабочее состояние данные в предоставленных датасетах, проанализированы динамика изменения концентрации металлов на различных этапах очистки, суммарной концентарции всех веществ на разных стадиях. В ходе подготовки к выбору модели машшинного обучения были отобраны необходимые признаки для обучения. Выбраны и обучены две модели, из которых только одна была протестирована на тестовой выборке. Протестированная модель сопоставлялась с константной моделью для определения её адекватности.\n",
    "\n",
    "В результате работы можно сделать следующие выводы:\n",
    "1. Концентрация металлов по этапам очистки:\\\n",
    "   1.1. Изменение концентрации металла Au : на каждом последующем этапе очистки концентрация металла равномерно увеличивается\\\n",
    "   1.2. Изменение концентрации металла Ag : в черновом концентрате максимальное значение металла. Затем, на каждом последующем этапе очистки концентрация металла равномерно уменьшается.\\\n",
    "   1.3. Изменение концентрации металла Pb : на первых двух этапах очистки концентрация металла равномерно увеличивается. Вторичная очистка практически не влияет на концентрацию, лишь незначительно её увеличивая.\\\n",
    "   \n",
    "2. Суммарная концентрация металлов:\\\n",
    "   2.1. Изменение концентрации суммы металлов от этапа к этапу: в среднем, концентрация металлов находится на уровне 65% на каждом этапе. При этом наименьшая концентрация металлов содержится во входящем сырье.\\\n",
    "   2.2. Присутствуют аномальные выбросы около нуля для всех стадий. Ноль может обозначать отсутствие элемента, что не очень правдоподобно. Было принято решение удалить нулевые значения и не использовать для целей обучения модели.\\\n",
    "\n",
    "3. Модель машинного обучения:\\\n",
    "   3.1. По результатам обучения двух моделей была выбрана модель Дерево решений. Модель была выбрана по целевой метрике - Итоговая sMAPE - показав значение 8,66 и опредив модель Линейная регрессия.\n",
    "   3.2. При сравнении с константной моделью, где в качестве предсказания было среднее значение целевого признака, модель Дерево решений показала лучший результат целевой метрики - Итоговая sMAPE. Это означает, что модель адекватна и может применяться для машшиного обучения."
   ]
  },
  {
   "cell_type": "markdown",
   "metadata": {},
   "source": [
    "<font color='blue'><b>Комментарий ревьюера 2: </b></font> ✔️\\\n",
    "<font color='green'> Очень приятно видеть вывод в конце проекта!\\\n",
    "Приведены ответы на главные вопросы проекта.</font>"
   ]
  },
  {
   "cell_type": "markdown",
   "metadata": {},
   "source": [
    "<font color='blue'><b>Итоговый комментарий ревьюера</b></font>\\\n",
    "<font color='green'>Игорь, хороший проект получился!\n",
    "Большое спасибо за проделанную работу. Видно, что приложено много усилий.\n",
    "</font>\n",
    "\n",
    "<font color='blue'>Что нужно исправить:</font>\n",
    "<ul><font color='red'>Для обучения моделей используй только признаки доступные до начала тех.процесса.</font></ul>\n",
    "<ul><font color='red'>Добавь тест константной модели для оценки адекватности работы моделей.</font></ul>\n",
    "<ul><font color='red'>Добавь Общий вывод по работе.</font></ul>\n",
    "\n",
    "<font color='blue'>Что можно сделать лучше:</font>\n",
    "<font color='orange'>В работе я оставил несколько советов. Буду рад, если ты учтешь их.</font></ul>\n",
    "\n",
    "<font color='blue'><b>Жду новую версию проекта :)</b></font>"
   ]
  },
  {
   "cell_type": "markdown",
   "metadata": {},
   "source": [
    "<font color='purple'><b>Комментарий студента:</b></font>\\\n",
    "<font color='purple'><b>Павел, спасибо за ревью и обратную связь. Все замечания исправил.</b></font>"
   ]
  },
  {
   "cell_type": "markdown",
   "metadata": {},
   "source": [
    "<font color='blue'><b>Итоговый комментарий ревьюера 2</b></font>\\\n",
    "<font color='green'>Игорь, большое спасибо за доработку. Появилась константная модель т общий вывод.\n",
    "</font>\n",
    "\n",
    "<font color='blue'>Что нужно исправить:</font>\n",
    "<ul><font color='red'>Для обучения моделей используй только признаки доступные до начала тех.процесса.</font></ul>\n",
    "\n",
    "<font color='blue'>Что можно сделать лучше:</font>\n",
    "<font color='orange'>В работе я оставил несколько советов. Буду рад, если ты учтешь их.</font></ul>\n",
    "\n",
    "<font color='blue'><b>Жду новую версию проекта :)</b></font>"
   ]
  },
  {
   "cell_type": "markdown",
   "metadata": {},
   "source": [
    "## Чек-лист готовности проекта"
   ]
  },
  {
   "cell_type": "markdown",
   "metadata": {},
   "source": [
    "- [x]  Jupyter Notebook открыт\n",
    "- [x]  Весь код выполняется без ошибок\n",
    "- [x]  Ячейки с кодом расположены в порядке выполнения\n",
    "- [x]  Выполнен шаг 1: данные подготовлены\n",
    "    - [x]  Проверена формула вычисления эффективности обогащения\n",
    "    - [x]  Проанализированы признаки, недоступные в тестовой выборке\n",
    "    - [x]  Проведена предобработка данных\n",
    "- [x]  Выполнен шаг 2: данные проанализированы\n",
    "    - [x]  Исследовано изменение концентрации элементов на каждом этапе\n",
    "    - [x]  Проанализированы распределения размеров гранул на обучающей и тестовой выборках\n",
    "    - [x]  Исследованы суммарные концентрации\n",
    "- [x]  Выполнен шаг 3: построена модель прогнозирования\n",
    "    - [x]  Написана функция для вычисления итогового *sMAPE*\n",
    "    - [x]  Обучено и проверено несколько моделей\n",
    "    - [x]  Выбрана лучшая модель, её качество проверено на тестовой выборке"
   ]
  }
 ],
 "metadata": {
  "ExecuteTimeLog": [
   {
    "duration": 363,
    "start_time": "2022-10-18T07:12:23.664Z"
   },
   {
    "duration": 805,
    "start_time": "2022-10-18T07:13:34.425Z"
   },
   {
    "duration": 899,
    "start_time": "2022-10-18T07:14:03.825Z"
   },
   {
    "duration": 662,
    "start_time": "2022-10-18T07:14:33.769Z"
   },
   {
    "duration": 604,
    "start_time": "2022-10-18T07:15:00.513Z"
   },
   {
    "duration": 25,
    "start_time": "2022-10-18T07:15:33.546Z"
   },
   {
    "duration": 15,
    "start_time": "2022-10-18T07:16:05.058Z"
   },
   {
    "duration": 17,
    "start_time": "2022-10-18T07:16:12.402Z"
   },
   {
    "duration": 13,
    "start_time": "2022-10-18T07:17:12.143Z"
   },
   {
    "duration": 12,
    "start_time": "2022-10-18T07:17:36.519Z"
   },
   {
    "duration": 17,
    "start_time": "2022-10-18T07:18:01.155Z"
   },
   {
    "duration": 10,
    "start_time": "2022-10-18T07:18:29.972Z"
   },
   {
    "duration": 9,
    "start_time": "2022-10-18T07:22:15.455Z"
   },
   {
    "duration": 3,
    "start_time": "2022-10-18T07:23:39.035Z"
   },
   {
    "duration": 571,
    "start_time": "2022-10-18T07:23:42.043Z"
   },
   {
    "duration": 9,
    "start_time": "2022-10-18T07:23:47.203Z"
   },
   {
    "duration": 2,
    "start_time": "2022-10-18T07:27:46.230Z"
   },
   {
    "duration": 2,
    "start_time": "2022-10-18T07:27:46.593Z"
   },
   {
    "duration": 3,
    "start_time": "2022-10-18T07:27:50.229Z"
   },
   {
    "duration": 20,
    "start_time": "2022-10-18T07:57:14.341Z"
   },
   {
    "duration": 154,
    "start_time": "2022-10-18T07:57:27.377Z"
   },
   {
    "duration": 133,
    "start_time": "2022-10-18T07:58:17.241Z"
   },
   {
    "duration": 6,
    "start_time": "2022-10-18T07:58:30.871Z"
   },
   {
    "duration": 629,
    "start_time": "2022-10-18T08:03:08.661Z"
   },
   {
    "duration": 6,
    "start_time": "2022-10-18T08:03:40.718Z"
   },
   {
    "duration": 66,
    "start_time": "2022-10-18T08:20:19.753Z"
   },
   {
    "duration": 7,
    "start_time": "2022-10-18T08:20:44.204Z"
   },
   {
    "duration": 5,
    "start_time": "2022-10-18T08:20:47.558Z"
   },
   {
    "duration": 7,
    "start_time": "2022-10-18T08:21:21.746Z"
   },
   {
    "duration": 55,
    "start_time": "2022-10-18T08:23:23.251Z"
   },
   {
    "duration": 8,
    "start_time": "2022-10-18T08:25:16.280Z"
   },
   {
    "duration": 2,
    "start_time": "2022-10-18T08:25:29.757Z"
   },
   {
    "duration": 52,
    "start_time": "2022-10-19T07:21:07.874Z"
   },
   {
    "duration": 1051,
    "start_time": "2022-10-19T07:21:11.113Z"
   },
   {
    "duration": 1551,
    "start_time": "2022-10-19T07:21:12.166Z"
   },
   {
    "duration": 2,
    "start_time": "2022-10-19T07:21:13.719Z"
   },
   {
    "duration": 57,
    "start_time": "2022-10-19T07:21:13.723Z"
   },
   {
    "duration": 18,
    "start_time": "2022-10-19T07:21:13.782Z"
   },
   {
    "duration": 23,
    "start_time": "2022-10-19T07:21:13.802Z"
   },
   {
    "duration": 4,
    "start_time": "2022-10-19T07:21:14.651Z"
   },
   {
    "duration": 8,
    "start_time": "2022-10-19T07:22:06.369Z"
   },
   {
    "duration": 5,
    "start_time": "2022-10-19T07:22:07.413Z"
   },
   {
    "duration": 6,
    "start_time": "2022-10-19T07:24:07.854Z"
   },
   {
    "duration": 5,
    "start_time": "2022-10-19T07:24:08.146Z"
   },
   {
    "duration": 4,
    "start_time": "2022-10-19T07:32:38.149Z"
   },
   {
    "duration": 5,
    "start_time": "2022-10-19T07:33:51.696Z"
   },
   {
    "duration": 4,
    "start_time": "2022-10-19T07:34:00.168Z"
   },
   {
    "duration": 3,
    "start_time": "2022-10-19T07:34:03.709Z"
   },
   {
    "duration": 4,
    "start_time": "2022-10-19T07:34:10.064Z"
   },
   {
    "duration": 3,
    "start_time": "2022-10-19T07:34:14.013Z"
   },
   {
    "duration": 4,
    "start_time": "2022-10-19T07:34:18.260Z"
   },
   {
    "duration": 5,
    "start_time": "2022-10-19T07:34:22.649Z"
   },
   {
    "duration": 3,
    "start_time": "2022-10-19T07:36:06.178Z"
   },
   {
    "duration": 4,
    "start_time": "2022-10-19T07:36:16.594Z"
   },
   {
    "duration": 4,
    "start_time": "2022-10-19T07:38:30.413Z"
   },
   {
    "duration": 3,
    "start_time": "2022-10-19T07:42:13.330Z"
   },
   {
    "duration": 4,
    "start_time": "2022-10-19T07:42:14.527Z"
   },
   {
    "duration": 3,
    "start_time": "2022-10-19T07:42:14.810Z"
   },
   {
    "duration": 18,
    "start_time": "2022-10-19T07:43:09.210Z"
   },
   {
    "duration": 4,
    "start_time": "2022-10-19T07:43:09.387Z"
   },
   {
    "duration": 14,
    "start_time": "2022-10-19T07:43:50.236Z"
   },
   {
    "duration": 3,
    "start_time": "2022-10-19T07:51:57.043Z"
   },
   {
    "duration": 2,
    "start_time": "2022-10-19T07:52:00.900Z"
   },
   {
    "duration": 2,
    "start_time": "2022-10-19T07:52:10.235Z"
   },
   {
    "duration": 19,
    "start_time": "2022-10-19T08:10:49.791Z"
   },
   {
    "duration": 2,
    "start_time": "2022-10-19T08:12:35.857Z"
   },
   {
    "duration": 9,
    "start_time": "2022-10-19T08:32:11.768Z"
   },
   {
    "duration": 1157,
    "start_time": "2022-10-19T08:47:02.399Z"
   },
   {
    "duration": 672,
    "start_time": "2022-10-19T08:47:03.557Z"
   },
   {
    "duration": 6,
    "start_time": "2022-10-19T08:47:04.231Z"
   },
   {
    "duration": 51,
    "start_time": "2022-10-19T08:47:04.239Z"
   },
   {
    "duration": 35,
    "start_time": "2022-10-19T08:47:04.292Z"
   },
   {
    "duration": 29,
    "start_time": "2022-10-19T08:47:04.328Z"
   },
   {
    "duration": 28,
    "start_time": "2022-10-19T08:47:04.359Z"
   },
   {
    "duration": 58,
    "start_time": "2022-10-19T08:47:04.388Z"
   },
   {
    "duration": 1087,
    "start_time": "2022-10-19T08:47:31.021Z"
   },
   {
    "duration": 680,
    "start_time": "2022-10-19T08:47:32.110Z"
   },
   {
    "duration": 8,
    "start_time": "2022-10-19T08:47:32.792Z"
   },
   {
    "duration": 13,
    "start_time": "2022-10-19T08:47:32.802Z"
   },
   {
    "duration": 5,
    "start_time": "2022-10-19T08:47:32.817Z"
   },
   {
    "duration": 6,
    "start_time": "2022-10-19T08:47:32.824Z"
   },
   {
    "duration": 10,
    "start_time": "2022-10-19T08:47:32.832Z"
   },
   {
    "duration": 26292,
    "start_time": "2022-10-19T08:47:32.844Z"
   },
   {
    "duration": 11,
    "start_time": "2022-10-19T08:51:19.790Z"
   },
   {
    "duration": 64,
    "start_time": "2022-10-19T08:52:53.692Z"
   },
   {
    "duration": 3,
    "start_time": "2022-10-19T09:03:21.087Z"
   },
   {
    "duration": 3,
    "start_time": "2022-10-19T09:03:24.590Z"
   },
   {
    "duration": 2,
    "start_time": "2022-10-19T09:03:34.328Z"
   },
   {
    "duration": 2,
    "start_time": "2022-10-19T09:03:34.442Z"
   },
   {
    "duration": 2,
    "start_time": "2022-10-19T09:03:34.594Z"
   },
   {
    "duration": 8,
    "start_time": "2022-10-19T09:03:49.141Z"
   },
   {
    "duration": 11,
    "start_time": "2022-10-19T09:03:56.490Z"
   },
   {
    "duration": 9,
    "start_time": "2022-10-19T09:04:16.348Z"
   },
   {
    "duration": 49,
    "start_time": "2022-10-20T05:45:04.537Z"
   },
   {
    "duration": 1130,
    "start_time": "2022-10-20T05:45:12.561Z"
   },
   {
    "duration": 3450,
    "start_time": "2022-10-20T05:45:13.693Z"
   },
   {
    "duration": 8,
    "start_time": "2022-10-20T05:45:17.145Z"
   },
   {
    "duration": 53,
    "start_time": "2022-10-20T05:45:17.155Z"
   },
   {
    "duration": 23,
    "start_time": "2022-10-20T05:45:17.209Z"
   },
   {
    "duration": 19,
    "start_time": "2022-10-20T05:45:17.234Z"
   },
   {
    "duration": 26,
    "start_time": "2022-10-20T05:45:17.255Z"
   },
   {
    "duration": 38,
    "start_time": "2022-10-20T05:45:17.282Z"
   },
   {
    "duration": 7,
    "start_time": "2022-10-20T05:45:17.322Z"
   },
   {
    "duration": 278,
    "start_time": "2022-10-20T05:45:23.857Z"
   },
   {
    "duration": 67,
    "start_time": "2022-10-20T05:45:52.785Z"
   },
   {
    "duration": 4,
    "start_time": "2022-10-20T05:51:09.808Z"
   },
   {
    "duration": 17,
    "start_time": "2022-10-20T05:51:14.380Z"
   },
   {
    "duration": 2,
    "start_time": "2022-10-20T05:51:29.280Z"
   },
   {
    "duration": 62,
    "start_time": "2022-10-20T05:51:35.797Z"
   },
   {
    "duration": 9,
    "start_time": "2022-10-20T05:53:03.357Z"
   },
   {
    "duration": 9,
    "start_time": "2022-10-20T05:54:18.370Z"
   },
   {
    "duration": 11,
    "start_time": "2022-10-20T05:54:24.234Z"
   },
   {
    "duration": 9,
    "start_time": "2022-10-20T05:54:30.034Z"
   },
   {
    "duration": 7,
    "start_time": "2022-10-20T05:56:45.456Z"
   },
   {
    "duration": 144,
    "start_time": "2022-10-20T05:57:13.500Z"
   },
   {
    "duration": 11,
    "start_time": "2022-10-20T05:57:21.164Z"
   },
   {
    "duration": 9,
    "start_time": "2022-10-20T05:57:48.060Z"
   },
   {
    "duration": 73,
    "start_time": "2022-10-20T05:59:26.337Z"
   },
   {
    "duration": 8,
    "start_time": "2022-10-20T05:59:55.091Z"
   },
   {
    "duration": 17,
    "start_time": "2022-10-20T06:08:29.519Z"
   },
   {
    "duration": 3,
    "start_time": "2022-10-20T06:10:17.512Z"
   },
   {
    "duration": 98,
    "start_time": "2022-10-20T06:11:17.857Z"
   },
   {
    "duration": 44,
    "start_time": "2022-10-20T06:12:00.561Z"
   },
   {
    "duration": 3,
    "start_time": "2022-10-20T06:12:16.805Z"
   },
   {
    "duration": 3,
    "start_time": "2022-10-20T06:12:16.993Z"
   },
   {
    "duration": 15,
    "start_time": "2022-10-20T06:14:26.210Z"
   },
   {
    "duration": 3,
    "start_time": "2022-10-20T06:14:29.035Z"
   },
   {
    "duration": 242,
    "start_time": "2022-10-20T06:18:04.561Z"
   },
   {
    "duration": 3,
    "start_time": "2022-10-20T06:20:07.782Z"
   },
   {
    "duration": 79,
    "start_time": "2022-10-20T06:20:47.987Z"
   },
   {
    "duration": 5,
    "start_time": "2022-10-20T06:20:53.883Z"
   },
   {
    "duration": 713,
    "start_time": "2022-10-20T06:22:11.228Z"
   },
   {
    "duration": 8,
    "start_time": "2022-10-20T06:22:35.571Z"
   },
   {
    "duration": 17,
    "start_time": "2022-10-20T06:22:41.707Z"
   },
   {
    "duration": 15,
    "start_time": "2022-10-20T06:22:57.155Z"
   },
   {
    "duration": 1092,
    "start_time": "2022-10-20T06:23:08.073Z"
   },
   {
    "duration": 695,
    "start_time": "2022-10-20T06:23:09.167Z"
   },
   {
    "duration": 6,
    "start_time": "2022-10-20T06:23:09.864Z"
   },
   {
    "duration": 17,
    "start_time": "2022-10-20T06:23:09.872Z"
   },
   {
    "duration": 2,
    "start_time": "2022-10-20T06:23:09.890Z"
   },
   {
    "duration": 4,
    "start_time": "2022-10-20T06:23:09.894Z"
   },
   {
    "duration": 6,
    "start_time": "2022-10-20T06:23:09.899Z"
   },
   {
    "duration": 8,
    "start_time": "2022-10-20T06:23:09.906Z"
   },
   {
    "duration": 4,
    "start_time": "2022-10-20T06:23:09.916Z"
   },
   {
    "duration": 12,
    "start_time": "2022-10-20T06:23:09.922Z"
   },
   {
    "duration": 7,
    "start_time": "2022-10-20T06:23:09.936Z"
   },
   {
    "duration": 70,
    "start_time": "2022-10-20T06:23:09.945Z"
   },
   {
    "duration": 20,
    "start_time": "2022-10-20T06:24:02.636Z"
   },
   {
    "duration": 93,
    "start_time": "2022-10-20T06:43:43.305Z"
   },
   {
    "duration": 9,
    "start_time": "2022-10-20T06:44:04.380Z"
   },
   {
    "duration": 1141,
    "start_time": "2022-10-20T06:44:14.612Z"
   },
   {
    "duration": 765,
    "start_time": "2022-10-20T06:44:15.754Z"
   },
   {
    "duration": 7,
    "start_time": "2022-10-20T06:44:16.521Z"
   },
   {
    "duration": 21,
    "start_time": "2022-10-20T06:44:16.529Z"
   },
   {
    "duration": 10,
    "start_time": "2022-10-20T06:44:16.552Z"
   },
   {
    "duration": 24,
    "start_time": "2022-10-20T06:44:16.564Z"
   },
   {
    "duration": 31,
    "start_time": "2022-10-20T06:44:16.590Z"
   },
   {
    "duration": 29,
    "start_time": "2022-10-20T06:44:16.623Z"
   },
   {
    "duration": 33,
    "start_time": "2022-10-20T06:44:16.653Z"
   },
   {
    "duration": 116,
    "start_time": "2022-10-20T06:44:16.688Z"
   },
   {
    "duration": 0,
    "start_time": "2022-10-20T06:44:16.805Z"
   },
   {
    "duration": 0,
    "start_time": "2022-10-20T06:44:16.807Z"
   },
   {
    "duration": 13,
    "start_time": "2022-10-20T06:44:27.034Z"
   },
   {
    "duration": 12,
    "start_time": "2022-10-20T06:44:34.447Z"
   },
   {
    "duration": 10,
    "start_time": "2022-10-20T06:44:37.073Z"
   },
   {
    "duration": 14,
    "start_time": "2022-10-20T06:44:46.449Z"
   },
   {
    "duration": 66,
    "start_time": "2022-10-20T06:53:08.582Z"
   },
   {
    "duration": 3,
    "start_time": "2022-10-20T06:53:14.277Z"
   },
   {
    "duration": 8,
    "start_time": "2022-10-20T06:53:20.506Z"
   },
   {
    "duration": 9,
    "start_time": "2022-10-20T06:53:26.761Z"
   },
   {
    "duration": 28,
    "start_time": "2022-10-20T06:53:54.930Z"
   },
   {
    "duration": 10,
    "start_time": "2022-10-20T06:54:31.062Z"
   },
   {
    "duration": 9,
    "start_time": "2022-10-20T06:59:34.073Z"
   },
   {
    "duration": 84,
    "start_time": "2022-10-20T06:59:45.469Z"
   },
   {
    "duration": 103,
    "start_time": "2022-10-20T07:00:19.226Z"
   },
   {
    "duration": 1191,
    "start_time": "2022-10-20T13:13:49.828Z"
   },
   {
    "duration": 3095,
    "start_time": "2022-10-20T13:13:51.022Z"
   },
   {
    "duration": 11,
    "start_time": "2022-10-20T13:13:54.120Z"
   },
   {
    "duration": 10,
    "start_time": "2022-10-20T13:13:54.134Z"
   },
   {
    "duration": 3,
    "start_time": "2022-10-20T13:13:54.146Z"
   },
   {
    "duration": 5,
    "start_time": "2022-10-20T13:13:54.152Z"
   },
   {
    "duration": 5,
    "start_time": "2022-10-20T13:13:54.159Z"
   },
   {
    "duration": 4,
    "start_time": "2022-10-20T13:13:54.166Z"
   },
   {
    "duration": 7,
    "start_time": "2022-10-20T13:13:54.172Z"
   },
   {
    "duration": 46,
    "start_time": "2022-10-20T13:13:54.182Z"
   },
   {
    "duration": 10,
    "start_time": "2022-10-20T13:13:54.230Z"
   },
   {
    "duration": 5,
    "start_time": "2022-10-20T13:13:54.241Z"
   },
   {
    "duration": 206,
    "start_time": "2022-10-20T13:14:05.778Z"
   },
   {
    "duration": 76,
    "start_time": "2022-10-20T13:15:46.529Z"
   },
   {
    "duration": 1146,
    "start_time": "2022-10-20T13:16:13.495Z"
   },
   {
    "duration": 759,
    "start_time": "2022-10-20T13:16:14.643Z"
   },
   {
    "duration": 9,
    "start_time": "2022-10-20T13:16:15.404Z"
   },
   {
    "duration": 17,
    "start_time": "2022-10-20T13:16:15.415Z"
   },
   {
    "duration": 4,
    "start_time": "2022-10-20T13:16:15.434Z"
   },
   {
    "duration": 5,
    "start_time": "2022-10-20T13:16:15.439Z"
   },
   {
    "duration": 19,
    "start_time": "2022-10-20T13:16:15.445Z"
   },
   {
    "duration": 4,
    "start_time": "2022-10-20T13:16:15.466Z"
   },
   {
    "duration": 4,
    "start_time": "2022-10-20T13:16:15.472Z"
   },
   {
    "duration": 17,
    "start_time": "2022-10-20T13:16:15.479Z"
   },
   {
    "duration": 11,
    "start_time": "2022-10-20T13:16:15.523Z"
   },
   {
    "duration": 88,
    "start_time": "2022-10-20T13:16:15.536Z"
   },
   {
    "duration": 71,
    "start_time": "2022-10-20T13:16:54.765Z"
   },
   {
    "duration": 377,
    "start_time": "2022-10-20T13:17:15.795Z"
   },
   {
    "duration": 6,
    "start_time": "2022-10-20T13:22:21.664Z"
   },
   {
    "duration": 1467,
    "start_time": "2022-10-20T13:23:55.748Z"
   },
   {
    "duration": 1137,
    "start_time": "2022-10-20T13:24:15.569Z"
   },
   {
    "duration": 11732,
    "start_time": "2022-10-20T13:25:45.058Z"
   },
   {
    "duration": 11,
    "start_time": "2022-10-20T13:28:30.686Z"
   },
   {
    "duration": 9,
    "start_time": "2022-10-20T13:28:45.923Z"
   },
   {
    "duration": 8,
    "start_time": "2022-10-20T13:29:35.055Z"
   },
   {
    "duration": 5,
    "start_time": "2022-10-20T13:29:35.228Z"
   },
   {
    "duration": 20,
    "start_time": "2022-10-20T13:29:35.707Z"
   },
   {
    "duration": 1055,
    "start_time": "2022-10-20T13:29:53.260Z"
   },
   {
    "duration": 729,
    "start_time": "2022-10-20T13:29:54.317Z"
   },
   {
    "duration": 8,
    "start_time": "2022-10-20T13:29:55.048Z"
   },
   {
    "duration": 10,
    "start_time": "2022-10-20T13:29:55.058Z"
   },
   {
    "duration": 4,
    "start_time": "2022-10-20T14:28:14.273Z"
   },
   {
    "duration": 806,
    "start_time": "2022-10-20T14:28:15.241Z"
   },
   {
    "duration": 9,
    "start_time": "2022-10-20T14:28:16.050Z"
   },
   {
    "duration": 7,
    "start_time": "2022-10-20T14:28:16.522Z"
   },
   {
    "duration": 3,
    "start_time": "2022-10-20T14:28:16.990Z"
   },
   {
    "duration": 3,
    "start_time": "2022-10-20T14:28:18.306Z"
   },
   {
    "duration": 2,
    "start_time": "2022-10-20T14:28:18.641Z"
   },
   {
    "duration": 3,
    "start_time": "2022-10-20T14:28:19.018Z"
   },
   {
    "duration": 3,
    "start_time": "2022-10-20T14:28:20.365Z"
   },
   {
    "duration": 4,
    "start_time": "2022-10-20T14:28:20.777Z"
   },
   {
    "duration": 25,
    "start_time": "2022-10-20T14:28:21.574Z"
   },
   {
    "duration": 12,
    "start_time": "2022-10-20T14:28:22.526Z"
   },
   {
    "duration": 15043,
    "start_time": "2022-10-20T14:28:25.154Z"
   },
   {
    "duration": 12976,
    "start_time": "2022-10-20T14:29:08.390Z"
   },
   {
    "duration": 47,
    "start_time": "2022-10-21T08:01:46.249Z"
   },
   {
    "duration": 1073,
    "start_time": "2022-10-21T08:01:50.134Z"
   },
   {
    "duration": 3524,
    "start_time": "2022-10-21T08:01:51.209Z"
   },
   {
    "duration": 7,
    "start_time": "2022-10-21T08:01:54.735Z"
   },
   {
    "duration": 13,
    "start_time": "2022-10-21T08:01:54.744Z"
   },
   {
    "duration": 5,
    "start_time": "2022-10-21T08:01:54.759Z"
   },
   {
    "duration": 2,
    "start_time": "2022-10-21T08:01:55.994Z"
   },
   {
    "duration": 3,
    "start_time": "2022-10-21T08:01:56.301Z"
   },
   {
    "duration": 3,
    "start_time": "2022-10-21T08:01:56.742Z"
   },
   {
    "duration": 70,
    "start_time": "2022-10-21T08:01:58.274Z"
   },
   {
    "duration": 2,
    "start_time": "2022-10-21T08:01:59.526Z"
   },
   {
    "duration": 16,
    "start_time": "2022-10-21T08:02:00.967Z"
   },
   {
    "duration": 9,
    "start_time": "2022-10-21T08:02:01.941Z"
   },
   {
    "duration": 14506,
    "start_time": "2022-10-21T08:02:02.926Z"
   },
   {
    "duration": 119,
    "start_time": "2022-10-21T08:04:22.623Z"
   },
   {
    "duration": 2,
    "start_time": "2022-10-21T08:09:59.148Z"
   },
   {
    "duration": 58,
    "start_time": "2022-10-21T08:10:05.099Z"
   },
   {
    "duration": 11248,
    "start_time": "2022-10-21T08:10:37.903Z"
   },
   {
    "duration": 138,
    "start_time": "2022-10-21T08:11:58.811Z"
   },
   {
    "duration": 9,
    "start_time": "2022-10-21T08:12:09.463Z"
   },
   {
    "duration": 9,
    "start_time": "2022-10-21T08:13:21.584Z"
   },
   {
    "duration": 9,
    "start_time": "2022-10-21T08:13:33.548Z"
   },
   {
    "duration": 9,
    "start_time": "2022-10-21T08:13:48.424Z"
   },
   {
    "duration": 15,
    "start_time": "2022-10-21T08:14:55.921Z"
   },
   {
    "duration": 19,
    "start_time": "2022-10-21T08:15:18.530Z"
   },
   {
    "duration": 37,
    "start_time": "2022-10-21T08:16:15.211Z"
   },
   {
    "duration": 30,
    "start_time": "2022-10-21T08:16:21.514Z"
   },
   {
    "duration": 25,
    "start_time": "2022-10-21T08:16:42.999Z"
   },
   {
    "duration": 30,
    "start_time": "2022-10-21T08:17:12.510Z"
   },
   {
    "duration": 85,
    "start_time": "2022-10-21T08:24:58.663Z"
   },
   {
    "duration": 72,
    "start_time": "2022-10-21T08:25:34.003Z"
   },
   {
    "duration": 74,
    "start_time": "2022-10-21T08:25:49.336Z"
   },
   {
    "duration": 70,
    "start_time": "2022-10-21T08:25:55.223Z"
   },
   {
    "duration": 20,
    "start_time": "2022-10-21T08:25:58.704Z"
   },
   {
    "duration": 1398,
    "start_time": "2022-10-21T08:27:53.062Z"
   },
   {
    "duration": 19,
    "start_time": "2022-10-21T08:29:09.518Z"
   },
   {
    "duration": 25,
    "start_time": "2022-10-21T08:29:34.027Z"
   },
   {
    "duration": 19,
    "start_time": "2022-10-21T08:29:40.826Z"
   },
   {
    "duration": 38,
    "start_time": "2022-10-21T08:35:38.555Z"
   },
   {
    "duration": 19,
    "start_time": "2022-10-21T08:35:43.562Z"
   },
   {
    "duration": 18,
    "start_time": "2022-10-21T08:36:06.166Z"
   },
   {
    "duration": 14,
    "start_time": "2022-10-21T08:50:43.886Z"
   },
   {
    "duration": 13,
    "start_time": "2022-10-21T08:50:53.323Z"
   },
   {
    "duration": 11,
    "start_time": "2022-10-21T08:51:28.815Z"
   },
   {
    "duration": 10,
    "start_time": "2022-10-21T08:51:48.195Z"
   },
   {
    "duration": 11,
    "start_time": "2022-10-21T08:52:07.999Z"
   },
   {
    "duration": 14,
    "start_time": "2022-10-21T08:53:37.607Z"
   },
   {
    "duration": 19,
    "start_time": "2022-10-21T08:54:00.009Z"
   },
   {
    "duration": 27,
    "start_time": "2022-10-21T08:54:26.189Z"
   },
   {
    "duration": 34,
    "start_time": "2022-10-21T08:54:46.513Z"
   },
   {
    "duration": 487,
    "start_time": "2022-10-21T09:00:04.203Z"
   },
   {
    "duration": 17,
    "start_time": "2022-10-21T09:02:18.905Z"
   },
   {
    "duration": 25,
    "start_time": "2022-10-21T09:02:28.329Z"
   },
   {
    "duration": 17,
    "start_time": "2022-10-21T09:02:44.406Z"
   },
   {
    "duration": 400,
    "start_time": "2022-10-21T09:05:05.431Z"
   },
   {
    "duration": 165,
    "start_time": "2022-10-21T09:05:49.787Z"
   },
   {
    "duration": 4,
    "start_time": "2022-10-21T09:06:42.459Z"
   },
   {
    "duration": 158,
    "start_time": "2022-10-21T09:06:46.347Z"
   },
   {
    "duration": 558,
    "start_time": "2022-10-21T09:07:06.780Z"
   },
   {
    "duration": 295,
    "start_time": "2022-10-21T09:07:36.673Z"
   },
   {
    "duration": 239,
    "start_time": "2022-10-21T09:08:17.361Z"
   },
   {
    "duration": 1298,
    "start_time": "2022-10-21T09:10:24.103Z"
   },
   {
    "duration": 261,
    "start_time": "2022-10-21T09:10:34.114Z"
   },
   {
    "duration": 111,
    "start_time": "2022-10-21T09:11:59.968Z"
   },
   {
    "duration": 74,
    "start_time": "2022-10-21T09:12:09.039Z"
   },
   {
    "duration": 1189,
    "start_time": "2022-10-21T09:12:13.276Z"
   },
   {
    "duration": 18,
    "start_time": "2022-10-21T09:12:21.847Z"
   },
   {
    "duration": 251,
    "start_time": "2022-10-21T09:13:07.920Z"
   },
   {
    "duration": 247,
    "start_time": "2022-10-21T09:15:59.254Z"
   },
   {
    "duration": 329,
    "start_time": "2022-10-21T09:19:06.456Z"
   },
   {
    "duration": 12,
    "start_time": "2022-10-21T09:19:48.966Z"
   },
   {
    "duration": 162,
    "start_time": "2022-10-21T09:23:33.247Z"
   },
   {
    "duration": 161,
    "start_time": "2022-10-21T09:28:44.182Z"
   },
   {
    "duration": 166,
    "start_time": "2022-10-21T09:29:29.746Z"
   },
   {
    "duration": 266,
    "start_time": "2022-10-21T09:29:53.614Z"
   },
   {
    "duration": 1403,
    "start_time": "2022-10-21T09:30:33.650Z"
   },
   {
    "duration": 682,
    "start_time": "2022-10-21T09:30:35.056Z"
   },
   {
    "duration": 8,
    "start_time": "2022-10-21T09:30:35.740Z"
   },
   {
    "duration": 7,
    "start_time": "2022-10-21T09:30:35.750Z"
   },
   {
    "duration": 5,
    "start_time": "2022-10-21T09:30:35.759Z"
   },
   {
    "duration": 8,
    "start_time": "2022-10-21T09:30:35.766Z"
   },
   {
    "duration": 4,
    "start_time": "2022-10-21T09:30:35.775Z"
   },
   {
    "duration": 13,
    "start_time": "2022-10-21T09:30:35.781Z"
   },
   {
    "duration": 2,
    "start_time": "2022-10-21T09:30:35.796Z"
   },
   {
    "duration": 5,
    "start_time": "2022-10-21T09:30:35.800Z"
   },
   {
    "duration": 19,
    "start_time": "2022-10-21T09:30:35.806Z"
   },
   {
    "duration": 8,
    "start_time": "2022-10-21T09:30:35.827Z"
   },
   {
    "duration": 13859,
    "start_time": "2022-10-21T09:30:35.837Z"
   },
   {
    "duration": 165,
    "start_time": "2022-10-21T09:30:49.698Z"
   },
   {
    "duration": 122,
    "start_time": "2022-10-21T09:32:13.624Z"
   },
   {
    "duration": 23,
    "start_time": "2022-10-21T09:32:48.728Z"
   },
   {
    "duration": 163,
    "start_time": "2022-10-21T09:32:55.559Z"
   },
   {
    "duration": 151,
    "start_time": "2022-10-21T09:33:00.812Z"
   },
   {
    "duration": 147,
    "start_time": "2022-10-21T09:33:40.548Z"
   },
   {
    "duration": 195,
    "start_time": "2022-10-21T09:33:46.628Z"
   },
   {
    "duration": 148,
    "start_time": "2022-10-21T09:33:52.952Z"
   },
   {
    "duration": 195,
    "start_time": "2022-10-21T09:34:40.685Z"
   },
   {
    "duration": 1793,
    "start_time": "2022-10-21T09:35:31.937Z"
   },
   {
    "duration": 119,
    "start_time": "2022-10-21T09:35:47.634Z"
   },
   {
    "duration": 26,
    "start_time": "2022-10-21T09:36:06.650Z"
   },
   {
    "duration": 131,
    "start_time": "2022-10-21T09:36:44.522Z"
   },
   {
    "duration": 26,
    "start_time": "2022-10-21T09:39:49.176Z"
   },
   {
    "duration": 24,
    "start_time": "2022-10-21T09:40:11.176Z"
   },
   {
    "duration": 226,
    "start_time": "2022-10-21T09:40:31.800Z"
   },
   {
    "duration": 166,
    "start_time": "2022-10-21T09:40:42.424Z"
   },
   {
    "duration": 210,
    "start_time": "2022-10-21T09:40:51.293Z"
   },
   {
    "duration": 193,
    "start_time": "2022-10-21T09:42:00.577Z"
   },
   {
    "duration": 190,
    "start_time": "2022-10-21T09:42:05.621Z"
   },
   {
    "duration": 189,
    "start_time": "2022-10-21T09:42:15.078Z"
   },
   {
    "duration": 344,
    "start_time": "2022-10-21T09:42:56.370Z"
   },
   {
    "duration": 193,
    "start_time": "2022-10-21T09:43:07.046Z"
   },
   {
    "duration": 28,
    "start_time": "2022-10-21T09:43:26.666Z"
   },
   {
    "duration": 21,
    "start_time": "2022-10-21T09:43:35.330Z"
   },
   {
    "duration": 22,
    "start_time": "2022-10-21T09:43:44.219Z"
   },
   {
    "duration": 22,
    "start_time": "2022-10-21T09:43:52.515Z"
   },
   {
    "duration": 1406,
    "start_time": "2022-10-21T09:46:10.469Z"
   },
   {
    "duration": 23,
    "start_time": "2022-10-21T09:46:20.304Z"
   },
   {
    "duration": 188,
    "start_time": "2022-10-21T09:46:31.668Z"
   },
   {
    "duration": 155,
    "start_time": "2022-10-21T09:48:09.670Z"
   },
   {
    "duration": 97,
    "start_time": "2022-10-21T09:52:19.309Z"
   },
   {
    "duration": 26,
    "start_time": "2022-10-21T09:52:25.385Z"
   },
   {
    "duration": 25,
    "start_time": "2022-10-21T09:53:26.414Z"
   },
   {
    "duration": 21,
    "start_time": "2022-10-21T09:54:02.669Z"
   },
   {
    "duration": 12,
    "start_time": "2022-10-21T09:54:13.026Z"
   },
   {
    "duration": 185,
    "start_time": "2022-10-21T09:54:25.974Z"
   },
   {
    "duration": 138,
    "start_time": "2022-10-21T09:54:55.718Z"
   },
   {
    "duration": 185,
    "start_time": "2022-10-21T09:55:12.406Z"
   },
   {
    "duration": 184,
    "start_time": "2022-10-21T09:55:20.126Z"
   },
   {
    "duration": 440,
    "start_time": "2022-10-21T09:55:38.974Z"
   },
   {
    "duration": 182,
    "start_time": "2022-10-21T09:55:55.454Z"
   },
   {
    "duration": 172,
    "start_time": "2022-10-21T09:56:55.327Z"
   },
   {
    "duration": 171,
    "start_time": "2022-10-21T09:57:05.683Z"
   },
   {
    "duration": 188,
    "start_time": "2022-10-21T09:57:47.044Z"
   },
   {
    "duration": 176,
    "start_time": "2022-10-21T09:57:52.884Z"
   },
   {
    "duration": 5,
    "start_time": "2022-10-21T09:58:09.192Z"
   },
   {
    "duration": 173,
    "start_time": "2022-10-21T09:58:09.436Z"
   },
   {
    "duration": 172,
    "start_time": "2022-10-21T09:58:09.660Z"
   },
   {
    "duration": 169,
    "start_time": "2022-10-21T09:58:10.037Z"
   },
   {
    "duration": 6,
    "start_time": "2022-10-21T09:58:59.364Z"
   },
   {
    "duration": 155,
    "start_time": "2022-10-21T09:59:02.169Z"
   },
   {
    "duration": 161,
    "start_time": "2022-10-21T09:59:04.556Z"
   },
   {
    "duration": 163,
    "start_time": "2022-10-21T09:59:04.869Z"
   },
   {
    "duration": 1715,
    "start_time": "2022-10-24T07:47:01.802Z"
   },
   {
    "duration": 3836,
    "start_time": "2022-10-24T07:47:03.520Z"
   },
   {
    "duration": 8,
    "start_time": "2022-10-24T07:47:07.357Z"
   },
   {
    "duration": 6,
    "start_time": "2022-10-24T07:47:07.368Z"
   },
   {
    "duration": 3,
    "start_time": "2022-10-24T07:47:07.375Z"
   },
   {
    "duration": 3,
    "start_time": "2022-10-24T07:47:07.380Z"
   },
   {
    "duration": 3,
    "start_time": "2022-10-24T07:47:07.385Z"
   },
   {
    "duration": 4,
    "start_time": "2022-10-24T07:47:07.390Z"
   },
   {
    "duration": 9,
    "start_time": "2022-10-24T07:47:07.395Z"
   },
   {
    "duration": 17,
    "start_time": "2022-10-24T07:47:07.407Z"
   },
   {
    "duration": 24,
    "start_time": "2022-10-24T07:47:07.425Z"
   },
   {
    "duration": 9,
    "start_time": "2022-10-24T07:47:07.452Z"
   },
   {
    "duration": 13365,
    "start_time": "2022-10-24T07:47:07.463Z"
   },
   {
    "duration": 6,
    "start_time": "2022-10-24T07:47:20.830Z"
   },
   {
    "duration": 232,
    "start_time": "2022-10-24T07:47:20.837Z"
   },
   {
    "duration": 183,
    "start_time": "2022-10-24T07:47:21.070Z"
   },
   {
    "duration": 195,
    "start_time": "2022-10-24T07:47:21.255Z"
   },
   {
    "duration": 116,
    "start_time": "2022-10-24T07:55:14.246Z"
   },
   {
    "duration": 9,
    "start_time": "2022-10-24T07:55:50.563Z"
   },
   {
    "duration": 11,
    "start_time": "2022-10-24T07:59:17.410Z"
   },
   {
    "duration": 328,
    "start_time": "2022-10-24T08:01:31.862Z"
   },
   {
    "duration": 328,
    "start_time": "2022-10-24T08:01:39.803Z"
   },
   {
    "duration": 397,
    "start_time": "2022-10-24T08:04:43.645Z"
   },
   {
    "duration": 391,
    "start_time": "2022-10-24T08:04:58.053Z"
   },
   {
    "duration": 159,
    "start_time": "2022-10-24T08:05:28.809Z"
   },
   {
    "duration": 367,
    "start_time": "2022-10-24T08:05:34.921Z"
   },
   {
    "duration": 41,
    "start_time": "2022-10-24T08:06:36.982Z"
   },
   {
    "duration": 68,
    "start_time": "2022-10-24T08:06:44.536Z"
   },
   {
    "duration": 2,
    "start_time": "2022-10-24T08:07:08.462Z"
   },
   {
    "duration": 3,
    "start_time": "2022-10-24T08:07:11.854Z"
   },
   {
    "duration": 80,
    "start_time": "2022-10-24T08:23:37.724Z"
   },
   {
    "duration": 162,
    "start_time": "2022-10-24T08:23:46.041Z"
   },
   {
    "duration": 120,
    "start_time": "2022-10-24T08:24:19.625Z"
   },
   {
    "duration": 148,
    "start_time": "2022-10-24T08:24:24.033Z"
   },
   {
    "duration": 132,
    "start_time": "2022-10-24T08:24:31.545Z"
   },
   {
    "duration": 6,
    "start_time": "2022-10-24T08:24:58.529Z"
   },
   {
    "duration": 136,
    "start_time": "2022-10-24T08:25:10.505Z"
   },
   {
    "duration": 5,
    "start_time": "2022-10-24T08:25:27.278Z"
   },
   {
    "duration": 138,
    "start_time": "2022-10-24T08:25:32.146Z"
   },
   {
    "duration": 7,
    "start_time": "2022-10-24T08:26:26.207Z"
   },
   {
    "duration": 1431,
    "start_time": "2022-10-24T08:27:53.328Z"
   },
   {
    "duration": 797,
    "start_time": "2022-10-24T08:27:54.761Z"
   },
   {
    "duration": 7,
    "start_time": "2022-10-24T08:27:55.560Z"
   },
   {
    "duration": 9,
    "start_time": "2022-10-24T08:27:55.569Z"
   },
   {
    "duration": 3,
    "start_time": "2022-10-24T08:27:55.580Z"
   },
   {
    "duration": 5,
    "start_time": "2022-10-24T08:27:55.584Z"
   },
   {
    "duration": 7,
    "start_time": "2022-10-24T08:27:55.591Z"
   },
   {
    "duration": 4,
    "start_time": "2022-10-24T08:27:55.599Z"
   },
   {
    "duration": 3,
    "start_time": "2022-10-24T08:27:55.624Z"
   },
   {
    "duration": 4,
    "start_time": "2022-10-24T08:27:55.629Z"
   },
   {
    "duration": 18,
    "start_time": "2022-10-24T08:27:55.635Z"
   },
   {
    "duration": 10,
    "start_time": "2022-10-24T08:27:55.655Z"
   },
   {
    "duration": 13460,
    "start_time": "2022-10-24T08:27:55.667Z"
   },
   {
    "duration": 5,
    "start_time": "2022-10-24T08:28:09.129Z"
   },
   {
    "duration": 215,
    "start_time": "2022-10-24T08:28:09.135Z"
   },
   {
    "duration": 182,
    "start_time": "2022-10-24T08:28:09.351Z"
   },
   {
    "duration": 179,
    "start_time": "2022-10-24T08:28:09.534Z"
   },
   {
    "duration": 377,
    "start_time": "2022-10-24T08:28:09.715Z"
   },
   {
    "duration": 10,
    "start_time": "2022-10-24T08:28:10.094Z"
   },
   {
    "duration": 4,
    "start_time": "2022-10-24T08:33:34.576Z"
   },
   {
    "duration": 258,
    "start_time": "2022-10-24T08:33:50.256Z"
   },
   {
    "duration": 101,
    "start_time": "2022-10-24T08:34:38.376Z"
   },
   {
    "duration": 6,
    "start_time": "2022-10-24T08:34:40.064Z"
   },
   {
    "duration": 193,
    "start_time": "2022-10-24T08:34:40.305Z"
   },
   {
    "duration": 190,
    "start_time": "2022-10-24T08:38:41.838Z"
   },
   {
    "duration": 246,
    "start_time": "2022-10-24T08:38:54.975Z"
   },
   {
    "duration": 625,
    "start_time": "2022-10-24T08:39:30.692Z"
   },
   {
    "duration": 762,
    "start_time": "2022-10-24T08:40:30.608Z"
   },
   {
    "duration": 659,
    "start_time": "2022-10-24T08:40:37.148Z"
   },
   {
    "duration": 801,
    "start_time": "2022-10-24T08:40:42.073Z"
   },
   {
    "duration": 624,
    "start_time": "2022-10-24T08:40:54.276Z"
   },
   {
    "duration": 777,
    "start_time": "2022-10-24T08:41:04.788Z"
   },
   {
    "duration": 641,
    "start_time": "2022-10-24T08:42:18.809Z"
   },
   {
    "duration": 680,
    "start_time": "2022-10-24T08:42:27.413Z"
   },
   {
    "duration": 1039,
    "start_time": "2022-10-24T08:43:01.778Z"
   },
   {
    "duration": 951,
    "start_time": "2022-10-24T08:43:13.902Z"
   },
   {
    "duration": 817,
    "start_time": "2022-10-24T08:45:04.243Z"
   },
   {
    "duration": 943,
    "start_time": "2022-10-24T08:45:15.339Z"
   },
   {
    "duration": 18,
    "start_time": "2022-10-24T08:51:06.798Z"
   },
   {
    "duration": 7,
    "start_time": "2022-10-24T08:51:25.623Z"
   },
   {
    "duration": 6,
    "start_time": "2022-10-24T08:51:57.907Z"
   },
   {
    "duration": 10,
    "start_time": "2022-10-24T08:52:06.871Z"
   },
   {
    "duration": 70,
    "start_time": "2022-10-24T08:52:10.935Z"
   },
   {
    "duration": 11,
    "start_time": "2022-10-24T08:52:18.103Z"
   },
   {
    "duration": 72,
    "start_time": "2022-10-24T08:52:21.215Z"
   },
   {
    "duration": 78,
    "start_time": "2022-10-24T08:53:09.956Z"
   },
   {
    "duration": 83,
    "start_time": "2022-10-24T08:53:18.080Z"
   },
   {
    "duration": 7,
    "start_time": "2022-10-24T08:54:09.828Z"
   },
   {
    "duration": 6,
    "start_time": "2022-10-24T08:54:16.320Z"
   },
   {
    "duration": 6,
    "start_time": "2022-10-24T08:54:20.104Z"
   },
   {
    "duration": 6,
    "start_time": "2022-10-24T08:54:23.124Z"
   },
   {
    "duration": 6,
    "start_time": "2022-10-24T08:54:26.860Z"
   },
   {
    "duration": 12,
    "start_time": "2022-10-24T08:55:32.130Z"
   },
   {
    "duration": 12,
    "start_time": "2022-10-24T08:55:48.913Z"
   },
   {
    "duration": 11,
    "start_time": "2022-10-24T08:56:15.898Z"
   },
   {
    "duration": 10,
    "start_time": "2022-10-24T08:56:46.094Z"
   },
   {
    "duration": 11,
    "start_time": "2022-10-24T08:56:56.314Z"
   },
   {
    "duration": 11,
    "start_time": "2022-10-24T08:57:13.750Z"
   },
   {
    "duration": 18,
    "start_time": "2022-10-24T09:03:37.331Z"
   },
   {
    "duration": 90,
    "start_time": "2022-10-24T09:03:58.102Z"
   },
   {
    "duration": 75,
    "start_time": "2022-10-24T09:04:01.750Z"
   },
   {
    "duration": 4,
    "start_time": "2022-10-24T09:04:07.114Z"
   },
   {
    "duration": 17,
    "start_time": "2022-10-24T09:04:13.102Z"
   },
   {
    "duration": 18,
    "start_time": "2022-10-24T09:04:27.758Z"
   },
   {
    "duration": 16,
    "start_time": "2022-10-24T09:04:39.894Z"
   },
   {
    "duration": 1419,
    "start_time": "2022-10-24T09:04:55.490Z"
   },
   {
    "duration": 741,
    "start_time": "2022-10-24T09:04:56.911Z"
   },
   {
    "duration": 8,
    "start_time": "2022-10-24T09:04:57.653Z"
   },
   {
    "duration": 29,
    "start_time": "2022-10-24T09:04:57.664Z"
   },
   {
    "duration": 4,
    "start_time": "2022-10-24T09:04:57.695Z"
   },
   {
    "duration": 19,
    "start_time": "2022-10-24T09:04:57.700Z"
   },
   {
    "duration": 7,
    "start_time": "2022-10-24T09:04:57.721Z"
   },
   {
    "duration": 13,
    "start_time": "2022-10-24T09:04:57.730Z"
   },
   {
    "duration": 9,
    "start_time": "2022-10-24T09:04:57.744Z"
   },
   {
    "duration": 20,
    "start_time": "2022-10-24T09:04:57.756Z"
   },
   {
    "duration": 23,
    "start_time": "2022-10-24T09:04:57.779Z"
   },
   {
    "duration": 14,
    "start_time": "2022-10-24T09:04:57.803Z"
   },
   {
    "duration": 13325,
    "start_time": "2022-10-24T09:04:57.818Z"
   },
   {
    "duration": 5,
    "start_time": "2022-10-24T09:05:11.145Z"
   },
   {
    "duration": 200,
    "start_time": "2022-10-24T09:05:11.152Z"
   },
   {
    "duration": 174,
    "start_time": "2022-10-24T09:05:11.353Z"
   },
   {
    "duration": 183,
    "start_time": "2022-10-24T09:05:11.529Z"
   },
   {
    "duration": 465,
    "start_time": "2022-10-24T09:05:11.714Z"
   },
   {
    "duration": 9,
    "start_time": "2022-10-24T09:05:12.182Z"
   },
   {
    "duration": 7,
    "start_time": "2022-10-24T09:05:12.193Z"
   },
   {
    "duration": 277,
    "start_time": "2022-10-24T09:05:12.201Z"
   },
   {
    "duration": 866,
    "start_time": "2022-10-24T09:05:12.480Z"
   },
   {
    "duration": 30,
    "start_time": "2022-10-24T09:05:13.349Z"
   },
   {
    "duration": 19,
    "start_time": "2022-10-24T09:05:37.930Z"
   },
   {
    "duration": 5,
    "start_time": "2022-10-24T09:08:19.964Z"
   },
   {
    "duration": 113,
    "start_time": "2022-10-24T09:08:35.428Z"
   },
   {
    "duration": 15,
    "start_time": "2022-10-24T09:08:48.086Z"
   },
   {
    "duration": 4,
    "start_time": "2022-10-24T09:09:28.149Z"
   },
   {
    "duration": 15,
    "start_time": "2022-10-24T09:09:30.150Z"
   },
   {
    "duration": 4,
    "start_time": "2022-10-24T09:10:52.378Z"
   },
   {
    "duration": 13,
    "start_time": "2022-10-24T09:10:52.982Z"
   },
   {
    "duration": 5,
    "start_time": "2022-10-24T09:11:00.323Z"
   },
   {
    "duration": 15,
    "start_time": "2022-10-24T09:11:00.750Z"
   },
   {
    "duration": 4,
    "start_time": "2022-10-24T09:12:19.828Z"
   },
   {
    "duration": 1829,
    "start_time": "2022-10-24T09:12:20.416Z"
   },
   {
    "duration": 10,
    "start_time": "2022-10-24T09:12:37.872Z"
   },
   {
    "duration": 105,
    "start_time": "2022-10-24T09:13:02.076Z"
   },
   {
    "duration": 1201,
    "start_time": "2022-10-24T09:13:02.360Z"
   },
   {
    "duration": 14,
    "start_time": "2022-10-24T09:15:04.519Z"
   },
   {
    "duration": 21,
    "start_time": "2022-10-24T09:16:18.134Z"
   },
   {
    "duration": 33,
    "start_time": "2022-10-24T09:16:55.160Z"
   },
   {
    "duration": 1609,
    "start_time": "2022-10-24T09:17:23.707Z"
   },
   {
    "duration": 781,
    "start_time": "2022-10-24T09:17:25.318Z"
   },
   {
    "duration": 8,
    "start_time": "2022-10-24T09:17:26.101Z"
   },
   {
    "duration": 17,
    "start_time": "2022-10-24T09:17:26.112Z"
   },
   {
    "duration": 4,
    "start_time": "2022-10-24T09:17:26.130Z"
   },
   {
    "duration": 4,
    "start_time": "2022-10-24T09:17:26.136Z"
   },
   {
    "duration": 5,
    "start_time": "2022-10-24T09:17:26.142Z"
   },
   {
    "duration": 5,
    "start_time": "2022-10-24T09:17:26.149Z"
   },
   {
    "duration": 6,
    "start_time": "2022-10-24T09:17:26.156Z"
   },
   {
    "duration": 2,
    "start_time": "2022-10-24T09:17:26.166Z"
   },
   {
    "duration": 56,
    "start_time": "2022-10-24T09:17:26.170Z"
   },
   {
    "duration": 10,
    "start_time": "2022-10-24T09:17:26.227Z"
   },
   {
    "duration": 14197,
    "start_time": "2022-10-24T09:17:26.239Z"
   },
   {
    "duration": 5,
    "start_time": "2022-10-24T09:17:40.438Z"
   },
   {
    "duration": 207,
    "start_time": "2022-10-24T09:17:40.445Z"
   },
   {
    "duration": 172,
    "start_time": "2022-10-24T09:17:40.654Z"
   },
   {
    "duration": 176,
    "start_time": "2022-10-24T09:17:40.828Z"
   },
   {
    "duration": 378,
    "start_time": "2022-10-24T09:17:41.006Z"
   },
   {
    "duration": 11,
    "start_time": "2022-10-24T09:17:41.385Z"
   },
   {
    "duration": 26,
    "start_time": "2022-10-24T09:17:41.398Z"
   },
   {
    "duration": 304,
    "start_time": "2022-10-24T09:17:41.426Z"
   },
   {
    "duration": 942,
    "start_time": "2022-10-24T09:17:41.731Z"
   },
   {
    "duration": 84,
    "start_time": "2022-10-24T09:17:42.675Z"
   },
   {
    "duration": 0,
    "start_time": "2022-10-24T09:17:42.761Z"
   },
   {
    "duration": 0,
    "start_time": "2022-10-24T09:17:42.762Z"
   },
   {
    "duration": 145,
    "start_time": "2022-10-24T09:17:49.984Z"
   },
   {
    "duration": 36,
    "start_time": "2022-10-24T09:18:38.992Z"
   },
   {
    "duration": 1491,
    "start_time": "2022-10-24T09:21:00.528Z"
   },
   {
    "duration": 763,
    "start_time": "2022-10-24T09:21:02.022Z"
   },
   {
    "duration": 9,
    "start_time": "2022-10-24T09:21:02.787Z"
   },
   {
    "duration": 14,
    "start_time": "2022-10-24T09:21:02.798Z"
   },
   {
    "duration": 24,
    "start_time": "2022-10-24T09:21:02.813Z"
   },
   {
    "duration": 31,
    "start_time": "2022-10-24T09:21:02.839Z"
   },
   {
    "duration": 15,
    "start_time": "2022-10-24T09:21:02.872Z"
   },
   {
    "duration": 30,
    "start_time": "2022-10-24T09:21:02.889Z"
   },
   {
    "duration": 18,
    "start_time": "2022-10-24T09:21:02.921Z"
   },
   {
    "duration": 4,
    "start_time": "2022-10-24T09:21:02.942Z"
   },
   {
    "duration": 21,
    "start_time": "2022-10-24T09:21:02.947Z"
   },
   {
    "duration": 9,
    "start_time": "2022-10-24T09:21:02.969Z"
   },
   {
    "duration": 13833,
    "start_time": "2022-10-24T09:21:02.980Z"
   },
   {
    "duration": 10,
    "start_time": "2022-10-24T09:21:16.814Z"
   },
   {
    "duration": 202,
    "start_time": "2022-10-24T09:21:16.826Z"
   },
   {
    "duration": 175,
    "start_time": "2022-10-24T09:21:17.030Z"
   },
   {
    "duration": 180,
    "start_time": "2022-10-24T09:21:17.207Z"
   },
   {
    "duration": 380,
    "start_time": "2022-10-24T09:21:17.389Z"
   },
   {
    "duration": 10,
    "start_time": "2022-10-24T09:21:17.770Z"
   },
   {
    "duration": 19,
    "start_time": "2022-10-24T09:21:17.781Z"
   },
   {
    "duration": 278,
    "start_time": "2022-10-24T09:21:17.802Z"
   },
   {
    "duration": 831,
    "start_time": "2022-10-24T09:21:18.081Z"
   },
   {
    "duration": 153,
    "start_time": "2022-10-24T09:21:18.914Z"
   },
   {
    "duration": 31,
    "start_time": "2022-10-24T09:29:46.265Z"
   },
   {
    "duration": 32,
    "start_time": "2022-10-24T09:29:54.369Z"
   },
   {
    "duration": 24,
    "start_time": "2022-10-24T09:30:02.601Z"
   },
   {
    "duration": 28,
    "start_time": "2022-10-24T09:30:36.757Z"
   },
   {
    "duration": 32,
    "start_time": "2022-10-24T09:31:12.131Z"
   },
   {
    "duration": 36,
    "start_time": "2022-10-24T09:31:29.458Z"
   },
   {
    "duration": 27,
    "start_time": "2022-10-24T09:31:36.927Z"
   },
   {
    "duration": 18,
    "start_time": "2022-10-24T09:32:00.394Z"
   },
   {
    "duration": 1191,
    "start_time": "2022-10-24T09:32:51.867Z"
   },
   {
    "duration": 1291,
    "start_time": "2022-10-24T09:33:00.372Z"
   },
   {
    "duration": 7,
    "start_time": "2022-10-24T09:33:14.139Z"
   },
   {
    "duration": 32,
    "start_time": "2022-10-24T09:33:38.844Z"
   },
   {
    "duration": 30,
    "start_time": "2022-10-24T09:37:37.602Z"
   },
   {
    "duration": 17,
    "start_time": "2022-10-24T09:37:50.539Z"
   },
   {
    "duration": 18,
    "start_time": "2022-10-24T09:37:54.066Z"
   },
   {
    "duration": 6,
    "start_time": "2022-10-24T09:38:17.614Z"
   },
   {
    "duration": 14,
    "start_time": "2022-10-24T09:38:52.547Z"
   },
   {
    "duration": 17,
    "start_time": "2022-10-24T09:39:00.147Z"
   },
   {
    "duration": 17,
    "start_time": "2022-10-24T09:39:13.615Z"
   },
   {
    "duration": 21,
    "start_time": "2022-10-24T09:39:19.312Z"
   },
   {
    "duration": 19,
    "start_time": "2022-10-24T09:39:36.752Z"
   },
   {
    "duration": 1756,
    "start_time": "2022-10-24T09:40:15.672Z"
   },
   {
    "duration": 734,
    "start_time": "2022-10-24T09:40:17.430Z"
   },
   {
    "duration": 8,
    "start_time": "2022-10-24T09:40:18.166Z"
   },
   {
    "duration": 19,
    "start_time": "2022-10-24T09:40:18.176Z"
   },
   {
    "duration": 32,
    "start_time": "2022-10-24T09:40:18.197Z"
   },
   {
    "duration": 19,
    "start_time": "2022-10-24T09:40:18.231Z"
   },
   {
    "duration": 8,
    "start_time": "2022-10-24T09:40:18.252Z"
   },
   {
    "duration": 20,
    "start_time": "2022-10-24T09:40:18.262Z"
   },
   {
    "duration": 13,
    "start_time": "2022-10-24T09:40:18.285Z"
   },
   {
    "duration": 24,
    "start_time": "2022-10-24T09:40:18.301Z"
   },
   {
    "duration": 26,
    "start_time": "2022-10-24T09:40:18.327Z"
   },
   {
    "duration": 11,
    "start_time": "2022-10-24T09:40:18.355Z"
   },
   {
    "duration": 14265,
    "start_time": "2022-10-24T09:40:18.368Z"
   },
   {
    "duration": 6,
    "start_time": "2022-10-24T09:40:32.635Z"
   },
   {
    "duration": 217,
    "start_time": "2022-10-24T09:40:32.643Z"
   },
   {
    "duration": 190,
    "start_time": "2022-10-24T09:40:32.862Z"
   },
   {
    "duration": 179,
    "start_time": "2022-10-24T09:40:33.054Z"
   },
   {
    "duration": 392,
    "start_time": "2022-10-24T09:40:33.235Z"
   },
   {
    "duration": 10,
    "start_time": "2022-10-24T09:40:33.630Z"
   },
   {
    "duration": 31,
    "start_time": "2022-10-24T09:40:33.642Z"
   },
   {
    "duration": 290,
    "start_time": "2022-10-24T09:40:33.675Z"
   },
   {
    "duration": 798,
    "start_time": "2022-10-24T09:40:33.967Z"
   },
   {
    "duration": 5,
    "start_time": "2022-10-24T09:40:34.767Z"
   },
   {
    "duration": 34,
    "start_time": "2022-10-24T09:40:34.773Z"
   },
   {
    "duration": 149,
    "start_time": "2022-10-24T09:40:34.809Z"
   },
   {
    "duration": 11,
    "start_time": "2022-10-24T09:42:32.058Z"
   },
   {
    "duration": 4,
    "start_time": "2022-10-24T09:43:06.278Z"
   },
   {
    "duration": 165,
    "start_time": "2022-10-24T09:43:43.215Z"
   },
   {
    "duration": 13,
    "start_time": "2022-10-24T09:43:51.415Z"
   },
   {
    "duration": 12,
    "start_time": "2022-10-24T09:44:02.990Z"
   },
   {
    "duration": 7,
    "start_time": "2022-10-24T09:44:25.811Z"
   },
   {
    "duration": 8,
    "start_time": "2022-10-24T09:44:32.863Z"
   },
   {
    "duration": 7,
    "start_time": "2022-10-24T09:44:37.439Z"
   },
   {
    "duration": 5,
    "start_time": "2022-10-24T09:44:46.668Z"
   },
   {
    "duration": 7,
    "start_time": "2022-10-24T09:45:01.692Z"
   },
   {
    "duration": 15,
    "start_time": "2022-10-24T09:45:49.512Z"
   },
   {
    "duration": 11,
    "start_time": "2022-10-24T09:48:15.122Z"
   },
   {
    "duration": 34,
    "start_time": "2022-10-24T09:48:38.250Z"
   },
   {
    "duration": 25,
    "start_time": "2022-10-24T09:49:18.731Z"
   },
   {
    "duration": 1542,
    "start_time": "2022-10-24T09:49:30.791Z"
   },
   {
    "duration": 768,
    "start_time": "2022-10-24T09:49:32.336Z"
   },
   {
    "duration": 8,
    "start_time": "2022-10-24T09:49:33.106Z"
   },
   {
    "duration": 12,
    "start_time": "2022-10-24T09:49:33.116Z"
   },
   {
    "duration": 4,
    "start_time": "2022-10-24T09:49:33.130Z"
   },
   {
    "duration": 4,
    "start_time": "2022-10-24T09:49:33.135Z"
   },
   {
    "duration": 4,
    "start_time": "2022-10-24T09:49:33.141Z"
   },
   {
    "duration": 5,
    "start_time": "2022-10-24T09:49:33.146Z"
   },
   {
    "duration": 7,
    "start_time": "2022-10-24T09:49:33.152Z"
   },
   {
    "duration": 3,
    "start_time": "2022-10-24T09:49:33.161Z"
   },
   {
    "duration": 19,
    "start_time": "2022-10-24T09:49:33.166Z"
   },
   {
    "duration": 44,
    "start_time": "2022-10-24T09:49:33.186Z"
   },
   {
    "duration": 13683,
    "start_time": "2022-10-24T09:49:33.232Z"
   },
   {
    "duration": 7,
    "start_time": "2022-10-24T09:49:46.917Z"
   },
   {
    "duration": 199,
    "start_time": "2022-10-24T09:49:46.926Z"
   },
   {
    "duration": 192,
    "start_time": "2022-10-24T09:49:47.127Z"
   },
   {
    "duration": 186,
    "start_time": "2022-10-24T09:49:47.321Z"
   },
   {
    "duration": 394,
    "start_time": "2022-10-24T09:49:47.509Z"
   },
   {
    "duration": 20,
    "start_time": "2022-10-24T09:49:47.905Z"
   },
   {
    "duration": 27,
    "start_time": "2022-10-24T09:49:47.927Z"
   },
   {
    "duration": 285,
    "start_time": "2022-10-24T09:49:47.956Z"
   },
   {
    "duration": 836,
    "start_time": "2022-10-24T09:49:48.243Z"
   },
   {
    "duration": 51,
    "start_time": "2022-10-24T09:49:49.081Z"
   },
   {
    "duration": 6,
    "start_time": "2022-10-24T09:51:15.904Z"
   },
   {
    "duration": 116,
    "start_time": "2022-10-24T09:51:27.404Z"
   },
   {
    "duration": 25,
    "start_time": "2022-10-24T09:52:41.718Z"
   },
   {
    "duration": 35,
    "start_time": "2022-10-24T09:56:50.272Z"
   },
   {
    "duration": 82,
    "start_time": "2022-10-24T09:57:07.076Z"
   },
   {
    "duration": 29,
    "start_time": "2022-10-24T09:57:20.740Z"
   },
   {
    "duration": 26,
    "start_time": "2022-10-24T09:57:30.757Z"
   },
   {
    "duration": 36,
    "start_time": "2022-10-24T09:58:05.205Z"
   },
   {
    "duration": 36,
    "start_time": "2022-10-24T09:58:18.445Z"
   },
   {
    "duration": 1514,
    "start_time": "2022-10-24T10:14:49.574Z"
   },
   {
    "duration": 785,
    "start_time": "2022-10-24T10:14:51.090Z"
   },
   {
    "duration": 11,
    "start_time": "2022-10-24T10:14:51.877Z"
   },
   {
    "duration": 13,
    "start_time": "2022-10-24T10:14:51.891Z"
   },
   {
    "duration": 18,
    "start_time": "2022-10-24T10:14:51.907Z"
   },
   {
    "duration": 5,
    "start_time": "2022-10-24T10:14:51.927Z"
   },
   {
    "duration": 5,
    "start_time": "2022-10-24T10:14:51.936Z"
   },
   {
    "duration": 5,
    "start_time": "2022-10-24T10:14:51.944Z"
   },
   {
    "duration": 3,
    "start_time": "2022-10-24T10:14:51.952Z"
   },
   {
    "duration": 7,
    "start_time": "2022-10-24T10:14:51.960Z"
   },
   {
    "duration": 57,
    "start_time": "2022-10-24T10:14:51.969Z"
   },
   {
    "duration": 13,
    "start_time": "2022-10-24T10:14:52.028Z"
   },
   {
    "duration": 15030,
    "start_time": "2022-10-24T10:14:52.044Z"
   },
   {
    "duration": 5,
    "start_time": "2022-10-24T10:15:07.076Z"
   },
   {
    "duration": 203,
    "start_time": "2022-10-24T10:15:07.083Z"
   },
   {
    "duration": 216,
    "start_time": "2022-10-24T10:15:07.288Z"
   },
   {
    "duration": 191,
    "start_time": "2022-10-24T10:15:07.506Z"
   },
   {
    "duration": 463,
    "start_time": "2022-10-24T10:15:07.699Z"
   },
   {
    "duration": 12,
    "start_time": "2022-10-24T10:15:08.164Z"
   },
   {
    "duration": 8,
    "start_time": "2022-10-24T10:15:08.177Z"
   },
   {
    "duration": 308,
    "start_time": "2022-10-24T10:15:08.187Z"
   },
   {
    "duration": 957,
    "start_time": "2022-10-24T10:15:08.496Z"
   },
   {
    "duration": 158,
    "start_time": "2022-10-24T10:15:09.455Z"
   },
   {
    "duration": 0,
    "start_time": "2022-10-24T10:15:09.614Z"
   },
   {
    "duration": 1831,
    "start_time": "2022-10-25T06:34:26.953Z"
   },
   {
    "duration": 2330,
    "start_time": "2022-10-25T06:34:28.787Z"
   },
   {
    "duration": 14,
    "start_time": "2022-10-25T06:34:31.119Z"
   },
   {
    "duration": 50,
    "start_time": "2022-10-25T06:34:31.140Z"
   },
   {
    "duration": 19,
    "start_time": "2022-10-25T06:34:31.192Z"
   },
   {
    "duration": 22,
    "start_time": "2022-10-25T06:34:31.213Z"
   },
   {
    "duration": 15,
    "start_time": "2022-10-25T06:34:31.237Z"
   },
   {
    "duration": 27,
    "start_time": "2022-10-25T06:34:31.255Z"
   },
   {
    "duration": 2,
    "start_time": "2022-10-25T06:34:32.382Z"
   },
   {
    "duration": 3,
    "start_time": "2022-10-25T06:34:32.810Z"
   },
   {
    "duration": 30,
    "start_time": "2022-10-25T06:34:33.709Z"
   },
   {
    "duration": 10,
    "start_time": "2022-10-25T06:34:34.621Z"
   },
   {
    "duration": 13179,
    "start_time": "2022-10-25T06:34:35.809Z"
   },
   {
    "duration": 5,
    "start_time": "2022-10-25T06:34:53.334Z"
   },
   {
    "duration": 218,
    "start_time": "2022-10-25T06:34:53.845Z"
   },
   {
    "duration": 161,
    "start_time": "2022-10-25T06:34:54.245Z"
   },
   {
    "duration": 157,
    "start_time": "2022-10-25T06:34:54.701Z"
   },
   {
    "duration": 502,
    "start_time": "2022-10-25T06:34:56.166Z"
   },
   {
    "duration": 11,
    "start_time": "2022-10-25T06:34:57.718Z"
   },
   {
    "duration": 6,
    "start_time": "2022-10-25T06:34:58.318Z"
   },
   {
    "duration": 164,
    "start_time": "2022-10-25T06:34:58.853Z"
   },
   {
    "duration": 796,
    "start_time": "2022-10-25T06:34:59.249Z"
   },
   {
    "duration": 173,
    "start_time": "2022-10-25T06:35:03.242Z"
   },
   {
    "duration": 6,
    "start_time": "2022-10-25T06:36:39.790Z"
   },
   {
    "duration": 9,
    "start_time": "2022-10-25T06:36:53.742Z"
   },
   {
    "duration": 17,
    "start_time": "2022-10-25T06:36:54.070Z"
   },
   {
    "duration": 9,
    "start_time": "2022-10-25T06:45:29.700Z"
   },
   {
    "duration": 10,
    "start_time": "2022-10-25T06:46:01.033Z"
   },
   {
    "duration": 1320,
    "start_time": "2022-10-25T06:46:10.112Z"
   },
   {
    "duration": 653,
    "start_time": "2022-10-25T06:46:11.434Z"
   },
   {
    "duration": 8,
    "start_time": "2022-10-25T06:46:12.092Z"
   },
   {
    "duration": 8,
    "start_time": "2022-10-25T06:46:12.102Z"
   },
   {
    "duration": 17,
    "start_time": "2022-10-25T06:46:12.111Z"
   },
   {
    "duration": 17,
    "start_time": "2022-10-25T06:46:12.129Z"
   },
   {
    "duration": 5,
    "start_time": "2022-10-25T06:46:12.148Z"
   },
   {
    "duration": 5,
    "start_time": "2022-10-25T06:46:12.155Z"
   },
   {
    "duration": 13,
    "start_time": "2022-10-25T06:46:12.163Z"
   },
   {
    "duration": 10,
    "start_time": "2022-10-25T06:46:12.178Z"
   },
   {
    "duration": 18,
    "start_time": "2022-10-25T06:46:12.190Z"
   },
   {
    "duration": 9,
    "start_time": "2022-10-25T06:46:12.209Z"
   },
   {
    "duration": 12836,
    "start_time": "2022-10-25T06:46:12.220Z"
   },
   {
    "duration": 5,
    "start_time": "2022-10-25T06:46:25.058Z"
   },
   {
    "duration": 180,
    "start_time": "2022-10-25T06:46:25.064Z"
   },
   {
    "duration": 168,
    "start_time": "2022-10-25T06:46:25.246Z"
   },
   {
    "duration": 154,
    "start_time": "2022-10-25T06:46:25.415Z"
   },
   {
    "duration": 345,
    "start_time": "2022-10-25T06:46:25.570Z"
   },
   {
    "duration": 12,
    "start_time": "2022-10-25T06:46:25.916Z"
   },
   {
    "duration": 5,
    "start_time": "2022-10-25T06:46:25.930Z"
   },
   {
    "duration": 302,
    "start_time": "2022-10-25T06:46:25.936Z"
   },
   {
    "duration": 785,
    "start_time": "2022-10-25T06:46:26.240Z"
   },
   {
    "duration": 102,
    "start_time": "2022-10-25T06:46:27.027Z"
   },
   {
    "duration": 25,
    "start_time": "2022-10-25T06:59:33.188Z"
   },
   {
    "duration": 13,
    "start_time": "2022-10-25T07:00:04.156Z"
   },
   {
    "duration": 23,
    "start_time": "2022-10-25T07:00:05.322Z"
   },
   {
    "duration": 13,
    "start_time": "2022-10-25T07:00:06.456Z"
   },
   {
    "duration": 1298,
    "start_time": "2022-10-25T07:01:07.048Z"
   },
   {
    "duration": 629,
    "start_time": "2022-10-25T07:01:08.348Z"
   },
   {
    "duration": 8,
    "start_time": "2022-10-25T07:01:08.978Z"
   },
   {
    "duration": 8,
    "start_time": "2022-10-25T07:01:08.987Z"
   },
   {
    "duration": 3,
    "start_time": "2022-10-25T07:01:08.997Z"
   },
   {
    "duration": 6,
    "start_time": "2022-10-25T07:01:09.001Z"
   },
   {
    "duration": 4,
    "start_time": "2022-10-25T07:01:09.022Z"
   },
   {
    "duration": 6,
    "start_time": "2022-10-25T07:01:09.028Z"
   },
   {
    "duration": 5,
    "start_time": "2022-10-25T07:01:09.036Z"
   },
   {
    "duration": 6,
    "start_time": "2022-10-25T07:01:09.043Z"
   },
   {
    "duration": 18,
    "start_time": "2022-10-25T07:01:09.050Z"
   },
   {
    "duration": 20,
    "start_time": "2022-10-25T07:01:09.069Z"
   },
   {
    "duration": 12973,
    "start_time": "2022-10-25T07:01:09.091Z"
   },
   {
    "duration": 6,
    "start_time": "2022-10-25T07:01:22.066Z"
   },
   {
    "duration": 174,
    "start_time": "2022-10-25T07:01:22.073Z"
   },
   {
    "duration": 176,
    "start_time": "2022-10-25T07:01:22.248Z"
   },
   {
    "duration": 167,
    "start_time": "2022-10-25T07:01:22.426Z"
   },
   {
    "duration": 347,
    "start_time": "2022-10-25T07:01:22.595Z"
   },
   {
    "duration": 10,
    "start_time": "2022-10-25T07:01:22.945Z"
   },
   {
    "duration": 5,
    "start_time": "2022-10-25T07:01:22.957Z"
   },
   {
    "duration": 268,
    "start_time": "2022-10-25T07:01:22.964Z"
   },
   {
    "duration": 778,
    "start_time": "2022-10-25T07:01:23.233Z"
   },
   {
    "duration": 48,
    "start_time": "2022-10-25T07:01:24.013Z"
   },
   {
    "duration": 63,
    "start_time": "2022-10-25T07:02:01.078Z"
   },
   {
    "duration": 1308,
    "start_time": "2022-10-25T07:02:07.345Z"
   },
   {
    "duration": 664,
    "start_time": "2022-10-25T07:02:08.656Z"
   },
   {
    "duration": 8,
    "start_time": "2022-10-25T07:02:09.322Z"
   },
   {
    "duration": 15,
    "start_time": "2022-10-25T07:02:09.332Z"
   },
   {
    "duration": 9,
    "start_time": "2022-10-25T07:02:09.349Z"
   },
   {
    "duration": 22,
    "start_time": "2022-10-25T07:02:09.360Z"
   },
   {
    "duration": 9,
    "start_time": "2022-10-25T07:02:09.384Z"
   },
   {
    "duration": 8,
    "start_time": "2022-10-25T07:02:09.395Z"
   },
   {
    "duration": 9,
    "start_time": "2022-10-25T07:02:09.405Z"
   },
   {
    "duration": 5,
    "start_time": "2022-10-25T07:02:09.419Z"
   },
   {
    "duration": 20,
    "start_time": "2022-10-25T07:02:09.426Z"
   },
   {
    "duration": 10,
    "start_time": "2022-10-25T07:02:09.448Z"
   },
   {
    "duration": 12758,
    "start_time": "2022-10-25T07:02:09.460Z"
   },
   {
    "duration": 5,
    "start_time": "2022-10-25T07:02:22.222Z"
   },
   {
    "duration": 174,
    "start_time": "2022-10-25T07:02:22.228Z"
   },
   {
    "duration": 159,
    "start_time": "2022-10-25T07:02:22.403Z"
   },
   {
    "duration": 162,
    "start_time": "2022-10-25T07:02:22.564Z"
   },
   {
    "duration": 359,
    "start_time": "2022-10-25T07:02:22.727Z"
   },
   {
    "duration": 10,
    "start_time": "2022-10-25T07:02:23.088Z"
   },
   {
    "duration": 30,
    "start_time": "2022-10-25T07:02:23.099Z"
   },
   {
    "duration": 267,
    "start_time": "2022-10-25T07:02:23.131Z"
   },
   {
    "duration": 757,
    "start_time": "2022-10-25T07:02:23.400Z"
   },
   {
    "duration": 69,
    "start_time": "2022-10-25T07:02:24.159Z"
   },
   {
    "duration": 53,
    "start_time": "2022-10-25T07:04:31.051Z"
   },
   {
    "duration": 95,
    "start_time": "2022-10-25T07:21:38.437Z"
   },
   {
    "duration": 84,
    "start_time": "2022-10-25T07:22:13.225Z"
   },
   {
    "duration": 103,
    "start_time": "2022-10-25T07:22:26.321Z"
   },
   {
    "duration": 3,
    "start_time": "2022-10-25T07:23:25.494Z"
   },
   {
    "duration": 17,
    "start_time": "2022-10-25T07:23:30.358Z"
   },
   {
    "duration": 30,
    "start_time": "2022-10-25T07:24:43.043Z"
   },
   {
    "duration": 25,
    "start_time": "2022-10-25T07:25:57.473Z"
   },
   {
    "duration": 19,
    "start_time": "2022-10-25T07:43:20.422Z"
   },
   {
    "duration": 20,
    "start_time": "2022-10-25T07:43:46.551Z"
   },
   {
    "duration": 23,
    "start_time": "2022-10-25T07:45:41.752Z"
   },
   {
    "duration": 5,
    "start_time": "2022-10-25T07:46:42.933Z"
   },
   {
    "duration": 19,
    "start_time": "2022-10-25T07:48:38.097Z"
   },
   {
    "duration": 12,
    "start_time": "2022-10-25T07:48:56.338Z"
   },
   {
    "duration": 21,
    "start_time": "2022-10-25T07:50:10.114Z"
   },
   {
    "duration": 19,
    "start_time": "2022-10-25T07:50:22.655Z"
   },
   {
    "duration": 1379,
    "start_time": "2022-10-25T07:50:55.134Z"
   },
   {
    "duration": 629,
    "start_time": "2022-10-25T07:50:56.514Z"
   },
   {
    "duration": 7,
    "start_time": "2022-10-25T07:50:57.145Z"
   },
   {
    "duration": 8,
    "start_time": "2022-10-25T07:50:57.154Z"
   },
   {
    "duration": 6,
    "start_time": "2022-10-25T07:50:57.163Z"
   },
   {
    "duration": 8,
    "start_time": "2022-10-25T07:50:57.170Z"
   },
   {
    "duration": 5,
    "start_time": "2022-10-25T07:50:57.180Z"
   },
   {
    "duration": 5,
    "start_time": "2022-10-25T07:50:57.186Z"
   },
   {
    "duration": 5,
    "start_time": "2022-10-25T07:50:57.192Z"
   },
   {
    "duration": 5,
    "start_time": "2022-10-25T07:50:57.200Z"
   },
   {
    "duration": 28,
    "start_time": "2022-10-25T07:50:57.207Z"
   },
   {
    "duration": 9,
    "start_time": "2022-10-25T07:50:57.237Z"
   },
   {
    "duration": 12425,
    "start_time": "2022-10-25T07:50:57.247Z"
   },
   {
    "duration": 5,
    "start_time": "2022-10-25T07:51:09.674Z"
   },
   {
    "duration": 179,
    "start_time": "2022-10-25T07:51:09.681Z"
   },
   {
    "duration": 153,
    "start_time": "2022-10-25T07:51:09.861Z"
   },
   {
    "duration": 164,
    "start_time": "2022-10-25T07:51:10.022Z"
   },
   {
    "duration": 311,
    "start_time": "2022-10-25T07:51:10.188Z"
   },
   {
    "duration": 8,
    "start_time": "2022-10-25T07:51:10.500Z"
   },
   {
    "duration": 20,
    "start_time": "2022-10-25T07:51:10.510Z"
   },
   {
    "duration": 250,
    "start_time": "2022-10-25T07:51:10.532Z"
   },
   {
    "duration": 819,
    "start_time": "2022-10-25T07:51:10.783Z"
   },
   {
    "duration": 65,
    "start_time": "2022-10-25T07:51:11.604Z"
   },
   {
    "duration": 4,
    "start_time": "2022-10-25T07:51:11.671Z"
   },
   {
    "duration": 122,
    "start_time": "2022-10-25T07:51:11.677Z"
   },
   {
    "duration": 23,
    "start_time": "2022-10-25T07:51:54.299Z"
   },
   {
    "duration": 25,
    "start_time": "2022-10-25T07:52:11.499Z"
   },
   {
    "duration": 9,
    "start_time": "2022-10-25T08:02:00.517Z"
   },
   {
    "duration": 16,
    "start_time": "2022-10-25T08:04:44.067Z"
   },
   {
    "duration": 20,
    "start_time": "2022-10-25T08:05:11.947Z"
   },
   {
    "duration": 46,
    "start_time": "2022-10-25T08:08:09.637Z"
   },
   {
    "duration": 12,
    "start_time": "2022-10-25T08:29:02.806Z"
   },
   {
    "duration": 16,
    "start_time": "2022-10-25T08:34:35.781Z"
   },
   {
    "duration": 4,
    "start_time": "2022-10-25T08:35:09.826Z"
   },
   {
    "duration": 10,
    "start_time": "2022-10-25T08:35:15.033Z"
   },
   {
    "duration": 34,
    "start_time": "2022-10-25T08:35:25.582Z"
   },
   {
    "duration": 218,
    "start_time": "2022-10-25T08:38:07.375Z"
   },
   {
    "duration": 4,
    "start_time": "2022-10-25T08:45:40.119Z"
   },
   {
    "duration": 28,
    "start_time": "2022-10-25T08:45:40.502Z"
   },
   {
    "duration": 1340,
    "start_time": "2022-10-25T08:46:02.039Z"
   },
   {
    "duration": 678,
    "start_time": "2022-10-25T08:46:03.381Z"
   },
   {
    "duration": 7,
    "start_time": "2022-10-25T08:46:04.060Z"
   },
   {
    "duration": 20,
    "start_time": "2022-10-25T08:46:04.068Z"
   },
   {
    "duration": 15,
    "start_time": "2022-10-25T08:46:04.089Z"
   },
   {
    "duration": 18,
    "start_time": "2022-10-25T08:46:04.105Z"
   },
   {
    "duration": 14,
    "start_time": "2022-10-25T08:46:04.124Z"
   },
   {
    "duration": 5,
    "start_time": "2022-10-25T08:46:04.139Z"
   },
   {
    "duration": 5,
    "start_time": "2022-10-25T08:46:04.145Z"
   },
   {
    "duration": 6,
    "start_time": "2022-10-25T08:46:04.153Z"
   },
   {
    "duration": 20,
    "start_time": "2022-10-25T08:46:04.160Z"
   },
   {
    "duration": 8,
    "start_time": "2022-10-25T08:46:04.181Z"
   },
   {
    "duration": 13446,
    "start_time": "2022-10-25T08:46:04.191Z"
   },
   {
    "duration": 5,
    "start_time": "2022-10-25T08:46:17.639Z"
   },
   {
    "duration": 178,
    "start_time": "2022-10-25T08:46:17.645Z"
   },
   {
    "duration": 157,
    "start_time": "2022-10-25T08:46:17.825Z"
   },
   {
    "duration": 149,
    "start_time": "2022-10-25T08:46:17.983Z"
   },
   {
    "duration": 404,
    "start_time": "2022-10-25T08:46:18.134Z"
   },
   {
    "duration": 9,
    "start_time": "2022-10-25T08:46:18.540Z"
   },
   {
    "duration": 22,
    "start_time": "2022-10-25T08:46:18.550Z"
   },
   {
    "duration": 170,
    "start_time": "2022-10-25T08:46:18.573Z"
   },
   {
    "duration": 743,
    "start_time": "2022-10-25T08:46:18.745Z"
   },
   {
    "duration": 63,
    "start_time": "2022-10-25T08:46:19.490Z"
   },
   {
    "duration": 3,
    "start_time": "2022-10-25T08:46:19.555Z"
   },
   {
    "duration": 35,
    "start_time": "2022-10-25T08:46:19.559Z"
   },
   {
    "duration": 99,
    "start_time": "2022-10-25T08:47:19.117Z"
   },
   {
    "duration": 3,
    "start_time": "2022-10-25T08:47:28.180Z"
   },
   {
    "duration": 25,
    "start_time": "2022-10-25T08:49:29.834Z"
   },
   {
    "duration": 5,
    "start_time": "2022-10-25T08:50:02.725Z"
   },
   {
    "duration": 18,
    "start_time": "2022-10-25T08:50:09.066Z"
   },
   {
    "duration": 18,
    "start_time": "2022-10-25T08:50:47.038Z"
   },
   {
    "duration": 17,
    "start_time": "2022-10-25T08:51:12.499Z"
   },
   {
    "duration": 1895,
    "start_time": "2022-10-25T08:52:39.727Z"
   },
   {
    "duration": 1608,
    "start_time": "2022-10-25T08:52:49.115Z"
   },
   {
    "duration": 1752,
    "start_time": "2022-10-25T08:55:32.377Z"
   },
   {
    "duration": 3660,
    "start_time": "2022-10-25T08:56:19.365Z"
   },
   {
    "duration": 3861,
    "start_time": "2022-10-25T08:56:44.266Z"
   },
   {
    "duration": 3728,
    "start_time": "2022-10-25T08:58:18.395Z"
   },
   {
    "duration": 3571,
    "start_time": "2022-10-25T09:04:32.666Z"
   },
   {
    "duration": 3872,
    "start_time": "2022-10-25T09:04:43.754Z"
   },
   {
    "duration": 3605,
    "start_time": "2022-10-25T09:05:14.223Z"
   },
   {
    "duration": 24495,
    "start_time": "2022-10-25T09:07:48.547Z"
   },
   {
    "duration": 20912,
    "start_time": "2022-10-25T09:10:43.341Z"
   },
   {
    "duration": 21468,
    "start_time": "2022-10-25T09:13:11.871Z"
   },
   {
    "duration": 44273,
    "start_time": "2022-10-25T09:15:27.169Z"
   },
   {
    "duration": 43579,
    "start_time": "2022-10-25T09:17:33.110Z"
   },
   {
    "duration": 3720,
    "start_time": "2022-10-25T09:20:08.304Z"
   },
   {
    "duration": 43359,
    "start_time": "2022-10-25T09:22:16.814Z"
   },
   {
    "duration": 816,
    "start_time": "2022-10-25T09:36:13.687Z"
   },
   {
    "duration": 42,
    "start_time": "2022-10-25T09:37:37.672Z"
   },
   {
    "duration": 1331,
    "start_time": "2022-10-25T09:37:52.196Z"
   },
   {
    "duration": 623,
    "start_time": "2022-10-25T09:37:53.529Z"
   },
   {
    "duration": 6,
    "start_time": "2022-10-25T09:37:54.154Z"
   },
   {
    "duration": 47,
    "start_time": "2022-10-25T09:37:54.162Z"
   },
   {
    "duration": 18,
    "start_time": "2022-10-25T09:37:54.211Z"
   },
   {
    "duration": 37,
    "start_time": "2022-10-25T09:37:54.230Z"
   },
   {
    "duration": 16,
    "start_time": "2022-10-25T09:37:54.269Z"
   },
   {
    "duration": 30,
    "start_time": "2022-10-25T09:37:54.287Z"
   },
   {
    "duration": 34,
    "start_time": "2022-10-25T09:37:54.318Z"
   },
   {
    "duration": 12,
    "start_time": "2022-10-25T09:37:54.355Z"
   },
   {
    "duration": 37,
    "start_time": "2022-10-25T09:37:54.369Z"
   },
   {
    "duration": 10,
    "start_time": "2022-10-25T09:37:54.408Z"
   },
   {
    "duration": 12176,
    "start_time": "2022-10-25T09:37:54.420Z"
   },
   {
    "duration": 6,
    "start_time": "2022-10-25T09:38:06.598Z"
   },
   {
    "duration": 157,
    "start_time": "2022-10-25T09:38:06.605Z"
   },
   {
    "duration": 159,
    "start_time": "2022-10-25T09:38:06.763Z"
   },
   {
    "duration": 149,
    "start_time": "2022-10-25T09:38:06.924Z"
   },
   {
    "duration": 408,
    "start_time": "2022-10-25T09:38:07.074Z"
   },
   {
    "duration": 8,
    "start_time": "2022-10-25T09:38:07.484Z"
   },
   {
    "duration": 48,
    "start_time": "2022-10-25T09:38:07.494Z"
   },
   {
    "duration": 154,
    "start_time": "2022-10-25T09:38:07.544Z"
   },
   {
    "duration": 723,
    "start_time": "2022-10-25T09:38:07.700Z"
   },
   {
    "duration": 55,
    "start_time": "2022-10-25T09:38:08.425Z"
   },
   {
    "duration": 4,
    "start_time": "2022-10-25T09:38:08.482Z"
   },
   {
    "duration": 53,
    "start_time": "2022-10-25T09:38:08.488Z"
   },
   {
    "duration": 3880,
    "start_time": "2022-10-25T09:38:08.542Z"
   },
   {
    "duration": 41979,
    "start_time": "2022-10-25T09:38:12.425Z"
   },
   {
    "duration": 938,
    "start_time": "2022-10-25T09:38:54.407Z"
   },
   {
    "duration": 34,
    "start_time": "2022-10-25T09:40:11.013Z"
   },
   {
    "duration": 1460,
    "start_time": "2022-10-25T09:40:18.778Z"
   },
   {
    "duration": 608,
    "start_time": "2022-10-25T09:40:20.240Z"
   },
   {
    "duration": 7,
    "start_time": "2022-10-25T09:40:20.849Z"
   },
   {
    "duration": 13,
    "start_time": "2022-10-25T09:40:20.858Z"
   },
   {
    "duration": 4,
    "start_time": "2022-10-25T09:40:20.873Z"
   },
   {
    "duration": 7,
    "start_time": "2022-10-25T09:40:20.878Z"
   },
   {
    "duration": 8,
    "start_time": "2022-10-25T09:40:20.886Z"
   },
   {
    "duration": 5,
    "start_time": "2022-10-25T09:40:20.895Z"
   },
   {
    "duration": 9,
    "start_time": "2022-10-25T09:40:20.902Z"
   },
   {
    "duration": 11,
    "start_time": "2022-10-25T09:40:20.913Z"
   },
   {
    "duration": 22,
    "start_time": "2022-10-25T09:40:20.925Z"
   },
   {
    "duration": 17,
    "start_time": "2022-10-25T09:40:20.949Z"
   },
   {
    "duration": 12743,
    "start_time": "2022-10-25T09:40:20.969Z"
   },
   {
    "duration": 8,
    "start_time": "2022-10-25T09:40:33.714Z"
   },
   {
    "duration": 169,
    "start_time": "2022-10-25T09:40:33.723Z"
   },
   {
    "duration": 151,
    "start_time": "2022-10-25T09:40:33.894Z"
   },
   {
    "duration": 142,
    "start_time": "2022-10-25T09:40:34.047Z"
   },
   {
    "duration": 375,
    "start_time": "2022-10-25T09:40:34.190Z"
   },
   {
    "duration": 9,
    "start_time": "2022-10-25T09:40:34.566Z"
   },
   {
    "duration": 9,
    "start_time": "2022-10-25T09:40:34.576Z"
   },
   {
    "duration": 152,
    "start_time": "2022-10-25T09:40:34.587Z"
   },
   {
    "duration": 693,
    "start_time": "2022-10-25T09:40:34.741Z"
   },
   {
    "duration": 51,
    "start_time": "2022-10-25T09:40:35.435Z"
   },
   {
    "duration": 4,
    "start_time": "2022-10-25T09:40:35.487Z"
   },
   {
    "duration": 34,
    "start_time": "2022-10-25T09:40:35.492Z"
   },
   {
    "duration": 3699,
    "start_time": "2022-10-25T09:40:35.527Z"
   },
   {
    "duration": 42573,
    "start_time": "2022-10-25T09:40:39.227Z"
   },
   {
    "duration": 931,
    "start_time": "2022-10-25T09:41:21.802Z"
   },
   {
    "duration": 29,
    "start_time": "2022-10-25T09:44:51.752Z"
   },
   {
    "duration": 29,
    "start_time": "2022-10-25T09:45:02.000Z"
   },
   {
    "duration": 25,
    "start_time": "2022-10-25T09:51:51.781Z"
   },
   {
    "duration": 19,
    "start_time": "2022-10-25T09:52:03.260Z"
   },
   {
    "duration": 21,
    "start_time": "2022-10-25T09:52:13.592Z"
   },
   {
    "duration": 1317,
    "start_time": "2022-10-25T09:57:43.667Z"
   },
   {
    "duration": 613,
    "start_time": "2022-10-25T09:57:44.986Z"
   },
   {
    "duration": 7,
    "start_time": "2022-10-25T09:57:45.600Z"
   },
   {
    "duration": 13,
    "start_time": "2022-10-25T09:57:45.609Z"
   },
   {
    "duration": 3,
    "start_time": "2022-10-25T09:57:45.623Z"
   },
   {
    "duration": 5,
    "start_time": "2022-10-25T09:57:45.627Z"
   },
   {
    "duration": 5,
    "start_time": "2022-10-25T09:57:45.633Z"
   },
   {
    "duration": 6,
    "start_time": "2022-10-25T09:57:45.639Z"
   },
   {
    "duration": 5,
    "start_time": "2022-10-25T09:57:45.647Z"
   },
   {
    "duration": 6,
    "start_time": "2022-10-25T09:57:45.655Z"
   },
   {
    "duration": 19,
    "start_time": "2022-10-25T09:57:45.662Z"
   },
   {
    "duration": 8,
    "start_time": "2022-10-25T09:57:45.682Z"
   },
   {
    "duration": 12256,
    "start_time": "2022-10-25T09:57:45.691Z"
   },
   {
    "duration": 5,
    "start_time": "2022-10-25T09:57:57.949Z"
   },
   {
    "duration": 173,
    "start_time": "2022-10-25T09:57:57.956Z"
   },
   {
    "duration": 153,
    "start_time": "2022-10-25T09:57:58.131Z"
   },
   {
    "duration": 163,
    "start_time": "2022-10-25T09:57:58.285Z"
   },
   {
    "duration": 401,
    "start_time": "2022-10-25T09:57:58.449Z"
   },
   {
    "duration": 10,
    "start_time": "2022-10-25T09:57:58.852Z"
   },
   {
    "duration": 7,
    "start_time": "2022-10-25T09:57:58.863Z"
   },
   {
    "duration": 174,
    "start_time": "2022-10-25T09:57:58.871Z"
   },
   {
    "duration": 731,
    "start_time": "2022-10-25T09:57:59.046Z"
   },
   {
    "duration": 63,
    "start_time": "2022-10-25T09:57:59.779Z"
   },
   {
    "duration": 4,
    "start_time": "2022-10-25T09:57:59.843Z"
   },
   {
    "duration": 37,
    "start_time": "2022-10-25T09:57:59.848Z"
   },
   {
    "duration": 3539,
    "start_time": "2022-10-25T09:57:59.886Z"
   },
   {
    "duration": 42850,
    "start_time": "2022-10-25T09:58:03.426Z"
   },
   {
    "duration": 933,
    "start_time": "2022-10-25T09:58:46.278Z"
   },
   {
    "duration": 0,
    "start_time": "2022-10-25T09:58:47.212Z"
   },
   {
    "duration": 30,
    "start_time": "2022-10-25T09:59:27.828Z"
   },
   {
    "duration": 39,
    "start_time": "2022-10-25T09:59:36.881Z"
   },
   {
    "duration": 47,
    "start_time": "2022-10-25T10:00:00.641Z"
   },
   {
    "duration": 1338,
    "start_time": "2022-10-25T10:00:17.404Z"
   },
   {
    "duration": 637,
    "start_time": "2022-10-25T10:00:18.744Z"
   },
   {
    "duration": 6,
    "start_time": "2022-10-25T10:00:19.383Z"
   },
   {
    "duration": 8,
    "start_time": "2022-10-25T10:00:19.391Z"
   },
   {
    "duration": 3,
    "start_time": "2022-10-25T10:00:19.401Z"
   },
   {
    "duration": 16,
    "start_time": "2022-10-25T10:00:19.405Z"
   },
   {
    "duration": 8,
    "start_time": "2022-10-25T10:00:19.423Z"
   },
   {
    "duration": 6,
    "start_time": "2022-10-25T10:00:19.432Z"
   },
   {
    "duration": 6,
    "start_time": "2022-10-25T10:00:19.439Z"
   },
   {
    "duration": 20,
    "start_time": "2022-10-25T10:00:19.449Z"
   },
   {
    "duration": 46,
    "start_time": "2022-10-25T10:00:19.471Z"
   },
   {
    "duration": 9,
    "start_time": "2022-10-25T10:00:19.518Z"
   },
   {
    "duration": 12134,
    "start_time": "2022-10-25T10:00:19.528Z"
   },
   {
    "duration": 6,
    "start_time": "2022-10-25T10:00:31.664Z"
   },
   {
    "duration": 177,
    "start_time": "2022-10-25T10:00:31.672Z"
   },
   {
    "duration": 164,
    "start_time": "2022-10-25T10:00:31.850Z"
   },
   {
    "duration": 154,
    "start_time": "2022-10-25T10:00:32.015Z"
   },
   {
    "duration": 383,
    "start_time": "2022-10-25T10:00:32.170Z"
   },
   {
    "duration": 8,
    "start_time": "2022-10-25T10:00:32.554Z"
   },
   {
    "duration": 12,
    "start_time": "2022-10-25T10:00:32.563Z"
   },
   {
    "duration": 170,
    "start_time": "2022-10-25T10:00:32.577Z"
   },
   {
    "duration": 759,
    "start_time": "2022-10-25T10:00:32.749Z"
   },
   {
    "duration": 67,
    "start_time": "2022-10-25T10:00:33.510Z"
   },
   {
    "duration": 4,
    "start_time": "2022-10-25T10:00:33.578Z"
   },
   {
    "duration": 57,
    "start_time": "2022-10-25T10:00:33.583Z"
   },
   {
    "duration": 3887,
    "start_time": "2022-10-25T10:00:33.641Z"
   },
   {
    "duration": 42279,
    "start_time": "2022-10-25T10:00:37.530Z"
   },
   {
    "duration": 947,
    "start_time": "2022-10-25T10:02:45.798Z"
   },
   {
    "duration": 7,
    "start_time": "2022-10-25T10:05:48.128Z"
   },
   {
    "duration": 13879,
    "start_time": "2022-10-25T10:11:10.932Z"
   },
   {
    "duration": 1284,
    "start_time": "2022-10-25T10:11:36.863Z"
   },
   {
    "duration": 632,
    "start_time": "2022-10-25T10:11:38.149Z"
   },
   {
    "duration": 7,
    "start_time": "2022-10-25T10:11:38.782Z"
   },
   {
    "duration": 6,
    "start_time": "2022-10-25T10:11:38.791Z"
   },
   {
    "duration": 2,
    "start_time": "2022-10-25T10:11:38.799Z"
   },
   {
    "duration": 20,
    "start_time": "2022-10-25T10:11:38.802Z"
   },
   {
    "duration": 2,
    "start_time": "2022-10-25T10:11:38.823Z"
   },
   {
    "duration": 4,
    "start_time": "2022-10-25T10:11:38.826Z"
   },
   {
    "duration": 5,
    "start_time": "2022-10-25T10:11:38.832Z"
   },
   {
    "duration": 4,
    "start_time": "2022-10-25T10:11:38.839Z"
   },
   {
    "duration": 16,
    "start_time": "2022-10-25T10:11:38.844Z"
   },
   {
    "duration": 11,
    "start_time": "2022-10-25T10:11:38.862Z"
   },
   {
    "duration": 12455,
    "start_time": "2022-10-25T10:11:38.874Z"
   },
   {
    "duration": 5,
    "start_time": "2022-10-25T10:11:51.332Z"
   },
   {
    "duration": 159,
    "start_time": "2022-10-25T10:11:51.338Z"
   },
   {
    "duration": 154,
    "start_time": "2022-10-25T10:11:51.498Z"
   },
   {
    "duration": 158,
    "start_time": "2022-10-25T10:11:51.654Z"
   },
   {
    "duration": 400,
    "start_time": "2022-10-25T10:11:51.814Z"
   },
   {
    "duration": 11,
    "start_time": "2022-10-25T10:11:52.215Z"
   },
   {
    "duration": 4,
    "start_time": "2022-10-25T10:11:52.228Z"
   },
   {
    "duration": 167,
    "start_time": "2022-10-25T10:11:52.233Z"
   },
   {
    "duration": 734,
    "start_time": "2022-10-25T10:11:52.401Z"
   },
   {
    "duration": 57,
    "start_time": "2022-10-25T10:11:53.137Z"
   },
   {
    "duration": 4,
    "start_time": "2022-10-25T10:11:53.195Z"
   },
   {
    "duration": 53,
    "start_time": "2022-10-25T10:11:53.200Z"
   },
   {
    "duration": 1271,
    "start_time": "2022-10-25T10:13:46.764Z"
   },
   {
    "duration": 648,
    "start_time": "2022-10-25T10:13:48.037Z"
   },
   {
    "duration": 6,
    "start_time": "2022-10-25T10:13:48.687Z"
   },
   {
    "duration": 6,
    "start_time": "2022-10-25T10:13:48.695Z"
   },
   {
    "duration": 3,
    "start_time": "2022-10-25T10:13:48.703Z"
   },
   {
    "duration": 14,
    "start_time": "2022-10-25T10:13:48.707Z"
   },
   {
    "duration": 2,
    "start_time": "2022-10-25T10:13:48.723Z"
   },
   {
    "duration": 6,
    "start_time": "2022-10-25T10:13:48.726Z"
   },
   {
    "duration": 6,
    "start_time": "2022-10-25T10:13:48.733Z"
   },
   {
    "duration": 4,
    "start_time": "2022-10-25T10:13:48.741Z"
   },
   {
    "duration": 16,
    "start_time": "2022-10-25T10:13:48.746Z"
   },
   {
    "duration": 11,
    "start_time": "2022-10-25T10:13:48.763Z"
   },
   {
    "duration": 12694,
    "start_time": "2022-10-25T10:13:48.775Z"
   },
   {
    "duration": 5,
    "start_time": "2022-10-25T10:14:01.470Z"
   },
   {
    "duration": 162,
    "start_time": "2022-10-25T10:14:01.476Z"
   },
   {
    "duration": 144,
    "start_time": "2022-10-25T10:14:01.639Z"
   },
   {
    "duration": 159,
    "start_time": "2022-10-25T10:14:01.784Z"
   },
   {
    "duration": 380,
    "start_time": "2022-10-25T10:14:01.945Z"
   },
   {
    "duration": 8,
    "start_time": "2022-10-25T10:14:02.327Z"
   },
   {
    "duration": 105,
    "start_time": "2022-10-25T10:14:02.336Z"
   },
   {
    "duration": 162,
    "start_time": "2022-10-25T10:14:02.442Z"
   },
   {
    "duration": 732,
    "start_time": "2022-10-25T10:14:02.605Z"
   },
   {
    "duration": 58,
    "start_time": "2022-10-25T10:14:03.339Z"
   },
   {
    "duration": 4,
    "start_time": "2022-10-25T10:14:03.399Z"
   },
   {
    "duration": 52,
    "start_time": "2022-10-25T10:14:03.404Z"
   },
   {
    "duration": 30,
    "start_time": "2022-10-25T10:14:03.457Z"
   },
   {
    "duration": 3339,
    "start_time": "2022-10-25T10:14:03.489Z"
   },
   {
    "duration": 42153,
    "start_time": "2022-10-25T10:14:06.831Z"
   },
   {
    "duration": 920,
    "start_time": "2022-10-25T10:14:48.986Z"
   },
   {
    "duration": 73,
    "start_time": "2022-10-25T10:15:09.060Z"
   },
   {
    "duration": 12,
    "start_time": "2022-10-25T10:15:15.402Z"
   },
   {
    "duration": 15,
    "start_time": "2022-10-25T10:15:26.102Z"
   },
   {
    "duration": 14,
    "start_time": "2022-10-25T10:15:32.330Z"
   },
   {
    "duration": 14,
    "start_time": "2022-10-25T10:15:43.026Z"
   },
   {
    "duration": 26,
    "start_time": "2022-10-25T10:15:50.098Z"
   },
   {
    "duration": 12,
    "start_time": "2022-10-25T10:16:01.647Z"
   },
   {
    "duration": 4,
    "start_time": "2022-10-25T10:16:10.262Z"
   },
   {
    "duration": 13,
    "start_time": "2022-10-25T10:16:18.964Z"
   },
   {
    "duration": 14,
    "start_time": "2022-10-25T10:19:02.531Z"
   },
   {
    "duration": 29132,
    "start_time": "2022-10-25T10:22:31.444Z"
   },
   {
    "duration": 25,
    "start_time": "2022-10-25T10:23:12.566Z"
   },
   {
    "duration": 1363,
    "start_time": "2022-10-25T11:31:11.542Z"
   },
   {
    "duration": 666,
    "start_time": "2022-10-25T11:31:12.907Z"
   },
   {
    "duration": 7,
    "start_time": "2022-10-25T11:31:13.575Z"
   },
   {
    "duration": 13,
    "start_time": "2022-10-25T11:31:13.584Z"
   },
   {
    "duration": 6,
    "start_time": "2022-10-25T11:31:13.599Z"
   },
   {
    "duration": 7,
    "start_time": "2022-10-25T11:31:13.607Z"
   },
   {
    "duration": 9,
    "start_time": "2022-10-25T11:31:13.615Z"
   },
   {
    "duration": 7,
    "start_time": "2022-10-25T11:31:13.625Z"
   },
   {
    "duration": 17,
    "start_time": "2022-10-25T11:31:13.633Z"
   },
   {
    "duration": 12,
    "start_time": "2022-10-25T11:31:13.653Z"
   },
   {
    "duration": 29,
    "start_time": "2022-10-25T11:31:13.667Z"
   },
   {
    "duration": 12,
    "start_time": "2022-10-25T11:31:13.698Z"
   },
   {
    "duration": 12906,
    "start_time": "2022-10-25T11:31:13.712Z"
   },
   {
    "duration": 5,
    "start_time": "2022-10-25T11:31:26.621Z"
   },
   {
    "duration": 237,
    "start_time": "2022-10-25T11:31:26.627Z"
   },
   {
    "duration": 172,
    "start_time": "2022-10-25T11:31:26.866Z"
   },
   {
    "duration": 172,
    "start_time": "2022-10-25T11:31:27.040Z"
   },
   {
    "duration": 459,
    "start_time": "2022-10-25T11:31:27.221Z"
   },
   {
    "duration": 9,
    "start_time": "2022-10-25T11:31:27.682Z"
   },
   {
    "duration": 6,
    "start_time": "2022-10-25T11:31:27.693Z"
   },
   {
    "duration": 179,
    "start_time": "2022-10-25T11:31:27.700Z"
   },
   {
    "duration": 844,
    "start_time": "2022-10-25T11:31:27.881Z"
   },
   {
    "duration": 61,
    "start_time": "2022-10-25T11:31:28.727Z"
   },
   {
    "duration": 4,
    "start_time": "2022-10-25T11:31:28.790Z"
   },
   {
    "duration": 233,
    "start_time": "2022-10-25T11:31:28.796Z"
   },
   {
    "duration": 0,
    "start_time": "2022-10-25T11:31:29.031Z"
   },
   {
    "duration": 0,
    "start_time": "2022-10-25T11:31:29.032Z"
   },
   {
    "duration": 0,
    "start_time": "2022-10-25T11:31:29.033Z"
   },
   {
    "duration": 110,
    "start_time": "2022-10-25T11:31:52.278Z"
   },
   {
    "duration": 1432,
    "start_time": "2022-10-25T11:32:10.090Z"
   },
   {
    "duration": 712,
    "start_time": "2022-10-25T11:32:11.525Z"
   },
   {
    "duration": 7,
    "start_time": "2022-10-25T11:32:12.239Z"
   },
   {
    "duration": 12,
    "start_time": "2022-10-25T11:32:12.248Z"
   },
   {
    "duration": 3,
    "start_time": "2022-10-25T11:32:12.261Z"
   },
   {
    "duration": 5,
    "start_time": "2022-10-25T11:32:12.265Z"
   },
   {
    "duration": 6,
    "start_time": "2022-10-25T11:32:12.271Z"
   },
   {
    "duration": 5,
    "start_time": "2022-10-25T11:32:12.279Z"
   },
   {
    "duration": 5,
    "start_time": "2022-10-25T11:32:12.285Z"
   },
   {
    "duration": 4,
    "start_time": "2022-10-25T11:32:12.293Z"
   },
   {
    "duration": 35,
    "start_time": "2022-10-25T11:32:12.299Z"
   },
   {
    "duration": 8,
    "start_time": "2022-10-25T11:32:12.336Z"
   },
   {
    "duration": 12604,
    "start_time": "2022-10-25T11:32:12.346Z"
   },
   {
    "duration": 4,
    "start_time": "2022-10-25T11:32:24.952Z"
   },
   {
    "duration": 173,
    "start_time": "2022-10-25T11:32:24.958Z"
   },
   {
    "duration": 159,
    "start_time": "2022-10-25T11:32:25.132Z"
   },
   {
    "duration": 147,
    "start_time": "2022-10-25T11:32:25.292Z"
   },
   {
    "duration": 404,
    "start_time": "2022-10-25T11:32:25.441Z"
   },
   {
    "duration": 8,
    "start_time": "2022-10-25T11:32:25.847Z"
   },
   {
    "duration": 37,
    "start_time": "2022-10-25T11:32:25.857Z"
   },
   {
    "duration": 221,
    "start_time": "2022-10-25T11:32:25.896Z"
   },
   {
    "duration": 769,
    "start_time": "2022-10-25T11:32:26.119Z"
   },
   {
    "duration": 75,
    "start_time": "2022-10-25T11:32:26.890Z"
   },
   {
    "duration": 5,
    "start_time": "2022-10-25T11:32:26.969Z"
   },
   {
    "duration": 237,
    "start_time": "2022-10-25T11:32:26.976Z"
   },
   {
    "duration": 0,
    "start_time": "2022-10-25T11:32:27.215Z"
   },
   {
    "duration": 0,
    "start_time": "2022-10-25T11:32:27.216Z"
   },
   {
    "duration": 0,
    "start_time": "2022-10-25T11:32:27.217Z"
   },
   {
    "duration": 41,
    "start_time": "2022-10-25T11:33:03.747Z"
   },
   {
    "duration": 4,
    "start_time": "2022-10-25T11:33:22.347Z"
   },
   {
    "duration": 41,
    "start_time": "2022-10-25T11:33:26.803Z"
   },
   {
    "duration": 51,
    "start_time": "2022-10-25T11:35:57.056Z"
   },
   {
    "duration": 22,
    "start_time": "2022-10-25T11:39:02.382Z"
   },
   {
    "duration": 21,
    "start_time": "2022-10-25T11:40:33.007Z"
   },
   {
    "duration": 20,
    "start_time": "2022-10-25T11:40:47.499Z"
   },
   {
    "duration": 1396,
    "start_time": "2022-10-25T11:41:16.197Z"
   },
   {
    "duration": 654,
    "start_time": "2022-10-25T11:41:17.594Z"
   },
   {
    "duration": 7,
    "start_time": "2022-10-25T11:41:18.250Z"
   },
   {
    "duration": 12,
    "start_time": "2022-10-25T11:41:18.259Z"
   },
   {
    "duration": 5,
    "start_time": "2022-10-25T11:41:18.273Z"
   },
   {
    "duration": 6,
    "start_time": "2022-10-25T11:41:18.279Z"
   },
   {
    "duration": 5,
    "start_time": "2022-10-25T11:41:18.287Z"
   },
   {
    "duration": 4,
    "start_time": "2022-10-25T11:41:18.294Z"
   },
   {
    "duration": 5,
    "start_time": "2022-10-25T11:41:18.300Z"
   },
   {
    "duration": 5,
    "start_time": "2022-10-25T11:41:18.308Z"
   },
   {
    "duration": 20,
    "start_time": "2022-10-25T11:41:18.322Z"
   },
   {
    "duration": 9,
    "start_time": "2022-10-25T11:41:18.343Z"
   },
   {
    "duration": 13067,
    "start_time": "2022-10-25T11:41:18.353Z"
   },
   {
    "duration": 5,
    "start_time": "2022-10-25T11:41:31.422Z"
   },
   {
    "duration": 197,
    "start_time": "2022-10-25T11:41:31.428Z"
   },
   {
    "duration": 180,
    "start_time": "2022-10-25T11:41:31.627Z"
   },
   {
    "duration": 179,
    "start_time": "2022-10-25T11:41:31.808Z"
   },
   {
    "duration": 482,
    "start_time": "2022-10-25T11:41:31.988Z"
   },
   {
    "duration": 10,
    "start_time": "2022-10-25T11:41:32.471Z"
   },
   {
    "duration": 19,
    "start_time": "2022-10-25T11:41:32.483Z"
   },
   {
    "duration": 193,
    "start_time": "2022-10-25T11:41:32.504Z"
   },
   {
    "duration": 798,
    "start_time": "2022-10-25T11:41:32.699Z"
   },
   {
    "duration": 74,
    "start_time": "2022-10-25T11:41:33.498Z"
   },
   {
    "duration": 4,
    "start_time": "2022-10-25T11:41:33.574Z"
   },
   {
    "duration": 146,
    "start_time": "2022-10-25T11:41:33.580Z"
   },
   {
    "duration": 0,
    "start_time": "2022-10-25T11:41:33.728Z"
   },
   {
    "duration": 0,
    "start_time": "2022-10-25T11:41:33.729Z"
   },
   {
    "duration": 0,
    "start_time": "2022-10-25T11:41:33.731Z"
   },
   {
    "duration": 22,
    "start_time": "2022-10-25T11:41:51.249Z"
   },
   {
    "duration": 18,
    "start_time": "2022-10-25T11:42:45.258Z"
   },
   {
    "duration": 43,
    "start_time": "2022-10-25T11:43:06.206Z"
   },
   {
    "duration": 75,
    "start_time": "2022-10-25T11:43:18.498Z"
   },
   {
    "duration": 43,
    "start_time": "2022-10-25T11:43:27.378Z"
   },
   {
    "duration": 133,
    "start_time": "2022-10-25T11:44:11.166Z"
   },
   {
    "duration": 22,
    "start_time": "2022-10-25T11:45:08.475Z"
   },
   {
    "duration": 113,
    "start_time": "2022-10-25T11:57:50.879Z"
   },
   {
    "duration": 34,
    "start_time": "2022-10-25T11:59:38.336Z"
   },
   {
    "duration": 1311,
    "start_time": "2022-10-25T12:01:40.480Z"
   },
   {
    "duration": 636,
    "start_time": "2022-10-25T12:01:41.793Z"
   },
   {
    "duration": 7,
    "start_time": "2022-10-25T12:01:42.431Z"
   },
   {
    "duration": 10,
    "start_time": "2022-10-25T12:01:42.439Z"
   },
   {
    "duration": 6,
    "start_time": "2022-10-25T12:01:42.452Z"
   },
   {
    "duration": 9,
    "start_time": "2022-10-25T12:01:42.459Z"
   },
   {
    "duration": 6,
    "start_time": "2022-10-25T12:01:42.470Z"
   },
   {
    "duration": 4,
    "start_time": "2022-10-25T12:01:42.478Z"
   },
   {
    "duration": 5,
    "start_time": "2022-10-25T12:01:42.484Z"
   },
   {
    "duration": 9,
    "start_time": "2022-10-25T12:01:42.491Z"
   },
   {
    "duration": 36,
    "start_time": "2022-10-25T12:01:42.501Z"
   },
   {
    "duration": 9,
    "start_time": "2022-10-25T12:01:42.538Z"
   },
   {
    "duration": 12670,
    "start_time": "2022-10-25T12:01:42.548Z"
   },
   {
    "duration": 5,
    "start_time": "2022-10-25T12:01:55.221Z"
   },
   {
    "duration": 211,
    "start_time": "2022-10-25T12:01:55.227Z"
   },
   {
    "duration": 189,
    "start_time": "2022-10-25T12:01:55.440Z"
   },
   {
    "duration": 157,
    "start_time": "2022-10-25T12:01:55.631Z"
   },
   {
    "duration": 504,
    "start_time": "2022-10-25T12:01:55.790Z"
   },
   {
    "duration": 9,
    "start_time": "2022-10-25T12:01:56.296Z"
   },
   {
    "duration": 15,
    "start_time": "2022-10-25T12:01:56.307Z"
   },
   {
    "duration": 177,
    "start_time": "2022-10-25T12:01:56.324Z"
   },
   {
    "duration": 741,
    "start_time": "2022-10-25T12:01:56.502Z"
   },
   {
    "duration": 56,
    "start_time": "2022-10-25T12:01:57.245Z"
   },
   {
    "duration": 4,
    "start_time": "2022-10-25T12:01:57.303Z"
   },
   {
    "duration": 163,
    "start_time": "2022-10-25T12:01:57.322Z"
   },
   {
    "duration": 0,
    "start_time": "2022-10-25T12:01:57.487Z"
   },
   {
    "duration": 0,
    "start_time": "2022-10-25T12:01:57.488Z"
   },
   {
    "duration": 0,
    "start_time": "2022-10-25T12:01:57.490Z"
   },
   {
    "duration": 27,
    "start_time": "2022-10-25T12:04:14.860Z"
   },
   {
    "duration": 1328,
    "start_time": "2022-10-25T12:04:24.259Z"
   },
   {
    "duration": 705,
    "start_time": "2022-10-25T12:04:25.589Z"
   },
   {
    "duration": 7,
    "start_time": "2022-10-25T12:04:26.296Z"
   },
   {
    "duration": 29,
    "start_time": "2022-10-25T12:04:26.304Z"
   },
   {
    "duration": 19,
    "start_time": "2022-10-25T12:04:26.335Z"
   },
   {
    "duration": 22,
    "start_time": "2022-10-25T12:04:26.355Z"
   },
   {
    "duration": 21,
    "start_time": "2022-10-25T12:04:26.378Z"
   },
   {
    "duration": 23,
    "start_time": "2022-10-25T12:04:26.401Z"
   },
   {
    "duration": 12,
    "start_time": "2022-10-25T12:04:26.425Z"
   },
   {
    "duration": 21,
    "start_time": "2022-10-25T12:04:26.440Z"
   },
   {
    "duration": 57,
    "start_time": "2022-10-25T12:04:26.463Z"
   },
   {
    "duration": 10,
    "start_time": "2022-10-25T12:04:26.522Z"
   },
   {
    "duration": 13161,
    "start_time": "2022-10-25T12:04:26.533Z"
   },
   {
    "duration": 5,
    "start_time": "2022-10-25T12:04:39.696Z"
   },
   {
    "duration": 164,
    "start_time": "2022-10-25T12:04:39.703Z"
   },
   {
    "duration": 159,
    "start_time": "2022-10-25T12:04:39.869Z"
   },
   {
    "duration": 148,
    "start_time": "2022-10-25T12:04:40.029Z"
   },
   {
    "duration": 428,
    "start_time": "2022-10-25T12:04:40.178Z"
   },
   {
    "duration": 16,
    "start_time": "2022-10-25T12:04:40.607Z"
   },
   {
    "duration": 21,
    "start_time": "2022-10-25T12:04:40.624Z"
   },
   {
    "duration": 178,
    "start_time": "2022-10-25T12:04:40.646Z"
   },
   {
    "duration": 778,
    "start_time": "2022-10-25T12:04:40.826Z"
   },
   {
    "duration": 72,
    "start_time": "2022-10-25T12:04:41.606Z"
   },
   {
    "duration": 4,
    "start_time": "2022-10-25T12:04:41.680Z"
   },
   {
    "duration": 139,
    "start_time": "2022-10-25T12:04:41.686Z"
   },
   {
    "duration": 0,
    "start_time": "2022-10-25T12:04:41.827Z"
   },
   {
    "duration": 0,
    "start_time": "2022-10-25T12:04:41.828Z"
   },
   {
    "duration": 0,
    "start_time": "2022-10-25T12:04:41.829Z"
   },
   {
    "duration": 29,
    "start_time": "2022-10-25T12:05:01.448Z"
   },
   {
    "duration": 36,
    "start_time": "2022-10-25T12:05:16.549Z"
   },
   {
    "duration": 19,
    "start_time": "2022-10-25T12:07:21.228Z"
   },
   {
    "duration": 844,
    "start_time": "2022-10-25T12:08:13.638Z"
   },
   {
    "duration": 17,
    "start_time": "2022-10-25T12:08:20.295Z"
   },
   {
    "duration": 843,
    "start_time": "2022-10-25T12:08:23.579Z"
   },
   {
    "duration": 20,
    "start_time": "2022-10-25T12:11:13.285Z"
   },
   {
    "duration": 12,
    "start_time": "2022-10-25T12:11:59.617Z"
   },
   {
    "duration": 13,
    "start_time": "2022-10-25T12:12:00.009Z"
   },
   {
    "duration": 3437,
    "start_time": "2022-10-25T12:12:22.485Z"
   },
   {
    "duration": 28231,
    "start_time": "2022-10-25T12:12:44.694Z"
   },
   {
    "duration": 144,
    "start_time": "2022-10-25T12:14:28.323Z"
   },
   {
    "duration": 141,
    "start_time": "2022-10-25T12:14:36.403Z"
   },
   {
    "duration": 1171,
    "start_time": "2022-10-25T12:15:28.760Z"
   },
   {
    "duration": 1332,
    "start_time": "2022-10-25T12:17:09.962Z"
   },
   {
    "duration": 13,
    "start_time": "2022-10-25T12:17:41.589Z"
   },
   {
    "duration": 77,
    "start_time": "2022-10-25T12:18:16.630Z"
   },
   {
    "duration": 10,
    "start_time": "2022-10-25T12:18:21.054Z"
   },
   {
    "duration": 1135,
    "start_time": "2022-10-25T12:18:21.606Z"
   },
   {
    "duration": 2673,
    "start_time": "2022-10-25T12:18:24.754Z"
   },
   {
    "duration": 28019,
    "start_time": "2022-10-25T12:18:28.486Z"
   },
   {
    "duration": 1090,
    "start_time": "2022-10-25T12:19:02.747Z"
   },
   {
    "duration": 6784,
    "start_time": "2022-10-25T12:20:02.079Z"
   },
   {
    "duration": 15,
    "start_time": "2022-10-25T12:20:40.684Z"
   },
   {
    "duration": 17,
    "start_time": "2022-10-25T12:21:21.496Z"
   },
   {
    "duration": 2820,
    "start_time": "2022-10-25T12:21:22.020Z"
   },
   {
    "duration": 28289,
    "start_time": "2022-10-25T12:21:24.923Z"
   },
   {
    "duration": 1036,
    "start_time": "2022-10-25T12:21:53.214Z"
   },
   {
    "duration": 32,
    "start_time": "2022-10-25T12:22:24.704Z"
   },
   {
    "duration": 74,
    "start_time": "2022-10-25T12:27:32.820Z"
   },
   {
    "duration": 15,
    "start_time": "2022-10-25T12:30:20.310Z"
   },
   {
    "duration": 127,
    "start_time": "2022-10-25T12:31:06.650Z"
   },
   {
    "duration": 131,
    "start_time": "2022-10-25T12:31:35.223Z"
   },
   {
    "duration": 33,
    "start_time": "2022-10-25T12:32:11.655Z"
   },
   {
    "duration": 23,
    "start_time": "2022-10-25T13:54:02.033Z"
   },
   {
    "duration": 1303,
    "start_time": "2022-10-25T13:54:18.747Z"
   },
   {
    "duration": 632,
    "start_time": "2022-10-25T13:54:20.052Z"
   },
   {
    "duration": 7,
    "start_time": "2022-10-25T13:54:20.686Z"
   },
   {
    "duration": 19,
    "start_time": "2022-10-25T13:54:20.694Z"
   },
   {
    "duration": 3,
    "start_time": "2022-10-25T13:54:20.715Z"
   },
   {
    "duration": 16,
    "start_time": "2022-10-25T13:54:20.719Z"
   },
   {
    "duration": 6,
    "start_time": "2022-10-25T13:54:20.736Z"
   },
   {
    "duration": 9,
    "start_time": "2022-10-25T13:54:20.744Z"
   },
   {
    "duration": 9,
    "start_time": "2022-10-25T13:54:20.754Z"
   },
   {
    "duration": 5,
    "start_time": "2022-10-25T13:54:20.764Z"
   },
   {
    "duration": 29,
    "start_time": "2022-10-25T13:54:20.770Z"
   },
   {
    "duration": 9,
    "start_time": "2022-10-25T13:54:20.801Z"
   },
   {
    "duration": 12536,
    "start_time": "2022-10-25T13:54:20.811Z"
   },
   {
    "duration": 4,
    "start_time": "2022-10-25T13:54:33.350Z"
   },
   {
    "duration": 172,
    "start_time": "2022-10-25T13:54:33.357Z"
   },
   {
    "duration": 170,
    "start_time": "2022-10-25T13:54:33.531Z"
   },
   {
    "duration": 178,
    "start_time": "2022-10-25T13:54:33.702Z"
   },
   {
    "duration": 441,
    "start_time": "2022-10-25T13:54:33.883Z"
   },
   {
    "duration": 8,
    "start_time": "2022-10-25T13:54:34.326Z"
   },
   {
    "duration": 6,
    "start_time": "2022-10-25T13:54:34.336Z"
   },
   {
    "duration": 184,
    "start_time": "2022-10-25T13:54:34.343Z"
   },
   {
    "duration": 708,
    "start_time": "2022-10-25T13:54:34.529Z"
   },
   {
    "duration": 55,
    "start_time": "2022-10-25T13:54:35.239Z"
   },
   {
    "duration": 3,
    "start_time": "2022-10-25T13:54:35.296Z"
   },
   {
    "duration": 30,
    "start_time": "2022-10-25T13:54:35.300Z"
   },
   {
    "duration": 178,
    "start_time": "2022-10-25T13:54:35.332Z"
   },
   {
    "duration": 0,
    "start_time": "2022-10-25T13:54:35.511Z"
   },
   {
    "duration": 0,
    "start_time": "2022-10-25T13:54:35.512Z"
   },
   {
    "duration": 0,
    "start_time": "2022-10-25T13:54:35.513Z"
   },
   {
    "duration": 26,
    "start_time": "2022-10-25T13:54:38.471Z"
   },
   {
    "duration": 9393,
    "start_time": "2022-10-25T13:55:12.035Z"
   },
   {
    "duration": 85,
    "start_time": "2022-10-25T13:55:30.880Z"
   },
   {
    "duration": 20,
    "start_time": "2022-10-25T13:55:44.641Z"
   },
   {
    "duration": 1994,
    "start_time": "2022-10-25T13:55:47.233Z"
   },
   {
    "duration": 27372,
    "start_time": "2022-10-25T13:55:49.230Z"
   },
   {
    "duration": 139,
    "start_time": "2022-10-25T13:56:20.682Z"
   },
   {
    "duration": 24,
    "start_time": "2022-10-25T13:56:50.148Z"
   },
   {
    "duration": 131,
    "start_time": "2022-10-25T13:56:55.135Z"
   },
   {
    "duration": 135,
    "start_time": "2022-10-25T13:57:13.780Z"
   },
   {
    "duration": 1086,
    "start_time": "2022-10-25T13:57:25.677Z"
   },
   {
    "duration": 17,
    "start_time": "2022-10-25T13:58:22.251Z"
   },
   {
    "duration": 12,
    "start_time": "2022-10-25T15:33:03.172Z"
   },
   {
    "duration": 31,
    "start_time": "2022-10-25T15:33:03.186Z"
   },
   {
    "duration": 2406,
    "start_time": "2022-10-25T15:33:03.219Z"
   },
   {
    "duration": 25855,
    "start_time": "2022-10-25T15:33:05.627Z"
   },
   {
    "duration": 1053,
    "start_time": "2022-10-25T15:33:31.484Z"
   },
   {
    "duration": 1072,
    "start_time": "2022-10-25T15:35:35.293Z"
   },
   {
    "duration": 1058,
    "start_time": "2022-10-25T15:37:15.531Z"
   },
   {
    "duration": 1028,
    "start_time": "2022-10-25T15:37:25.981Z"
   },
   {
    "duration": 588,
    "start_time": "2022-10-25T16:36:38.124Z"
   },
   {
    "duration": 1239,
    "start_time": "2022-10-25T16:37:03.981Z"
   },
   {
    "duration": 637,
    "start_time": "2022-10-25T16:37:05.222Z"
   },
   {
    "duration": 7,
    "start_time": "2022-10-25T16:37:05.860Z"
   },
   {
    "duration": 7,
    "start_time": "2022-10-25T16:37:05.869Z"
   },
   {
    "duration": 5,
    "start_time": "2022-10-25T16:37:05.877Z"
   },
   {
    "duration": 5,
    "start_time": "2022-10-25T16:37:05.884Z"
   },
   {
    "duration": 6,
    "start_time": "2022-10-25T16:37:05.890Z"
   },
   {
    "duration": 15,
    "start_time": "2022-10-25T16:37:05.897Z"
   },
   {
    "duration": 9,
    "start_time": "2022-10-25T16:37:05.913Z"
   },
   {
    "duration": 6,
    "start_time": "2022-10-25T16:37:05.925Z"
   },
   {
    "duration": 23,
    "start_time": "2022-10-25T16:37:05.932Z"
   },
   {
    "duration": 7,
    "start_time": "2022-10-25T16:37:05.956Z"
   },
   {
    "duration": 12092,
    "start_time": "2022-10-25T16:37:05.965Z"
   },
   {
    "duration": 5,
    "start_time": "2022-10-25T16:37:18.059Z"
   },
   {
    "duration": 165,
    "start_time": "2022-10-25T16:37:18.065Z"
   },
   {
    "duration": 144,
    "start_time": "2022-10-25T16:37:18.232Z"
   },
   {
    "duration": 144,
    "start_time": "2022-10-25T16:37:18.378Z"
   },
   {
    "duration": 370,
    "start_time": "2022-10-25T16:37:18.523Z"
   },
   {
    "duration": 9,
    "start_time": "2022-10-25T16:37:18.894Z"
   },
   {
    "duration": 5,
    "start_time": "2022-10-25T16:37:18.904Z"
   },
   {
    "duration": 163,
    "start_time": "2022-10-25T16:37:18.910Z"
   },
   {
    "duration": 696,
    "start_time": "2022-10-25T16:37:19.074Z"
   },
   {
    "duration": 62,
    "start_time": "2022-10-25T16:37:19.772Z"
   },
   {
    "duration": 4,
    "start_time": "2022-10-25T16:37:19.835Z"
   },
   {
    "duration": 14,
    "start_time": "2022-10-25T16:37:19.841Z"
   },
   {
    "duration": 36,
    "start_time": "2022-10-25T16:37:19.857Z"
   },
   {
    "duration": 2933,
    "start_time": "2022-10-25T16:37:19.895Z"
   },
   {
    "duration": 25693,
    "start_time": "2022-10-25T16:37:22.831Z"
   },
   {
    "duration": 1006,
    "start_time": "2022-10-25T16:37:48.525Z"
   },
   {
    "duration": 9,
    "start_time": "2022-10-25T16:39:24.950Z"
   },
   {
    "duration": 2996,
    "start_time": "2022-10-25T18:21:02.420Z"
   },
   {
    "duration": 3252,
    "start_time": "2022-10-25T18:21:05.419Z"
   },
   {
    "duration": 8,
    "start_time": "2022-10-25T18:21:08.673Z"
   },
   {
    "duration": 17,
    "start_time": "2022-10-25T18:21:08.683Z"
   },
   {
    "duration": 2,
    "start_time": "2022-10-25T18:21:08.703Z"
   },
   {
    "duration": 18,
    "start_time": "2022-10-25T18:21:08.707Z"
   },
   {
    "duration": 5,
    "start_time": "2022-10-25T18:21:08.727Z"
   },
   {
    "duration": 15,
    "start_time": "2022-10-25T18:21:08.734Z"
   },
   {
    "duration": 25,
    "start_time": "2022-10-25T18:21:08.750Z"
   },
   {
    "duration": 8,
    "start_time": "2022-10-25T18:21:08.777Z"
   },
   {
    "duration": 32,
    "start_time": "2022-10-25T18:21:08.786Z"
   },
   {
    "duration": 9,
    "start_time": "2022-10-25T18:21:08.821Z"
   },
   {
    "duration": 13648,
    "start_time": "2022-10-25T18:21:08.832Z"
   },
   {
    "duration": 6,
    "start_time": "2022-10-25T18:21:22.483Z"
   },
   {
    "duration": 198,
    "start_time": "2022-10-25T18:21:22.490Z"
   },
   {
    "duration": 196,
    "start_time": "2022-10-25T18:21:22.689Z"
   },
   {
    "duration": 189,
    "start_time": "2022-10-25T18:21:22.888Z"
   },
   {
    "duration": 485,
    "start_time": "2022-10-25T18:21:23.079Z"
   },
   {
    "duration": 11,
    "start_time": "2022-10-25T18:21:23.566Z"
   },
   {
    "duration": 6,
    "start_time": "2022-10-25T18:21:23.579Z"
   },
   {
    "duration": 191,
    "start_time": "2022-10-25T18:21:23.587Z"
   },
   {
    "duration": 831,
    "start_time": "2022-10-25T18:21:23.779Z"
   },
   {
    "duration": 75,
    "start_time": "2022-10-25T18:21:24.612Z"
   },
   {
    "duration": 6,
    "start_time": "2022-10-25T18:21:24.689Z"
   },
   {
    "duration": 21,
    "start_time": "2022-10-25T18:21:24.696Z"
   },
   {
    "duration": 49,
    "start_time": "2022-10-25T18:21:24.719Z"
   },
   {
    "duration": 116,
    "start_time": "2022-10-25T18:22:06.412Z"
   },
   {
    "duration": 17,
    "start_time": "2022-10-25T18:22:36.291Z"
   },
   {
    "duration": 49,
    "start_time": "2022-10-26T06:43:03.846Z"
   },
   {
    "duration": 1584,
    "start_time": "2022-10-26T06:43:15.721Z"
   },
   {
    "duration": 2950,
    "start_time": "2022-10-26T06:43:17.307Z"
   },
   {
    "duration": 8,
    "start_time": "2022-10-26T06:43:20.258Z"
   },
   {
    "duration": 18,
    "start_time": "2022-10-26T06:43:20.268Z"
   },
   {
    "duration": 8,
    "start_time": "2022-10-26T06:43:20.287Z"
   },
   {
    "duration": 6,
    "start_time": "2022-10-26T06:43:20.296Z"
   },
   {
    "duration": 6,
    "start_time": "2022-10-26T06:43:20.303Z"
   },
   {
    "duration": 7,
    "start_time": "2022-10-26T06:43:20.310Z"
   },
   {
    "duration": 6,
    "start_time": "2022-10-26T06:43:20.319Z"
   },
   {
    "duration": 7,
    "start_time": "2022-10-26T06:43:20.328Z"
   },
   {
    "duration": 27,
    "start_time": "2022-10-26T06:43:20.337Z"
   },
   {
    "duration": 9,
    "start_time": "2022-10-26T06:43:20.365Z"
   },
   {
    "duration": 12805,
    "start_time": "2022-10-26T06:43:20.376Z"
   },
   {
    "duration": 5,
    "start_time": "2022-10-26T06:43:33.183Z"
   },
   {
    "duration": 175,
    "start_time": "2022-10-26T06:43:33.190Z"
   },
   {
    "duration": 163,
    "start_time": "2022-10-26T06:43:33.366Z"
   },
   {
    "duration": 218,
    "start_time": "2022-10-26T06:43:33.530Z"
   },
   {
    "duration": 357,
    "start_time": "2022-10-26T06:43:33.749Z"
   },
   {
    "duration": 9,
    "start_time": "2022-10-26T06:43:34.108Z"
   },
   {
    "duration": 15,
    "start_time": "2022-10-26T06:43:34.119Z"
   },
   {
    "duration": 179,
    "start_time": "2022-10-26T06:43:34.136Z"
   },
   {
    "duration": 755,
    "start_time": "2022-10-26T06:43:34.316Z"
   },
   {
    "duration": 151,
    "start_time": "2022-10-26T06:43:35.072Z"
   },
   {
    "duration": 9,
    "start_time": "2022-10-26T06:43:35.225Z"
   },
   {
    "duration": 15,
    "start_time": "2022-10-26T06:43:35.235Z"
   },
   {
    "duration": 34,
    "start_time": "2022-10-26T06:43:35.251Z"
   },
   {
    "duration": 2750,
    "start_time": "2022-10-26T06:43:35.287Z"
   },
   {
    "duration": 29319,
    "start_time": "2022-10-26T06:43:38.041Z"
   },
   {
    "duration": 1206,
    "start_time": "2022-10-26T06:44:07.361Z"
   },
   {
    "duration": 356,
    "start_time": "2022-10-26T06:44:09.547Z"
   },
   {
    "duration": 365,
    "start_time": "2022-10-26T06:44:17.926Z"
   },
   {
    "duration": 441,
    "start_time": "2022-10-26T06:44:37.926Z"
   },
   {
    "duration": 510,
    "start_time": "2022-10-26T06:44:48.446Z"
   },
   {
    "duration": 458,
    "start_time": "2022-10-26T06:44:56.054Z"
   },
   {
    "duration": 356,
    "start_time": "2022-10-26T06:47:07.508Z"
   },
   {
    "duration": 3,
    "start_time": "2022-10-26T07:01:30.932Z"
   },
   {
    "duration": 5,
    "start_time": "2022-10-26T07:01:37.153Z"
   },
   {
    "duration": 115,
    "start_time": "2022-10-26T07:02:06.732Z"
   },
   {
    "duration": 9,
    "start_time": "2022-10-26T07:02:15.134Z"
   },
   {
    "duration": 10,
    "start_time": "2022-10-26T07:07:51.656Z"
   },
   {
    "duration": 1414,
    "start_time": "2022-10-26T07:07:57.933Z"
   },
   {
    "duration": 710,
    "start_time": "2022-10-26T07:07:59.349Z"
   },
   {
    "duration": 6,
    "start_time": "2022-10-26T07:08:00.061Z"
   },
   {
    "duration": 56,
    "start_time": "2022-10-26T07:08:00.069Z"
   },
   {
    "duration": 32,
    "start_time": "2022-10-26T07:08:00.127Z"
   },
   {
    "duration": 32,
    "start_time": "2022-10-26T07:08:00.161Z"
   },
   {
    "duration": 23,
    "start_time": "2022-10-26T07:08:00.195Z"
   },
   {
    "duration": 33,
    "start_time": "2022-10-26T07:08:00.220Z"
   },
   {
    "duration": 46,
    "start_time": "2022-10-26T07:08:00.255Z"
   },
   {
    "duration": 74,
    "start_time": "2022-10-26T07:08:00.302Z"
   },
   {
    "duration": 140,
    "start_time": "2022-10-26T07:08:00.378Z"
   },
   {
    "duration": 64,
    "start_time": "2022-10-26T07:08:00.520Z"
   },
   {
    "duration": 13779,
    "start_time": "2022-10-26T07:08:00.585Z"
   },
   {
    "duration": 5,
    "start_time": "2022-10-26T07:08:14.367Z"
   },
   {
    "duration": 180,
    "start_time": "2022-10-26T07:08:14.374Z"
   },
   {
    "duration": 164,
    "start_time": "2022-10-26T07:08:14.555Z"
   },
   {
    "duration": 170,
    "start_time": "2022-10-26T07:08:14.721Z"
   },
   {
    "duration": 460,
    "start_time": "2022-10-26T07:08:14.893Z"
   },
   {
    "duration": 11,
    "start_time": "2022-10-26T07:08:15.354Z"
   },
   {
    "duration": 125,
    "start_time": "2022-10-26T07:08:15.366Z"
   },
   {
    "duration": 194,
    "start_time": "2022-10-26T07:08:15.493Z"
   },
   {
    "duration": 914,
    "start_time": "2022-10-26T07:08:15.689Z"
   },
   {
    "duration": 73,
    "start_time": "2022-10-26T07:08:16.604Z"
   },
   {
    "duration": 4,
    "start_time": "2022-10-26T07:08:16.679Z"
   },
   {
    "duration": 143,
    "start_time": "2022-10-26T07:08:16.685Z"
   },
   {
    "duration": 0,
    "start_time": "2022-10-26T07:08:16.830Z"
   },
   {
    "duration": 0,
    "start_time": "2022-10-26T07:08:16.833Z"
   },
   {
    "duration": 0,
    "start_time": "2022-10-26T07:08:16.834Z"
   },
   {
    "duration": 0,
    "start_time": "2022-10-26T07:08:16.835Z"
   },
   {
    "duration": 0,
    "start_time": "2022-10-26T07:08:16.837Z"
   },
   {
    "duration": 4,
    "start_time": "2022-10-26T07:08:23.733Z"
   },
   {
    "duration": 9,
    "start_time": "2022-10-26T07:08:39.080Z"
   },
   {
    "duration": 17,
    "start_time": "2022-10-26T07:08:56.340Z"
   },
   {
    "duration": 386,
    "start_time": "2022-10-26T07:10:01.240Z"
   },
   {
    "duration": 418,
    "start_time": "2022-10-26T07:10:30.793Z"
   },
   {
    "duration": 11,
    "start_time": "2022-10-26T07:11:08.385Z"
   },
   {
    "duration": 11,
    "start_time": "2022-10-26T07:11:18.942Z"
   },
   {
    "duration": 9,
    "start_time": "2022-10-26T07:11:28.609Z"
   },
   {
    "duration": 5,
    "start_time": "2022-10-26T07:11:44.090Z"
   },
   {
    "duration": 7,
    "start_time": "2022-10-26T07:12:07.506Z"
   },
   {
    "duration": 45,
    "start_time": "2022-10-26T07:12:14.350Z"
   },
   {
    "duration": 22,
    "start_time": "2022-10-26T07:12:27.962Z"
   },
   {
    "duration": 8,
    "start_time": "2022-10-26T07:15:29.852Z"
   },
   {
    "duration": 11,
    "start_time": "2022-10-26T07:16:42.241Z"
   },
   {
    "duration": 5,
    "start_time": "2022-10-26T07:16:47.677Z"
   },
   {
    "duration": 8,
    "start_time": "2022-10-26T07:16:47.809Z"
   },
   {
    "duration": 16,
    "start_time": "2022-10-26T07:16:48.436Z"
   },
   {
    "duration": 68,
    "start_time": "2022-10-26T07:17:55.737Z"
   },
   {
    "duration": 10,
    "start_time": "2022-10-26T07:18:06.634Z"
   },
   {
    "duration": 10,
    "start_time": "2022-10-26T07:19:20.258Z"
   },
   {
    "duration": 7,
    "start_time": "2022-10-26T07:19:23.942Z"
   },
   {
    "duration": 10,
    "start_time": "2022-10-26T07:19:24.337Z"
   },
   {
    "duration": 10,
    "start_time": "2022-10-26T07:19:24.866Z"
   },
   {
    "duration": 5,
    "start_time": "2022-10-26T07:20:08.087Z"
   },
   {
    "duration": 6,
    "start_time": "2022-10-26T07:20:19.740Z"
   },
   {
    "duration": 8,
    "start_time": "2022-10-26T07:20:28.850Z"
   },
   {
    "duration": 31,
    "start_time": "2022-10-26T07:21:16.067Z"
   },
   {
    "duration": 2226,
    "start_time": "2022-10-26T07:21:32.308Z"
   },
   {
    "duration": 22234,
    "start_time": "2022-10-26T07:21:44.584Z"
   },
   {
    "duration": 337,
    "start_time": "2022-10-26T07:23:51.732Z"
   },
   {
    "duration": 7,
    "start_time": "2022-10-26T07:28:16.635Z"
   },
   {
    "duration": 33,
    "start_time": "2022-10-26T07:30:30.253Z"
   },
   {
    "duration": 36,
    "start_time": "2022-10-26T07:31:22.170Z"
   },
   {
    "duration": 2033,
    "start_time": "2022-10-26T07:31:23.705Z"
   },
   {
    "duration": 22666,
    "start_time": "2022-10-26T07:31:25.742Z"
   },
   {
    "duration": 314,
    "start_time": "2022-10-26T07:31:54.949Z"
   },
   {
    "duration": 3,
    "start_time": "2022-10-26T07:32:33.082Z"
   },
   {
    "duration": 4,
    "start_time": "2022-10-26T07:38:45.062Z"
   },
   {
    "duration": 9,
    "start_time": "2022-10-26T07:40:14.345Z"
   },
   {
    "duration": 8,
    "start_time": "2022-10-26T07:40:31.858Z"
   },
   {
    "duration": 51,
    "start_time": "2022-10-26T18:40:49.259Z"
   },
   {
    "duration": 1613,
    "start_time": "2022-10-26T18:41:19.712Z"
   },
   {
    "duration": 1857,
    "start_time": "2022-10-26T18:41:21.327Z"
   },
   {
    "duration": 8,
    "start_time": "2022-10-26T18:41:23.185Z"
   },
   {
    "duration": 7,
    "start_time": "2022-10-26T18:41:23.195Z"
   },
   {
    "duration": 3,
    "start_time": "2022-10-26T18:41:23.203Z"
   },
   {
    "duration": 3,
    "start_time": "2022-10-26T18:41:23.208Z"
   },
   {
    "duration": 4,
    "start_time": "2022-10-26T18:41:23.212Z"
   },
   {
    "duration": 4,
    "start_time": "2022-10-26T18:41:23.218Z"
   },
   {
    "duration": 2,
    "start_time": "2022-10-26T18:41:23.229Z"
   },
   {
    "duration": 4,
    "start_time": "2022-10-26T18:41:23.233Z"
   },
   {
    "duration": 24,
    "start_time": "2022-10-26T18:41:23.239Z"
   },
   {
    "duration": 10,
    "start_time": "2022-10-26T18:41:23.265Z"
   },
   {
    "duration": 14116,
    "start_time": "2022-10-26T18:41:23.276Z"
   },
   {
    "duration": 7,
    "start_time": "2022-10-26T18:41:37.393Z"
   },
   {
    "duration": 185,
    "start_time": "2022-10-26T18:41:37.402Z"
   },
   {
    "duration": 174,
    "start_time": "2022-10-26T18:41:37.589Z"
   },
   {
    "duration": 174,
    "start_time": "2022-10-26T18:41:37.765Z"
   },
   {
    "duration": 584,
    "start_time": "2022-10-26T18:41:37.941Z"
   },
   {
    "duration": 10,
    "start_time": "2022-10-26T18:41:38.528Z"
   },
   {
    "duration": 8,
    "start_time": "2022-10-26T18:41:38.540Z"
   },
   {
    "duration": 187,
    "start_time": "2022-10-26T18:41:38.550Z"
   },
   {
    "duration": 833,
    "start_time": "2022-10-26T18:41:38.738Z"
   },
   {
    "duration": 69,
    "start_time": "2022-10-26T18:41:39.573Z"
   },
   {
    "duration": 4,
    "start_time": "2022-10-26T18:41:39.644Z"
   },
   {
    "duration": 9,
    "start_time": "2022-10-26T18:41:39.650Z"
   },
   {
    "duration": 10,
    "start_time": "2022-10-26T18:41:39.660Z"
   },
   {
    "duration": 14,
    "start_time": "2022-10-26T18:41:39.671Z"
   },
   {
    "duration": 57,
    "start_time": "2022-10-26T18:41:39.688Z"
   },
   {
    "duration": 2688,
    "start_time": "2022-10-26T18:41:39.747Z"
   },
   {
    "duration": 20946,
    "start_time": "2022-10-26T18:41:42.440Z"
   },
   {
    "duration": 548,
    "start_time": "2022-10-26T18:42:03.387Z"
   },
   {
    "duration": 93,
    "start_time": "2022-10-26T18:42:03.938Z"
   },
   {
    "duration": 363,
    "start_time": "2022-10-26T18:44:55.482Z"
   },
   {
    "duration": 10,
    "start_time": "2022-10-26T18:45:02.922Z"
   },
   {
    "duration": 391,
    "start_time": "2022-10-26T18:46:53.256Z"
   },
   {
    "duration": 391,
    "start_time": "2022-10-26T18:47:02.468Z"
   }
  ],
  "kernelspec": {
   "display_name": "Python 3 (ipykernel)",
   "language": "python",
   "name": "python3"
  },
  "language_info": {
   "codemirror_mode": {
    "name": "ipython",
    "version": 3
   },
   "file_extension": ".py",
   "mimetype": "text/x-python",
   "name": "python",
   "nbconvert_exporter": "python",
   "pygments_lexer": "ipython3",
   "version": "3.9.12"
  },
  "toc": {
   "base_numbering": 1,
   "nav_menu": {},
   "number_sections": true,
   "sideBar": true,
   "skip_h1_title": true,
   "title_cell": "Содержание",
   "title_sidebar": "Contents",
   "toc_cell": true,
   "toc_position": {
    "height": "calc(100% - 180px)",
    "left": "10px",
    "top": "150px",
    "width": "165px"
   },
   "toc_section_display": true,
   "toc_window_display": true
  }
 },
 "nbformat": 4,
 "nbformat_minor": 2
}
